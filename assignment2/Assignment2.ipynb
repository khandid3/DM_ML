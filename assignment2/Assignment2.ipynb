{
  "nbformat": 4,
  "nbformat_minor": 0,
  "metadata": {
    "colab": {
      "name": "Assignment2.ipynb",
      "provenance": [],
      "collapsed_sections": []
    },
    "kernelspec": {
      "name": "python3",
      "display_name": "Python 3"
    },
    "language_info": {
      "name": "python"
    }
  },
  "cells": [
    {
      "cell_type": "markdown",
      "metadata": {
        "id": "xKZsLA54_9EO"
      },
      "source": [
        "# Data Mining and Machine Learning - Assignment 2\n",
        "\n",
        "> Topics Covered: Classification (week 6 to week 7)\n",
        "\n",
        "**Due: Sunday November 21, 11.59pm**\n",
        "\n",
        "\n",
        "To complete the assignment you have to do ***both***:\n",
        "\n",
        "1. Complete the exercises and [submit your Python notebook](https://moodle.unil.ch/mod/assign/view.php?id=1182268)\n",
        "2. Answer the questions to the [quiz on Moodle](https://moodle.unil.ch/mod/quiz/view.php?id=1182280)\n",
        ">Note: You can only complete the quiz *one time*. Have your notebook ready with your solutions for answering the quiz. \n",
        "\n",
        "The answers to the quiz should be supported by your code in the notebook. If they are not you will not receive points for them.\n",
        "\n",
        "**IMPORTANT!** You can discuss the questions with other students but **do not exchange code!** This is individual work. We will run your code and check for similarities.\n",
        "\n",
        "You can post your questions in [slack channel #assignment_questions](https://app.slack.com/client/T02C4KVGVMX/C02BBA2TFQF).\n",
        "\n",
        "\n",
        "If there is need for further clarifications on the questions, after the assignment is released, we will update this file on GitHub, so make sure you check the git repo for updates.\n",
        "\n",
        "To get started, run the first few cells to load the dataset and then check out the questions.\n",
        "\n",
        "Good luck!"
      ]
    },
    {
      "cell_type": "code",
      "metadata": {
        "id": "lzK7uuJqBf-g"
      },
      "source": [
        "# Import required packages\n",
        "\n",
        "%matplotlib inline\n",
        "import numpy as np\n",
        "import matplotlib.pyplot as plt\n",
        "import pandas as pd \n",
        "import seaborn as sns\n",
        "sns.set_style(\"whitegrid\")"
      ],
      "execution_count": 295,
      "outputs": []
    },
    {
      "cell_type": "markdown",
      "metadata": {
        "id": "gV9UH9Y9CDUb"
      },
      "source": [
        "**Important!**\n",
        "\n",
        "**For all the questions below, fix the seed of random generators to 72.**"
      ]
    },
    {
      "cell_type": "code",
      "metadata": {
        "id": "nfz1e8kmB3fw"
      },
      "source": [
        "np.random.seed = 72"
      ],
      "execution_count": 296,
      "outputs": []
    },
    {
      "cell_type": "markdown",
      "metadata": {
        "id": "zkMhOCYSCOmH"
      },
      "source": [
        "# Classification\n",
        "\n",
        "For the first part we use employee retention data from [Kaggle](https://www.kaggle.com/pankeshpatel/hrcommasep). The dataset contains HR information on a company's employees such as:\n",
        "* satisfaction level, ranges from 0 to 1\n",
        "* score of the last evaluation they received, ranges from 0 to 1\n",
        "* number of projects in which the employee is involved \n",
        "* average number of hours worked per month\n",
        "* years spent with the company\n",
        "* whether they experienced a work accident (1 if yes, 0 if no)\n",
        "* whether they left thier job (1) or stayed with the company (0)\n",
        "* whether they received a promotion in the last 5 years (1 if yes, 0 if no)\n",
        "* the department in which they work\n",
        "* whether their salary was low, medium or high.\n",
        "\n",
        "### _Your task is to build a model that predicts whether an employee stays (0) or leaves the company (1)._\n",
        "\n",
        "### 1. Load the data"
      ]
    },
    {
      "cell_type": "code",
      "metadata": {
        "id": "r8vG7eB6FBFe",
        "colab": {
          "base_uri": "https://localhost:8080/",
          "height": 224
        },
        "outputId": "381d8032-ed9b-4164-da0e-35cff6c03775"
      },
      "source": [
        "# Load data\n",
        "df=pd.read_csv('https://raw.githubusercontent.com/michalis0/DataMining_and_MachineLearning/master/data/HR_comma_sep.csv')\n",
        "df.head()"
      ],
      "execution_count": 297,
      "outputs": [
        {
          "output_type": "execute_result",
          "data": {
            "text/html": [
              "<div>\n",
              "<style scoped>\n",
              "    .dataframe tbody tr th:only-of-type {\n",
              "        vertical-align: middle;\n",
              "    }\n",
              "\n",
              "    .dataframe tbody tr th {\n",
              "        vertical-align: top;\n",
              "    }\n",
              "\n",
              "    .dataframe thead th {\n",
              "        text-align: right;\n",
              "    }\n",
              "</style>\n",
              "<table border=\"1\" class=\"dataframe\">\n",
              "  <thead>\n",
              "    <tr style=\"text-align: right;\">\n",
              "      <th></th>\n",
              "      <th>satisfaction_level</th>\n",
              "      <th>last_evaluation</th>\n",
              "      <th>number_project</th>\n",
              "      <th>average_monthly_hours</th>\n",
              "      <th>time_spent_company</th>\n",
              "      <th>work_accident</th>\n",
              "      <th>left</th>\n",
              "      <th>promotion_last_5years</th>\n",
              "      <th>department</th>\n",
              "      <th>salary</th>\n",
              "    </tr>\n",
              "  </thead>\n",
              "  <tbody>\n",
              "    <tr>\n",
              "      <th>0</th>\n",
              "      <td>0.38</td>\n",
              "      <td>0.53</td>\n",
              "      <td>2</td>\n",
              "      <td>157</td>\n",
              "      <td>3</td>\n",
              "      <td>0</td>\n",
              "      <td>1</td>\n",
              "      <td>0</td>\n",
              "      <td>sales</td>\n",
              "      <td>low</td>\n",
              "    </tr>\n",
              "    <tr>\n",
              "      <th>1</th>\n",
              "      <td>0.80</td>\n",
              "      <td>0.86</td>\n",
              "      <td>5</td>\n",
              "      <td>262</td>\n",
              "      <td>6</td>\n",
              "      <td>0</td>\n",
              "      <td>1</td>\n",
              "      <td>0</td>\n",
              "      <td>sales</td>\n",
              "      <td>medium</td>\n",
              "    </tr>\n",
              "    <tr>\n",
              "      <th>2</th>\n",
              "      <td>0.11</td>\n",
              "      <td>0.88</td>\n",
              "      <td>7</td>\n",
              "      <td>272</td>\n",
              "      <td>4</td>\n",
              "      <td>0</td>\n",
              "      <td>1</td>\n",
              "      <td>0</td>\n",
              "      <td>sales</td>\n",
              "      <td>medium</td>\n",
              "    </tr>\n",
              "    <tr>\n",
              "      <th>3</th>\n",
              "      <td>0.72</td>\n",
              "      <td>0.87</td>\n",
              "      <td>5</td>\n",
              "      <td>223</td>\n",
              "      <td>5</td>\n",
              "      <td>0</td>\n",
              "      <td>1</td>\n",
              "      <td>0</td>\n",
              "      <td>sales</td>\n",
              "      <td>low</td>\n",
              "    </tr>\n",
              "    <tr>\n",
              "      <th>4</th>\n",
              "      <td>0.37</td>\n",
              "      <td>0.52</td>\n",
              "      <td>2</td>\n",
              "      <td>159</td>\n",
              "      <td>3</td>\n",
              "      <td>0</td>\n",
              "      <td>1</td>\n",
              "      <td>0</td>\n",
              "      <td>sales</td>\n",
              "      <td>low</td>\n",
              "    </tr>\n",
              "  </tbody>\n",
              "</table>\n",
              "</div>"
            ],
            "text/plain": [
              "   satisfaction_level  last_evaluation  ...  department  salary\n",
              "0                0.38             0.53  ...       sales     low\n",
              "1                0.80             0.86  ...       sales  medium\n",
              "2                0.11             0.88  ...       sales  medium\n",
              "3                0.72             0.87  ...       sales     low\n",
              "4                0.37             0.52  ...       sales     low\n",
              "\n",
              "[5 rows x 10 columns]"
            ]
          },
          "metadata": {},
          "execution_count": 297
        }
      ]
    },
    {
      "cell_type": "markdown",
      "metadata": {
        "id": "XjJUPGBhGkWl"
      },
      "source": [
        "#### 1.1. How many rows and columns does the dataset have?"
      ]
    },
    {
      "cell_type": "code",
      "metadata": {
        "id": "t2vhggADGC_j",
        "colab": {
          "base_uri": "https://localhost:8080/"
        },
        "outputId": "b43b3eb7-dd65-4fc6-ff03-452d3b7854bf"
      },
      "source": [
        "#your code here\n",
        "df.shape"
      ],
      "execution_count": 298,
      "outputs": [
        {
          "output_type": "execute_result",
          "data": {
            "text/plain": [
              "(14999, 10)"
            ]
          },
          "metadata": {},
          "execution_count": 298
        }
      ]
    },
    {
      "cell_type": "markdown",
      "metadata": {
        "id": "CKhxJGwek5Uo"
      },
      "source": [
        "#### 1.2. Looking at the `left` column, which shows 1 if an employee left their job and 0 if they stayed, calculate and show the frequency of each class in the total dataset. "
      ]
    },
    {
      "cell_type": "code",
      "metadata": {
        "id": "0Lk2MlFJlgXx",
        "colab": {
          "base_uri": "https://localhost:8080/"
        },
        "outputId": "df4bc537-8d57-46c3-986b-d6687146ac28"
      },
      "source": [
        "df.left.value_counts() / len(df.left)\n"
      ],
      "execution_count": 299,
      "outputs": [
        {
          "output_type": "execute_result",
          "data": {
            "text/plain": [
              "0    0.761917\n",
              "1    0.238083\n",
              "Name: left, dtype: float64"
            ]
          },
          "metadata": {},
          "execution_count": 299
        }
      ]
    },
    {
      "cell_type": "markdown",
      "metadata": {
        "id": "aoopUs5tImLE"
      },
      "source": [
        "\n",
        "### 2. Encode categorical variables\n",
        "\n",
        "\n",
        "For the following categorical features:\n",
        "- encode `salary` with two different encoders: a label encoder, an ordinal encoder (keep both), and\n",
        "- `department` with one hot encoding. \n",
        "\n"
      ]
    },
    {
      "cell_type": "code",
      "metadata": {
        "id": "zQXR8WIZLRNE"
      },
      "source": [
        "# import some additional packages\n",
        "from sklearn.preprocessing import OrdinalEncoder, OneHotEncoder, LabelEncoder\n",
        "from sklearn.linear_model import LogisticRegression, LogisticRegressionCV\n",
        "from sklearn.model_selection import train_test_split\n",
        "from sklearn.metrics import confusion_matrix, accuracy_score, precision_score, recall_score, f1_score\n",
        "from sklearn. preprocessing import StandardScaler"
      ],
      "execution_count": 300,
      "outputs": []
    },
    {
      "cell_type": "markdown",
      "metadata": {
        "id": "sjAsVeI_ZL35"
      },
      "source": [
        "#### 2.1. Use a LabelEncoder to encode `salary` as `le_salary`."
      ]
    },
    {
      "cell_type": "code",
      "metadata": {
        "id": "VT14zC0LZTb5",
        "colab": {
          "base_uri": "https://localhost:8080/",
          "height": 439
        },
        "outputId": "00f7c9cd-1721-4385-a921-8691520fb40a"
      },
      "source": [
        "le = LabelEncoder()\n",
        "df['le_salary'] = pd.Series(le.fit_transform(df.salary))\n",
        "df.head()\n",
        "# 1 : low\n",
        "# 2 : medium\n",
        "df"
      ],
      "execution_count": 301,
      "outputs": [
        {
          "output_type": "execute_result",
          "data": {
            "text/html": [
              "<div>\n",
              "<style scoped>\n",
              "    .dataframe tbody tr th:only-of-type {\n",
              "        vertical-align: middle;\n",
              "    }\n",
              "\n",
              "    .dataframe tbody tr th {\n",
              "        vertical-align: top;\n",
              "    }\n",
              "\n",
              "    .dataframe thead th {\n",
              "        text-align: right;\n",
              "    }\n",
              "</style>\n",
              "<table border=\"1\" class=\"dataframe\">\n",
              "  <thead>\n",
              "    <tr style=\"text-align: right;\">\n",
              "      <th></th>\n",
              "      <th>satisfaction_level</th>\n",
              "      <th>last_evaluation</th>\n",
              "      <th>number_project</th>\n",
              "      <th>average_monthly_hours</th>\n",
              "      <th>time_spent_company</th>\n",
              "      <th>work_accident</th>\n",
              "      <th>left</th>\n",
              "      <th>promotion_last_5years</th>\n",
              "      <th>department</th>\n",
              "      <th>salary</th>\n",
              "      <th>le_salary</th>\n",
              "    </tr>\n",
              "  </thead>\n",
              "  <tbody>\n",
              "    <tr>\n",
              "      <th>0</th>\n",
              "      <td>0.38</td>\n",
              "      <td>0.53</td>\n",
              "      <td>2</td>\n",
              "      <td>157</td>\n",
              "      <td>3</td>\n",
              "      <td>0</td>\n",
              "      <td>1</td>\n",
              "      <td>0</td>\n",
              "      <td>sales</td>\n",
              "      <td>low</td>\n",
              "      <td>1</td>\n",
              "    </tr>\n",
              "    <tr>\n",
              "      <th>1</th>\n",
              "      <td>0.80</td>\n",
              "      <td>0.86</td>\n",
              "      <td>5</td>\n",
              "      <td>262</td>\n",
              "      <td>6</td>\n",
              "      <td>0</td>\n",
              "      <td>1</td>\n",
              "      <td>0</td>\n",
              "      <td>sales</td>\n",
              "      <td>medium</td>\n",
              "      <td>2</td>\n",
              "    </tr>\n",
              "    <tr>\n",
              "      <th>2</th>\n",
              "      <td>0.11</td>\n",
              "      <td>0.88</td>\n",
              "      <td>7</td>\n",
              "      <td>272</td>\n",
              "      <td>4</td>\n",
              "      <td>0</td>\n",
              "      <td>1</td>\n",
              "      <td>0</td>\n",
              "      <td>sales</td>\n",
              "      <td>medium</td>\n",
              "      <td>2</td>\n",
              "    </tr>\n",
              "    <tr>\n",
              "      <th>3</th>\n",
              "      <td>0.72</td>\n",
              "      <td>0.87</td>\n",
              "      <td>5</td>\n",
              "      <td>223</td>\n",
              "      <td>5</td>\n",
              "      <td>0</td>\n",
              "      <td>1</td>\n",
              "      <td>0</td>\n",
              "      <td>sales</td>\n",
              "      <td>low</td>\n",
              "      <td>1</td>\n",
              "    </tr>\n",
              "    <tr>\n",
              "      <th>4</th>\n",
              "      <td>0.37</td>\n",
              "      <td>0.52</td>\n",
              "      <td>2</td>\n",
              "      <td>159</td>\n",
              "      <td>3</td>\n",
              "      <td>0</td>\n",
              "      <td>1</td>\n",
              "      <td>0</td>\n",
              "      <td>sales</td>\n",
              "      <td>low</td>\n",
              "      <td>1</td>\n",
              "    </tr>\n",
              "    <tr>\n",
              "      <th>...</th>\n",
              "      <td>...</td>\n",
              "      <td>...</td>\n",
              "      <td>...</td>\n",
              "      <td>...</td>\n",
              "      <td>...</td>\n",
              "      <td>...</td>\n",
              "      <td>...</td>\n",
              "      <td>...</td>\n",
              "      <td>...</td>\n",
              "      <td>...</td>\n",
              "      <td>...</td>\n",
              "    </tr>\n",
              "    <tr>\n",
              "      <th>14994</th>\n",
              "      <td>0.40</td>\n",
              "      <td>0.57</td>\n",
              "      <td>2</td>\n",
              "      <td>151</td>\n",
              "      <td>3</td>\n",
              "      <td>0</td>\n",
              "      <td>1</td>\n",
              "      <td>0</td>\n",
              "      <td>support</td>\n",
              "      <td>low</td>\n",
              "      <td>1</td>\n",
              "    </tr>\n",
              "    <tr>\n",
              "      <th>14995</th>\n",
              "      <td>0.37</td>\n",
              "      <td>0.48</td>\n",
              "      <td>2</td>\n",
              "      <td>160</td>\n",
              "      <td>3</td>\n",
              "      <td>0</td>\n",
              "      <td>1</td>\n",
              "      <td>0</td>\n",
              "      <td>support</td>\n",
              "      <td>low</td>\n",
              "      <td>1</td>\n",
              "    </tr>\n",
              "    <tr>\n",
              "      <th>14996</th>\n",
              "      <td>0.37</td>\n",
              "      <td>0.53</td>\n",
              "      <td>2</td>\n",
              "      <td>143</td>\n",
              "      <td>3</td>\n",
              "      <td>0</td>\n",
              "      <td>1</td>\n",
              "      <td>0</td>\n",
              "      <td>support</td>\n",
              "      <td>low</td>\n",
              "      <td>1</td>\n",
              "    </tr>\n",
              "    <tr>\n",
              "      <th>14997</th>\n",
              "      <td>0.11</td>\n",
              "      <td>0.96</td>\n",
              "      <td>6</td>\n",
              "      <td>280</td>\n",
              "      <td>4</td>\n",
              "      <td>0</td>\n",
              "      <td>1</td>\n",
              "      <td>0</td>\n",
              "      <td>support</td>\n",
              "      <td>low</td>\n",
              "      <td>1</td>\n",
              "    </tr>\n",
              "    <tr>\n",
              "      <th>14998</th>\n",
              "      <td>0.37</td>\n",
              "      <td>0.52</td>\n",
              "      <td>2</td>\n",
              "      <td>158</td>\n",
              "      <td>3</td>\n",
              "      <td>0</td>\n",
              "      <td>1</td>\n",
              "      <td>0</td>\n",
              "      <td>support</td>\n",
              "      <td>low</td>\n",
              "      <td>1</td>\n",
              "    </tr>\n",
              "  </tbody>\n",
              "</table>\n",
              "<p>14999 rows × 11 columns</p>\n",
              "</div>"
            ],
            "text/plain": [
              "       satisfaction_level  last_evaluation  ...  salary  le_salary\n",
              "0                    0.38             0.53  ...     low          1\n",
              "1                    0.80             0.86  ...  medium          2\n",
              "2                    0.11             0.88  ...  medium          2\n",
              "3                    0.72             0.87  ...     low          1\n",
              "4                    0.37             0.52  ...     low          1\n",
              "...                   ...              ...  ...     ...        ...\n",
              "14994                0.40             0.57  ...     low          1\n",
              "14995                0.37             0.48  ...     low          1\n",
              "14996                0.37             0.53  ...     low          1\n",
              "14997                0.11             0.96  ...     low          1\n",
              "14998                0.37             0.52  ...     low          1\n",
              "\n",
              "[14999 rows x 11 columns]"
            ]
          },
          "metadata": {},
          "execution_count": 301
        }
      ]
    },
    {
      "cell_type": "markdown",
      "metadata": {
        "id": "rT76Rg8nXX5X"
      },
      "source": [
        "#### 2.2. Use an Ordinal Encoder to encode `salary` as `oe_salary`. For the ordinal encoding you should set your own dictionary such that `low salary` corresponds to 0, 1 to medium and 2 to high. "
      ]
    },
    {
      "cell_type": "code",
      "metadata": {
        "id": "MlaIHaSDOttB",
        "colab": {
          "base_uri": "https://localhost:8080/",
          "height": 439
        },
        "outputId": "39e72d79-2773-4a1d-b031-7bbb45932680"
      },
      "source": [
        "df['oe_salary'] = [0 if x == 'low'\n",
        "                  else 1 if x == 'medium'\n",
        "                  else 2 for x in df.salary]\n",
        "df"
      ],
      "execution_count": 302,
      "outputs": [
        {
          "output_type": "execute_result",
          "data": {
            "text/html": [
              "<div>\n",
              "<style scoped>\n",
              "    .dataframe tbody tr th:only-of-type {\n",
              "        vertical-align: middle;\n",
              "    }\n",
              "\n",
              "    .dataframe tbody tr th {\n",
              "        vertical-align: top;\n",
              "    }\n",
              "\n",
              "    .dataframe thead th {\n",
              "        text-align: right;\n",
              "    }\n",
              "</style>\n",
              "<table border=\"1\" class=\"dataframe\">\n",
              "  <thead>\n",
              "    <tr style=\"text-align: right;\">\n",
              "      <th></th>\n",
              "      <th>satisfaction_level</th>\n",
              "      <th>last_evaluation</th>\n",
              "      <th>number_project</th>\n",
              "      <th>average_monthly_hours</th>\n",
              "      <th>time_spent_company</th>\n",
              "      <th>work_accident</th>\n",
              "      <th>left</th>\n",
              "      <th>promotion_last_5years</th>\n",
              "      <th>department</th>\n",
              "      <th>salary</th>\n",
              "      <th>le_salary</th>\n",
              "      <th>oe_salary</th>\n",
              "    </tr>\n",
              "  </thead>\n",
              "  <tbody>\n",
              "    <tr>\n",
              "      <th>0</th>\n",
              "      <td>0.38</td>\n",
              "      <td>0.53</td>\n",
              "      <td>2</td>\n",
              "      <td>157</td>\n",
              "      <td>3</td>\n",
              "      <td>0</td>\n",
              "      <td>1</td>\n",
              "      <td>0</td>\n",
              "      <td>sales</td>\n",
              "      <td>low</td>\n",
              "      <td>1</td>\n",
              "      <td>0</td>\n",
              "    </tr>\n",
              "    <tr>\n",
              "      <th>1</th>\n",
              "      <td>0.80</td>\n",
              "      <td>0.86</td>\n",
              "      <td>5</td>\n",
              "      <td>262</td>\n",
              "      <td>6</td>\n",
              "      <td>0</td>\n",
              "      <td>1</td>\n",
              "      <td>0</td>\n",
              "      <td>sales</td>\n",
              "      <td>medium</td>\n",
              "      <td>2</td>\n",
              "      <td>1</td>\n",
              "    </tr>\n",
              "    <tr>\n",
              "      <th>2</th>\n",
              "      <td>0.11</td>\n",
              "      <td>0.88</td>\n",
              "      <td>7</td>\n",
              "      <td>272</td>\n",
              "      <td>4</td>\n",
              "      <td>0</td>\n",
              "      <td>1</td>\n",
              "      <td>0</td>\n",
              "      <td>sales</td>\n",
              "      <td>medium</td>\n",
              "      <td>2</td>\n",
              "      <td>1</td>\n",
              "    </tr>\n",
              "    <tr>\n",
              "      <th>3</th>\n",
              "      <td>0.72</td>\n",
              "      <td>0.87</td>\n",
              "      <td>5</td>\n",
              "      <td>223</td>\n",
              "      <td>5</td>\n",
              "      <td>0</td>\n",
              "      <td>1</td>\n",
              "      <td>0</td>\n",
              "      <td>sales</td>\n",
              "      <td>low</td>\n",
              "      <td>1</td>\n",
              "      <td>0</td>\n",
              "    </tr>\n",
              "    <tr>\n",
              "      <th>4</th>\n",
              "      <td>0.37</td>\n",
              "      <td>0.52</td>\n",
              "      <td>2</td>\n",
              "      <td>159</td>\n",
              "      <td>3</td>\n",
              "      <td>0</td>\n",
              "      <td>1</td>\n",
              "      <td>0</td>\n",
              "      <td>sales</td>\n",
              "      <td>low</td>\n",
              "      <td>1</td>\n",
              "      <td>0</td>\n",
              "    </tr>\n",
              "    <tr>\n",
              "      <th>...</th>\n",
              "      <td>...</td>\n",
              "      <td>...</td>\n",
              "      <td>...</td>\n",
              "      <td>...</td>\n",
              "      <td>...</td>\n",
              "      <td>...</td>\n",
              "      <td>...</td>\n",
              "      <td>...</td>\n",
              "      <td>...</td>\n",
              "      <td>...</td>\n",
              "      <td>...</td>\n",
              "      <td>...</td>\n",
              "    </tr>\n",
              "    <tr>\n",
              "      <th>14994</th>\n",
              "      <td>0.40</td>\n",
              "      <td>0.57</td>\n",
              "      <td>2</td>\n",
              "      <td>151</td>\n",
              "      <td>3</td>\n",
              "      <td>0</td>\n",
              "      <td>1</td>\n",
              "      <td>0</td>\n",
              "      <td>support</td>\n",
              "      <td>low</td>\n",
              "      <td>1</td>\n",
              "      <td>0</td>\n",
              "    </tr>\n",
              "    <tr>\n",
              "      <th>14995</th>\n",
              "      <td>0.37</td>\n",
              "      <td>0.48</td>\n",
              "      <td>2</td>\n",
              "      <td>160</td>\n",
              "      <td>3</td>\n",
              "      <td>0</td>\n",
              "      <td>1</td>\n",
              "      <td>0</td>\n",
              "      <td>support</td>\n",
              "      <td>low</td>\n",
              "      <td>1</td>\n",
              "      <td>0</td>\n",
              "    </tr>\n",
              "    <tr>\n",
              "      <th>14996</th>\n",
              "      <td>0.37</td>\n",
              "      <td>0.53</td>\n",
              "      <td>2</td>\n",
              "      <td>143</td>\n",
              "      <td>3</td>\n",
              "      <td>0</td>\n",
              "      <td>1</td>\n",
              "      <td>0</td>\n",
              "      <td>support</td>\n",
              "      <td>low</td>\n",
              "      <td>1</td>\n",
              "      <td>0</td>\n",
              "    </tr>\n",
              "    <tr>\n",
              "      <th>14997</th>\n",
              "      <td>0.11</td>\n",
              "      <td>0.96</td>\n",
              "      <td>6</td>\n",
              "      <td>280</td>\n",
              "      <td>4</td>\n",
              "      <td>0</td>\n",
              "      <td>1</td>\n",
              "      <td>0</td>\n",
              "      <td>support</td>\n",
              "      <td>low</td>\n",
              "      <td>1</td>\n",
              "      <td>0</td>\n",
              "    </tr>\n",
              "    <tr>\n",
              "      <th>14998</th>\n",
              "      <td>0.37</td>\n",
              "      <td>0.52</td>\n",
              "      <td>2</td>\n",
              "      <td>158</td>\n",
              "      <td>3</td>\n",
              "      <td>0</td>\n",
              "      <td>1</td>\n",
              "      <td>0</td>\n",
              "      <td>support</td>\n",
              "      <td>low</td>\n",
              "      <td>1</td>\n",
              "      <td>0</td>\n",
              "    </tr>\n",
              "  </tbody>\n",
              "</table>\n",
              "<p>14999 rows × 12 columns</p>\n",
              "</div>"
            ],
            "text/plain": [
              "       satisfaction_level  last_evaluation  ...  le_salary  oe_salary\n",
              "0                    0.38             0.53  ...          1          0\n",
              "1                    0.80             0.86  ...          2          1\n",
              "2                    0.11             0.88  ...          2          1\n",
              "3                    0.72             0.87  ...          1          0\n",
              "4                    0.37             0.52  ...          1          0\n",
              "...                   ...              ...  ...        ...        ...\n",
              "14994                0.40             0.57  ...          1          0\n",
              "14995                0.37             0.48  ...          1          0\n",
              "14996                0.37             0.53  ...          1          0\n",
              "14997                0.11             0.96  ...          1          0\n",
              "14998                0.37             0.52  ...          1          0\n",
              "\n",
              "[14999 rows x 12 columns]"
            ]
          },
          "metadata": {},
          "execution_count": 302
        }
      ]
    },
    {
      "cell_type": "markdown",
      "metadata": {
        "id": "pG6n5thAaTPL"
      },
      "source": [
        "#### 2.3. Encode the `department` column with one hot encoding."
      ]
    },
    {
      "cell_type": "code",
      "metadata": {
        "id": "LONRrPVqaVtL",
        "colab": {
          "base_uri": "https://localhost:8080/"
        },
        "outputId": "7cabb84b-b7a8-4cc3-9699-bf491b165fc5"
      },
      "source": [
        "#dpt_1hotencoding = pd.get_dummies(df, columns=['department'])\n",
        "#df\n",
        "# with dummies it did not work\n",
        "# try to do 1hot encoding the other way (as seen in class)\n",
        "from sklearn.preprocessing import OneHotEncoder\n",
        "ohe = OneHotEncoder()\n",
        "department_ohe = ohe.fit_transform(df[[\"department\"]])\n",
        "department_ohe"
      ],
      "execution_count": 303,
      "outputs": [
        {
          "output_type": "execute_result",
          "data": {
            "text/plain": [
              "<14999x10 sparse matrix of type '<class 'numpy.float64'>'\n",
              "\twith 14999 stored elements in Compressed Sparse Row format>"
            ]
          },
          "metadata": {},
          "execution_count": 303
        }
      ]
    },
    {
      "cell_type": "code",
      "metadata": {
        "id": "mUOHhNmVbJE-"
      },
      "source": [
        "#ohe.categories_"
      ],
      "execution_count": 304,
      "outputs": []
    },
    {
      "cell_type": "code",
      "metadata": {
        "id": "LPFXwwtQbLXC"
      },
      "source": [
        "#department_ohe[0].todense()"
      ],
      "execution_count": 305,
      "outputs": []
    },
    {
      "cell_type": "code",
      "metadata": {
        "colab": {
          "base_uri": "https://localhost:8080/",
          "height": 224
        },
        "id": "_sebsE-QYhxx",
        "outputId": "9a5d103d-ff21-4e81-d93d-3f47c0481cf5"
      },
      "source": [
        "department_ohe = pd.get_dummies(df[[\"department\"]])\n",
        "department_ohe.head()"
      ],
      "execution_count": 306,
      "outputs": [
        {
          "output_type": "execute_result",
          "data": {
            "text/html": [
              "<div>\n",
              "<style scoped>\n",
              "    .dataframe tbody tr th:only-of-type {\n",
              "        vertical-align: middle;\n",
              "    }\n",
              "\n",
              "    .dataframe tbody tr th {\n",
              "        vertical-align: top;\n",
              "    }\n",
              "\n",
              "    .dataframe thead th {\n",
              "        text-align: right;\n",
              "    }\n",
              "</style>\n",
              "<table border=\"1\" class=\"dataframe\">\n",
              "  <thead>\n",
              "    <tr style=\"text-align: right;\">\n",
              "      <th></th>\n",
              "      <th>department_IT</th>\n",
              "      <th>department_RandD</th>\n",
              "      <th>department_accounting</th>\n",
              "      <th>department_hr</th>\n",
              "      <th>department_management</th>\n",
              "      <th>department_marketing</th>\n",
              "      <th>department_product_mng</th>\n",
              "      <th>department_sales</th>\n",
              "      <th>department_support</th>\n",
              "      <th>department_technical</th>\n",
              "    </tr>\n",
              "  </thead>\n",
              "  <tbody>\n",
              "    <tr>\n",
              "      <th>0</th>\n",
              "      <td>0</td>\n",
              "      <td>0</td>\n",
              "      <td>0</td>\n",
              "      <td>0</td>\n",
              "      <td>0</td>\n",
              "      <td>0</td>\n",
              "      <td>0</td>\n",
              "      <td>1</td>\n",
              "      <td>0</td>\n",
              "      <td>0</td>\n",
              "    </tr>\n",
              "    <tr>\n",
              "      <th>1</th>\n",
              "      <td>0</td>\n",
              "      <td>0</td>\n",
              "      <td>0</td>\n",
              "      <td>0</td>\n",
              "      <td>0</td>\n",
              "      <td>0</td>\n",
              "      <td>0</td>\n",
              "      <td>1</td>\n",
              "      <td>0</td>\n",
              "      <td>0</td>\n",
              "    </tr>\n",
              "    <tr>\n",
              "      <th>2</th>\n",
              "      <td>0</td>\n",
              "      <td>0</td>\n",
              "      <td>0</td>\n",
              "      <td>0</td>\n",
              "      <td>0</td>\n",
              "      <td>0</td>\n",
              "      <td>0</td>\n",
              "      <td>1</td>\n",
              "      <td>0</td>\n",
              "      <td>0</td>\n",
              "    </tr>\n",
              "    <tr>\n",
              "      <th>3</th>\n",
              "      <td>0</td>\n",
              "      <td>0</td>\n",
              "      <td>0</td>\n",
              "      <td>0</td>\n",
              "      <td>0</td>\n",
              "      <td>0</td>\n",
              "      <td>0</td>\n",
              "      <td>1</td>\n",
              "      <td>0</td>\n",
              "      <td>0</td>\n",
              "    </tr>\n",
              "    <tr>\n",
              "      <th>4</th>\n",
              "      <td>0</td>\n",
              "      <td>0</td>\n",
              "      <td>0</td>\n",
              "      <td>0</td>\n",
              "      <td>0</td>\n",
              "      <td>0</td>\n",
              "      <td>0</td>\n",
              "      <td>1</td>\n",
              "      <td>0</td>\n",
              "      <td>0</td>\n",
              "    </tr>\n",
              "  </tbody>\n",
              "</table>\n",
              "</div>"
            ],
            "text/plain": [
              "   department_IT  department_RandD  ...  department_support  department_technical\n",
              "0              0                 0  ...                   0                     0\n",
              "1              0                 0  ...                   0                     0\n",
              "2              0                 0  ...                   0                     0\n",
              "3              0                 0  ...                   0                     0\n",
              "4              0                 0  ...                   0                     0\n",
              "\n",
              "[5 rows x 10 columns]"
            ]
          },
          "metadata": {},
          "execution_count": 306
        }
      ]
    },
    {
      "cell_type": "code",
      "metadata": {
        "colab": {
          "base_uri": "https://localhost:8080/",
          "height": 439
        },
        "id": "yvrwQ4qoY-LE",
        "outputId": "f1d433f9-e00a-44b1-b2a1-1adef391d559"
      },
      "source": [
        "df"
      ],
      "execution_count": 307,
      "outputs": [
        {
          "output_type": "execute_result",
          "data": {
            "text/html": [
              "<div>\n",
              "<style scoped>\n",
              "    .dataframe tbody tr th:only-of-type {\n",
              "        vertical-align: middle;\n",
              "    }\n",
              "\n",
              "    .dataframe tbody tr th {\n",
              "        vertical-align: top;\n",
              "    }\n",
              "\n",
              "    .dataframe thead th {\n",
              "        text-align: right;\n",
              "    }\n",
              "</style>\n",
              "<table border=\"1\" class=\"dataframe\">\n",
              "  <thead>\n",
              "    <tr style=\"text-align: right;\">\n",
              "      <th></th>\n",
              "      <th>satisfaction_level</th>\n",
              "      <th>last_evaluation</th>\n",
              "      <th>number_project</th>\n",
              "      <th>average_monthly_hours</th>\n",
              "      <th>time_spent_company</th>\n",
              "      <th>work_accident</th>\n",
              "      <th>left</th>\n",
              "      <th>promotion_last_5years</th>\n",
              "      <th>department</th>\n",
              "      <th>salary</th>\n",
              "      <th>le_salary</th>\n",
              "      <th>oe_salary</th>\n",
              "    </tr>\n",
              "  </thead>\n",
              "  <tbody>\n",
              "    <tr>\n",
              "      <th>0</th>\n",
              "      <td>0.38</td>\n",
              "      <td>0.53</td>\n",
              "      <td>2</td>\n",
              "      <td>157</td>\n",
              "      <td>3</td>\n",
              "      <td>0</td>\n",
              "      <td>1</td>\n",
              "      <td>0</td>\n",
              "      <td>sales</td>\n",
              "      <td>low</td>\n",
              "      <td>1</td>\n",
              "      <td>0</td>\n",
              "    </tr>\n",
              "    <tr>\n",
              "      <th>1</th>\n",
              "      <td>0.80</td>\n",
              "      <td>0.86</td>\n",
              "      <td>5</td>\n",
              "      <td>262</td>\n",
              "      <td>6</td>\n",
              "      <td>0</td>\n",
              "      <td>1</td>\n",
              "      <td>0</td>\n",
              "      <td>sales</td>\n",
              "      <td>medium</td>\n",
              "      <td>2</td>\n",
              "      <td>1</td>\n",
              "    </tr>\n",
              "    <tr>\n",
              "      <th>2</th>\n",
              "      <td>0.11</td>\n",
              "      <td>0.88</td>\n",
              "      <td>7</td>\n",
              "      <td>272</td>\n",
              "      <td>4</td>\n",
              "      <td>0</td>\n",
              "      <td>1</td>\n",
              "      <td>0</td>\n",
              "      <td>sales</td>\n",
              "      <td>medium</td>\n",
              "      <td>2</td>\n",
              "      <td>1</td>\n",
              "    </tr>\n",
              "    <tr>\n",
              "      <th>3</th>\n",
              "      <td>0.72</td>\n",
              "      <td>0.87</td>\n",
              "      <td>5</td>\n",
              "      <td>223</td>\n",
              "      <td>5</td>\n",
              "      <td>0</td>\n",
              "      <td>1</td>\n",
              "      <td>0</td>\n",
              "      <td>sales</td>\n",
              "      <td>low</td>\n",
              "      <td>1</td>\n",
              "      <td>0</td>\n",
              "    </tr>\n",
              "    <tr>\n",
              "      <th>4</th>\n",
              "      <td>0.37</td>\n",
              "      <td>0.52</td>\n",
              "      <td>2</td>\n",
              "      <td>159</td>\n",
              "      <td>3</td>\n",
              "      <td>0</td>\n",
              "      <td>1</td>\n",
              "      <td>0</td>\n",
              "      <td>sales</td>\n",
              "      <td>low</td>\n",
              "      <td>1</td>\n",
              "      <td>0</td>\n",
              "    </tr>\n",
              "    <tr>\n",
              "      <th>...</th>\n",
              "      <td>...</td>\n",
              "      <td>...</td>\n",
              "      <td>...</td>\n",
              "      <td>...</td>\n",
              "      <td>...</td>\n",
              "      <td>...</td>\n",
              "      <td>...</td>\n",
              "      <td>...</td>\n",
              "      <td>...</td>\n",
              "      <td>...</td>\n",
              "      <td>...</td>\n",
              "      <td>...</td>\n",
              "    </tr>\n",
              "    <tr>\n",
              "      <th>14994</th>\n",
              "      <td>0.40</td>\n",
              "      <td>0.57</td>\n",
              "      <td>2</td>\n",
              "      <td>151</td>\n",
              "      <td>3</td>\n",
              "      <td>0</td>\n",
              "      <td>1</td>\n",
              "      <td>0</td>\n",
              "      <td>support</td>\n",
              "      <td>low</td>\n",
              "      <td>1</td>\n",
              "      <td>0</td>\n",
              "    </tr>\n",
              "    <tr>\n",
              "      <th>14995</th>\n",
              "      <td>0.37</td>\n",
              "      <td>0.48</td>\n",
              "      <td>2</td>\n",
              "      <td>160</td>\n",
              "      <td>3</td>\n",
              "      <td>0</td>\n",
              "      <td>1</td>\n",
              "      <td>0</td>\n",
              "      <td>support</td>\n",
              "      <td>low</td>\n",
              "      <td>1</td>\n",
              "      <td>0</td>\n",
              "    </tr>\n",
              "    <tr>\n",
              "      <th>14996</th>\n",
              "      <td>0.37</td>\n",
              "      <td>0.53</td>\n",
              "      <td>2</td>\n",
              "      <td>143</td>\n",
              "      <td>3</td>\n",
              "      <td>0</td>\n",
              "      <td>1</td>\n",
              "      <td>0</td>\n",
              "      <td>support</td>\n",
              "      <td>low</td>\n",
              "      <td>1</td>\n",
              "      <td>0</td>\n",
              "    </tr>\n",
              "    <tr>\n",
              "      <th>14997</th>\n",
              "      <td>0.11</td>\n",
              "      <td>0.96</td>\n",
              "      <td>6</td>\n",
              "      <td>280</td>\n",
              "      <td>4</td>\n",
              "      <td>0</td>\n",
              "      <td>1</td>\n",
              "      <td>0</td>\n",
              "      <td>support</td>\n",
              "      <td>low</td>\n",
              "      <td>1</td>\n",
              "      <td>0</td>\n",
              "    </tr>\n",
              "    <tr>\n",
              "      <th>14998</th>\n",
              "      <td>0.37</td>\n",
              "      <td>0.52</td>\n",
              "      <td>2</td>\n",
              "      <td>158</td>\n",
              "      <td>3</td>\n",
              "      <td>0</td>\n",
              "      <td>1</td>\n",
              "      <td>0</td>\n",
              "      <td>support</td>\n",
              "      <td>low</td>\n",
              "      <td>1</td>\n",
              "      <td>0</td>\n",
              "    </tr>\n",
              "  </tbody>\n",
              "</table>\n",
              "<p>14999 rows × 12 columns</p>\n",
              "</div>"
            ],
            "text/plain": [
              "       satisfaction_level  last_evaluation  ...  le_salary  oe_salary\n",
              "0                    0.38             0.53  ...          1          0\n",
              "1                    0.80             0.86  ...          2          1\n",
              "2                    0.11             0.88  ...          2          1\n",
              "3                    0.72             0.87  ...          1          0\n",
              "4                    0.37             0.52  ...          1          0\n",
              "...                   ...              ...  ...        ...        ...\n",
              "14994                0.40             0.57  ...          1          0\n",
              "14995                0.37             0.48  ...          1          0\n",
              "14996                0.37             0.53  ...          1          0\n",
              "14997                0.11             0.96  ...          1          0\n",
              "14998                0.37             0.52  ...          1          0\n",
              "\n",
              "[14999 rows x 12 columns]"
            ]
          },
          "metadata": {},
          "execution_count": 307
        }
      ]
    },
    {
      "cell_type": "markdown",
      "metadata": {
        "id": "UWzJoRFib5PH"
      },
      "source": [
        "#### 2.4. Now concatenate all the features (`department` one hot-encoded, and the two versions of encoded `salary`) to the initial dataframe. You can use the `pd.concat` function. \n",
        "> Hint: You should have a total of 22 features in the concatenated dataset."
      ]
    },
    {
      "cell_type": "code",
      "metadata": {
        "id": "DuG_lUKqcQrk",
        "colab": {
          "base_uri": "https://localhost:8080/",
          "height": 439
        },
        "outputId": "41738044-043c-4c3a-c77d-4083dd70c0cd"
      },
      "source": [
        "df = pd.concat([df, department_ohe], axis=1)\n",
        "df"
      ],
      "execution_count": 308,
      "outputs": [
        {
          "output_type": "execute_result",
          "data": {
            "text/html": [
              "<div>\n",
              "<style scoped>\n",
              "    .dataframe tbody tr th:only-of-type {\n",
              "        vertical-align: middle;\n",
              "    }\n",
              "\n",
              "    .dataframe tbody tr th {\n",
              "        vertical-align: top;\n",
              "    }\n",
              "\n",
              "    .dataframe thead th {\n",
              "        text-align: right;\n",
              "    }\n",
              "</style>\n",
              "<table border=\"1\" class=\"dataframe\">\n",
              "  <thead>\n",
              "    <tr style=\"text-align: right;\">\n",
              "      <th></th>\n",
              "      <th>satisfaction_level</th>\n",
              "      <th>last_evaluation</th>\n",
              "      <th>number_project</th>\n",
              "      <th>average_monthly_hours</th>\n",
              "      <th>time_spent_company</th>\n",
              "      <th>work_accident</th>\n",
              "      <th>left</th>\n",
              "      <th>promotion_last_5years</th>\n",
              "      <th>department</th>\n",
              "      <th>salary</th>\n",
              "      <th>le_salary</th>\n",
              "      <th>oe_salary</th>\n",
              "      <th>department_IT</th>\n",
              "      <th>department_RandD</th>\n",
              "      <th>department_accounting</th>\n",
              "      <th>department_hr</th>\n",
              "      <th>department_management</th>\n",
              "      <th>department_marketing</th>\n",
              "      <th>department_product_mng</th>\n",
              "      <th>department_sales</th>\n",
              "      <th>department_support</th>\n",
              "      <th>department_technical</th>\n",
              "    </tr>\n",
              "  </thead>\n",
              "  <tbody>\n",
              "    <tr>\n",
              "      <th>0</th>\n",
              "      <td>0.38</td>\n",
              "      <td>0.53</td>\n",
              "      <td>2</td>\n",
              "      <td>157</td>\n",
              "      <td>3</td>\n",
              "      <td>0</td>\n",
              "      <td>1</td>\n",
              "      <td>0</td>\n",
              "      <td>sales</td>\n",
              "      <td>low</td>\n",
              "      <td>1</td>\n",
              "      <td>0</td>\n",
              "      <td>0</td>\n",
              "      <td>0</td>\n",
              "      <td>0</td>\n",
              "      <td>0</td>\n",
              "      <td>0</td>\n",
              "      <td>0</td>\n",
              "      <td>0</td>\n",
              "      <td>1</td>\n",
              "      <td>0</td>\n",
              "      <td>0</td>\n",
              "    </tr>\n",
              "    <tr>\n",
              "      <th>1</th>\n",
              "      <td>0.80</td>\n",
              "      <td>0.86</td>\n",
              "      <td>5</td>\n",
              "      <td>262</td>\n",
              "      <td>6</td>\n",
              "      <td>0</td>\n",
              "      <td>1</td>\n",
              "      <td>0</td>\n",
              "      <td>sales</td>\n",
              "      <td>medium</td>\n",
              "      <td>2</td>\n",
              "      <td>1</td>\n",
              "      <td>0</td>\n",
              "      <td>0</td>\n",
              "      <td>0</td>\n",
              "      <td>0</td>\n",
              "      <td>0</td>\n",
              "      <td>0</td>\n",
              "      <td>0</td>\n",
              "      <td>1</td>\n",
              "      <td>0</td>\n",
              "      <td>0</td>\n",
              "    </tr>\n",
              "    <tr>\n",
              "      <th>2</th>\n",
              "      <td>0.11</td>\n",
              "      <td>0.88</td>\n",
              "      <td>7</td>\n",
              "      <td>272</td>\n",
              "      <td>4</td>\n",
              "      <td>0</td>\n",
              "      <td>1</td>\n",
              "      <td>0</td>\n",
              "      <td>sales</td>\n",
              "      <td>medium</td>\n",
              "      <td>2</td>\n",
              "      <td>1</td>\n",
              "      <td>0</td>\n",
              "      <td>0</td>\n",
              "      <td>0</td>\n",
              "      <td>0</td>\n",
              "      <td>0</td>\n",
              "      <td>0</td>\n",
              "      <td>0</td>\n",
              "      <td>1</td>\n",
              "      <td>0</td>\n",
              "      <td>0</td>\n",
              "    </tr>\n",
              "    <tr>\n",
              "      <th>3</th>\n",
              "      <td>0.72</td>\n",
              "      <td>0.87</td>\n",
              "      <td>5</td>\n",
              "      <td>223</td>\n",
              "      <td>5</td>\n",
              "      <td>0</td>\n",
              "      <td>1</td>\n",
              "      <td>0</td>\n",
              "      <td>sales</td>\n",
              "      <td>low</td>\n",
              "      <td>1</td>\n",
              "      <td>0</td>\n",
              "      <td>0</td>\n",
              "      <td>0</td>\n",
              "      <td>0</td>\n",
              "      <td>0</td>\n",
              "      <td>0</td>\n",
              "      <td>0</td>\n",
              "      <td>0</td>\n",
              "      <td>1</td>\n",
              "      <td>0</td>\n",
              "      <td>0</td>\n",
              "    </tr>\n",
              "    <tr>\n",
              "      <th>4</th>\n",
              "      <td>0.37</td>\n",
              "      <td>0.52</td>\n",
              "      <td>2</td>\n",
              "      <td>159</td>\n",
              "      <td>3</td>\n",
              "      <td>0</td>\n",
              "      <td>1</td>\n",
              "      <td>0</td>\n",
              "      <td>sales</td>\n",
              "      <td>low</td>\n",
              "      <td>1</td>\n",
              "      <td>0</td>\n",
              "      <td>0</td>\n",
              "      <td>0</td>\n",
              "      <td>0</td>\n",
              "      <td>0</td>\n",
              "      <td>0</td>\n",
              "      <td>0</td>\n",
              "      <td>0</td>\n",
              "      <td>1</td>\n",
              "      <td>0</td>\n",
              "      <td>0</td>\n",
              "    </tr>\n",
              "    <tr>\n",
              "      <th>...</th>\n",
              "      <td>...</td>\n",
              "      <td>...</td>\n",
              "      <td>...</td>\n",
              "      <td>...</td>\n",
              "      <td>...</td>\n",
              "      <td>...</td>\n",
              "      <td>...</td>\n",
              "      <td>...</td>\n",
              "      <td>...</td>\n",
              "      <td>...</td>\n",
              "      <td>...</td>\n",
              "      <td>...</td>\n",
              "      <td>...</td>\n",
              "      <td>...</td>\n",
              "      <td>...</td>\n",
              "      <td>...</td>\n",
              "      <td>...</td>\n",
              "      <td>...</td>\n",
              "      <td>...</td>\n",
              "      <td>...</td>\n",
              "      <td>...</td>\n",
              "      <td>...</td>\n",
              "    </tr>\n",
              "    <tr>\n",
              "      <th>14994</th>\n",
              "      <td>0.40</td>\n",
              "      <td>0.57</td>\n",
              "      <td>2</td>\n",
              "      <td>151</td>\n",
              "      <td>3</td>\n",
              "      <td>0</td>\n",
              "      <td>1</td>\n",
              "      <td>0</td>\n",
              "      <td>support</td>\n",
              "      <td>low</td>\n",
              "      <td>1</td>\n",
              "      <td>0</td>\n",
              "      <td>0</td>\n",
              "      <td>0</td>\n",
              "      <td>0</td>\n",
              "      <td>0</td>\n",
              "      <td>0</td>\n",
              "      <td>0</td>\n",
              "      <td>0</td>\n",
              "      <td>0</td>\n",
              "      <td>1</td>\n",
              "      <td>0</td>\n",
              "    </tr>\n",
              "    <tr>\n",
              "      <th>14995</th>\n",
              "      <td>0.37</td>\n",
              "      <td>0.48</td>\n",
              "      <td>2</td>\n",
              "      <td>160</td>\n",
              "      <td>3</td>\n",
              "      <td>0</td>\n",
              "      <td>1</td>\n",
              "      <td>0</td>\n",
              "      <td>support</td>\n",
              "      <td>low</td>\n",
              "      <td>1</td>\n",
              "      <td>0</td>\n",
              "      <td>0</td>\n",
              "      <td>0</td>\n",
              "      <td>0</td>\n",
              "      <td>0</td>\n",
              "      <td>0</td>\n",
              "      <td>0</td>\n",
              "      <td>0</td>\n",
              "      <td>0</td>\n",
              "      <td>1</td>\n",
              "      <td>0</td>\n",
              "    </tr>\n",
              "    <tr>\n",
              "      <th>14996</th>\n",
              "      <td>0.37</td>\n",
              "      <td>0.53</td>\n",
              "      <td>2</td>\n",
              "      <td>143</td>\n",
              "      <td>3</td>\n",
              "      <td>0</td>\n",
              "      <td>1</td>\n",
              "      <td>0</td>\n",
              "      <td>support</td>\n",
              "      <td>low</td>\n",
              "      <td>1</td>\n",
              "      <td>0</td>\n",
              "      <td>0</td>\n",
              "      <td>0</td>\n",
              "      <td>0</td>\n",
              "      <td>0</td>\n",
              "      <td>0</td>\n",
              "      <td>0</td>\n",
              "      <td>0</td>\n",
              "      <td>0</td>\n",
              "      <td>1</td>\n",
              "      <td>0</td>\n",
              "    </tr>\n",
              "    <tr>\n",
              "      <th>14997</th>\n",
              "      <td>0.11</td>\n",
              "      <td>0.96</td>\n",
              "      <td>6</td>\n",
              "      <td>280</td>\n",
              "      <td>4</td>\n",
              "      <td>0</td>\n",
              "      <td>1</td>\n",
              "      <td>0</td>\n",
              "      <td>support</td>\n",
              "      <td>low</td>\n",
              "      <td>1</td>\n",
              "      <td>0</td>\n",
              "      <td>0</td>\n",
              "      <td>0</td>\n",
              "      <td>0</td>\n",
              "      <td>0</td>\n",
              "      <td>0</td>\n",
              "      <td>0</td>\n",
              "      <td>0</td>\n",
              "      <td>0</td>\n",
              "      <td>1</td>\n",
              "      <td>0</td>\n",
              "    </tr>\n",
              "    <tr>\n",
              "      <th>14998</th>\n",
              "      <td>0.37</td>\n",
              "      <td>0.52</td>\n",
              "      <td>2</td>\n",
              "      <td>158</td>\n",
              "      <td>3</td>\n",
              "      <td>0</td>\n",
              "      <td>1</td>\n",
              "      <td>0</td>\n",
              "      <td>support</td>\n",
              "      <td>low</td>\n",
              "      <td>1</td>\n",
              "      <td>0</td>\n",
              "      <td>0</td>\n",
              "      <td>0</td>\n",
              "      <td>0</td>\n",
              "      <td>0</td>\n",
              "      <td>0</td>\n",
              "      <td>0</td>\n",
              "      <td>0</td>\n",
              "      <td>0</td>\n",
              "      <td>1</td>\n",
              "      <td>0</td>\n",
              "    </tr>\n",
              "  </tbody>\n",
              "</table>\n",
              "<p>14999 rows × 22 columns</p>\n",
              "</div>"
            ],
            "text/plain": [
              "       satisfaction_level  ...  department_technical\n",
              "0                    0.38  ...                     0\n",
              "1                    0.80  ...                     0\n",
              "2                    0.11  ...                     0\n",
              "3                    0.72  ...                     0\n",
              "4                    0.37  ...                     0\n",
              "...                   ...  ...                   ...\n",
              "14994                0.40  ...                     0\n",
              "14995                0.37  ...                     0\n",
              "14996                0.37  ...                     0\n",
              "14997                0.11  ...                     0\n",
              "14998                0.37  ...                     0\n",
              "\n",
              "[14999 rows x 22 columns]"
            ]
          },
          "metadata": {},
          "execution_count": 308
        }
      ]
    },
    {
      "cell_type": "markdown",
      "metadata": {
        "id": "yXg5BFFAvlsG"
      },
      "source": [
        "#### 2.5. Create a new column, `eval_spent` equal to the product of two of the existing columns: the `evaluation score` and the `time spent` with the company."
      ]
    },
    {
      "cell_type": "code",
      "metadata": {
        "id": "9y-5jUqVmSVt",
        "colab": {
          "base_uri": "https://localhost:8080/",
          "height": 439
        },
        "outputId": "44f224dd-9a38-4ccc-e580-f03d8a587986"
      },
      "source": [
        "df['eval_spent'] = df['last_evaluation'] * df['time_spent_company']\n",
        "df"
      ],
      "execution_count": 309,
      "outputs": [
        {
          "output_type": "execute_result",
          "data": {
            "text/html": [
              "<div>\n",
              "<style scoped>\n",
              "    .dataframe tbody tr th:only-of-type {\n",
              "        vertical-align: middle;\n",
              "    }\n",
              "\n",
              "    .dataframe tbody tr th {\n",
              "        vertical-align: top;\n",
              "    }\n",
              "\n",
              "    .dataframe thead th {\n",
              "        text-align: right;\n",
              "    }\n",
              "</style>\n",
              "<table border=\"1\" class=\"dataframe\">\n",
              "  <thead>\n",
              "    <tr style=\"text-align: right;\">\n",
              "      <th></th>\n",
              "      <th>satisfaction_level</th>\n",
              "      <th>last_evaluation</th>\n",
              "      <th>number_project</th>\n",
              "      <th>average_monthly_hours</th>\n",
              "      <th>time_spent_company</th>\n",
              "      <th>work_accident</th>\n",
              "      <th>left</th>\n",
              "      <th>promotion_last_5years</th>\n",
              "      <th>department</th>\n",
              "      <th>salary</th>\n",
              "      <th>le_salary</th>\n",
              "      <th>oe_salary</th>\n",
              "      <th>department_IT</th>\n",
              "      <th>department_RandD</th>\n",
              "      <th>department_accounting</th>\n",
              "      <th>department_hr</th>\n",
              "      <th>department_management</th>\n",
              "      <th>department_marketing</th>\n",
              "      <th>department_product_mng</th>\n",
              "      <th>department_sales</th>\n",
              "      <th>department_support</th>\n",
              "      <th>department_technical</th>\n",
              "      <th>eval_spent</th>\n",
              "    </tr>\n",
              "  </thead>\n",
              "  <tbody>\n",
              "    <tr>\n",
              "      <th>0</th>\n",
              "      <td>0.38</td>\n",
              "      <td>0.53</td>\n",
              "      <td>2</td>\n",
              "      <td>157</td>\n",
              "      <td>3</td>\n",
              "      <td>0</td>\n",
              "      <td>1</td>\n",
              "      <td>0</td>\n",
              "      <td>sales</td>\n",
              "      <td>low</td>\n",
              "      <td>1</td>\n",
              "      <td>0</td>\n",
              "      <td>0</td>\n",
              "      <td>0</td>\n",
              "      <td>0</td>\n",
              "      <td>0</td>\n",
              "      <td>0</td>\n",
              "      <td>0</td>\n",
              "      <td>0</td>\n",
              "      <td>1</td>\n",
              "      <td>0</td>\n",
              "      <td>0</td>\n",
              "      <td>1.59</td>\n",
              "    </tr>\n",
              "    <tr>\n",
              "      <th>1</th>\n",
              "      <td>0.80</td>\n",
              "      <td>0.86</td>\n",
              "      <td>5</td>\n",
              "      <td>262</td>\n",
              "      <td>6</td>\n",
              "      <td>0</td>\n",
              "      <td>1</td>\n",
              "      <td>0</td>\n",
              "      <td>sales</td>\n",
              "      <td>medium</td>\n",
              "      <td>2</td>\n",
              "      <td>1</td>\n",
              "      <td>0</td>\n",
              "      <td>0</td>\n",
              "      <td>0</td>\n",
              "      <td>0</td>\n",
              "      <td>0</td>\n",
              "      <td>0</td>\n",
              "      <td>0</td>\n",
              "      <td>1</td>\n",
              "      <td>0</td>\n",
              "      <td>0</td>\n",
              "      <td>5.16</td>\n",
              "    </tr>\n",
              "    <tr>\n",
              "      <th>2</th>\n",
              "      <td>0.11</td>\n",
              "      <td>0.88</td>\n",
              "      <td>7</td>\n",
              "      <td>272</td>\n",
              "      <td>4</td>\n",
              "      <td>0</td>\n",
              "      <td>1</td>\n",
              "      <td>0</td>\n",
              "      <td>sales</td>\n",
              "      <td>medium</td>\n",
              "      <td>2</td>\n",
              "      <td>1</td>\n",
              "      <td>0</td>\n",
              "      <td>0</td>\n",
              "      <td>0</td>\n",
              "      <td>0</td>\n",
              "      <td>0</td>\n",
              "      <td>0</td>\n",
              "      <td>0</td>\n",
              "      <td>1</td>\n",
              "      <td>0</td>\n",
              "      <td>0</td>\n",
              "      <td>3.52</td>\n",
              "    </tr>\n",
              "    <tr>\n",
              "      <th>3</th>\n",
              "      <td>0.72</td>\n",
              "      <td>0.87</td>\n",
              "      <td>5</td>\n",
              "      <td>223</td>\n",
              "      <td>5</td>\n",
              "      <td>0</td>\n",
              "      <td>1</td>\n",
              "      <td>0</td>\n",
              "      <td>sales</td>\n",
              "      <td>low</td>\n",
              "      <td>1</td>\n",
              "      <td>0</td>\n",
              "      <td>0</td>\n",
              "      <td>0</td>\n",
              "      <td>0</td>\n",
              "      <td>0</td>\n",
              "      <td>0</td>\n",
              "      <td>0</td>\n",
              "      <td>0</td>\n",
              "      <td>1</td>\n",
              "      <td>0</td>\n",
              "      <td>0</td>\n",
              "      <td>4.35</td>\n",
              "    </tr>\n",
              "    <tr>\n",
              "      <th>4</th>\n",
              "      <td>0.37</td>\n",
              "      <td>0.52</td>\n",
              "      <td>2</td>\n",
              "      <td>159</td>\n",
              "      <td>3</td>\n",
              "      <td>0</td>\n",
              "      <td>1</td>\n",
              "      <td>0</td>\n",
              "      <td>sales</td>\n",
              "      <td>low</td>\n",
              "      <td>1</td>\n",
              "      <td>0</td>\n",
              "      <td>0</td>\n",
              "      <td>0</td>\n",
              "      <td>0</td>\n",
              "      <td>0</td>\n",
              "      <td>0</td>\n",
              "      <td>0</td>\n",
              "      <td>0</td>\n",
              "      <td>1</td>\n",
              "      <td>0</td>\n",
              "      <td>0</td>\n",
              "      <td>1.56</td>\n",
              "    </tr>\n",
              "    <tr>\n",
              "      <th>...</th>\n",
              "      <td>...</td>\n",
              "      <td>...</td>\n",
              "      <td>...</td>\n",
              "      <td>...</td>\n",
              "      <td>...</td>\n",
              "      <td>...</td>\n",
              "      <td>...</td>\n",
              "      <td>...</td>\n",
              "      <td>...</td>\n",
              "      <td>...</td>\n",
              "      <td>...</td>\n",
              "      <td>...</td>\n",
              "      <td>...</td>\n",
              "      <td>...</td>\n",
              "      <td>...</td>\n",
              "      <td>...</td>\n",
              "      <td>...</td>\n",
              "      <td>...</td>\n",
              "      <td>...</td>\n",
              "      <td>...</td>\n",
              "      <td>...</td>\n",
              "      <td>...</td>\n",
              "      <td>...</td>\n",
              "    </tr>\n",
              "    <tr>\n",
              "      <th>14994</th>\n",
              "      <td>0.40</td>\n",
              "      <td>0.57</td>\n",
              "      <td>2</td>\n",
              "      <td>151</td>\n",
              "      <td>3</td>\n",
              "      <td>0</td>\n",
              "      <td>1</td>\n",
              "      <td>0</td>\n",
              "      <td>support</td>\n",
              "      <td>low</td>\n",
              "      <td>1</td>\n",
              "      <td>0</td>\n",
              "      <td>0</td>\n",
              "      <td>0</td>\n",
              "      <td>0</td>\n",
              "      <td>0</td>\n",
              "      <td>0</td>\n",
              "      <td>0</td>\n",
              "      <td>0</td>\n",
              "      <td>0</td>\n",
              "      <td>1</td>\n",
              "      <td>0</td>\n",
              "      <td>1.71</td>\n",
              "    </tr>\n",
              "    <tr>\n",
              "      <th>14995</th>\n",
              "      <td>0.37</td>\n",
              "      <td>0.48</td>\n",
              "      <td>2</td>\n",
              "      <td>160</td>\n",
              "      <td>3</td>\n",
              "      <td>0</td>\n",
              "      <td>1</td>\n",
              "      <td>0</td>\n",
              "      <td>support</td>\n",
              "      <td>low</td>\n",
              "      <td>1</td>\n",
              "      <td>0</td>\n",
              "      <td>0</td>\n",
              "      <td>0</td>\n",
              "      <td>0</td>\n",
              "      <td>0</td>\n",
              "      <td>0</td>\n",
              "      <td>0</td>\n",
              "      <td>0</td>\n",
              "      <td>0</td>\n",
              "      <td>1</td>\n",
              "      <td>0</td>\n",
              "      <td>1.44</td>\n",
              "    </tr>\n",
              "    <tr>\n",
              "      <th>14996</th>\n",
              "      <td>0.37</td>\n",
              "      <td>0.53</td>\n",
              "      <td>2</td>\n",
              "      <td>143</td>\n",
              "      <td>3</td>\n",
              "      <td>0</td>\n",
              "      <td>1</td>\n",
              "      <td>0</td>\n",
              "      <td>support</td>\n",
              "      <td>low</td>\n",
              "      <td>1</td>\n",
              "      <td>0</td>\n",
              "      <td>0</td>\n",
              "      <td>0</td>\n",
              "      <td>0</td>\n",
              "      <td>0</td>\n",
              "      <td>0</td>\n",
              "      <td>0</td>\n",
              "      <td>0</td>\n",
              "      <td>0</td>\n",
              "      <td>1</td>\n",
              "      <td>0</td>\n",
              "      <td>1.59</td>\n",
              "    </tr>\n",
              "    <tr>\n",
              "      <th>14997</th>\n",
              "      <td>0.11</td>\n",
              "      <td>0.96</td>\n",
              "      <td>6</td>\n",
              "      <td>280</td>\n",
              "      <td>4</td>\n",
              "      <td>0</td>\n",
              "      <td>1</td>\n",
              "      <td>0</td>\n",
              "      <td>support</td>\n",
              "      <td>low</td>\n",
              "      <td>1</td>\n",
              "      <td>0</td>\n",
              "      <td>0</td>\n",
              "      <td>0</td>\n",
              "      <td>0</td>\n",
              "      <td>0</td>\n",
              "      <td>0</td>\n",
              "      <td>0</td>\n",
              "      <td>0</td>\n",
              "      <td>0</td>\n",
              "      <td>1</td>\n",
              "      <td>0</td>\n",
              "      <td>3.84</td>\n",
              "    </tr>\n",
              "    <tr>\n",
              "      <th>14998</th>\n",
              "      <td>0.37</td>\n",
              "      <td>0.52</td>\n",
              "      <td>2</td>\n",
              "      <td>158</td>\n",
              "      <td>3</td>\n",
              "      <td>0</td>\n",
              "      <td>1</td>\n",
              "      <td>0</td>\n",
              "      <td>support</td>\n",
              "      <td>low</td>\n",
              "      <td>1</td>\n",
              "      <td>0</td>\n",
              "      <td>0</td>\n",
              "      <td>0</td>\n",
              "      <td>0</td>\n",
              "      <td>0</td>\n",
              "      <td>0</td>\n",
              "      <td>0</td>\n",
              "      <td>0</td>\n",
              "      <td>0</td>\n",
              "      <td>1</td>\n",
              "      <td>0</td>\n",
              "      <td>1.56</td>\n",
              "    </tr>\n",
              "  </tbody>\n",
              "</table>\n",
              "<p>14999 rows × 23 columns</p>\n",
              "</div>"
            ],
            "text/plain": [
              "       satisfaction_level  last_evaluation  ...  department_technical  eval_spent\n",
              "0                    0.38             0.53  ...                     0        1.59\n",
              "1                    0.80             0.86  ...                     0        5.16\n",
              "2                    0.11             0.88  ...                     0        3.52\n",
              "3                    0.72             0.87  ...                     0        4.35\n",
              "4                    0.37             0.52  ...                     0        1.56\n",
              "...                   ...              ...  ...                   ...         ...\n",
              "14994                0.40             0.57  ...                     0        1.71\n",
              "14995                0.37             0.48  ...                     0        1.44\n",
              "14996                0.37             0.53  ...                     0        1.59\n",
              "14997                0.11             0.96  ...                     0        3.84\n",
              "14998                0.37             0.52  ...                     0        1.56\n",
              "\n",
              "[14999 rows x 23 columns]"
            ]
          },
          "metadata": {},
          "execution_count": 309
        }
      ]
    },
    {
      "cell_type": "markdown",
      "metadata": {
        "id": "RGD7oEYNy3RH"
      },
      "source": [
        "### 3. Train a Logistic Regression model with Cross Validation (with Label-Encoded Salary)\n",
        "\n",
        "For this section, train a logistic regression model with cross-validation on the employee retention dataset. Use all of the dependent variable features available from the concatenated dataset, but use only one encoded `salary` column at a time. \n",
        "\n",
        "Your dependent variable (y) is the column named `left`.\n",
        "\n",
        "You can then compare your logistic regression results when using the label-encoded salary and when using the ordinal-encoded salary.\n",
        "\n",
        "#### 3.1. Set the y and X variables. This time using `le_salary`.\n",
        "\n",
        "> Hint: X should have a total of 19 features, namely: 'satisfaction_level', 'last_evaluation',            'number_project', 'average_monthly_hours',           'time_spent_company',         'work_accident',       'promotion_last_5years',                 ('IT',),                   ('RandD',),         ('accounting',), ('hr',),         ('management',),  ('marketing',), ('product_mng',), ('sales',),            ('support',), ('technical',), 'le_salary', 'eval_spent'."
      ]
    },
    {
      "cell_type": "code",
      "metadata": {
        "id": "9299fcT1sKsh"
      },
      "source": [
        "X = df.drop(['left', 'department', 'salary', 'oe_salary'],axis=1)\n",
        "y = df['left']"
      ],
      "execution_count": 310,
      "outputs": []
    },
    {
      "cell_type": "markdown",
      "metadata": {
        "id": "btHb7-IHsnys"
      },
      "source": [
        "#### 3.2. Train/test splitting: Now split the data into 80% training and 20% test set. Remember to set the random seed to 72.\n"
      ]
    },
    {
      "cell_type": "code",
      "metadata": {
        "id": "nCgAYgX5s0QZ"
      },
      "source": [
        "X_train, X_test, y_train, y_test = train_test_split(X, y, test_size=0.2, random_state=72)"
      ],
      "execution_count": 311,
      "outputs": []
    },
    {
      "cell_type": "markdown",
      "metadata": {
        "id": "k6TBBmk_jsgy"
      },
      "source": [
        "#### 3.3. What is the base rate of the classification problem (whether an employee stays or leaves) ?\n",
        "> Hint: calculate the frequency of the most common class on the test set for y"
      ]
    },
    {
      "cell_type": "code",
      "metadata": {
        "id": "5Vk3Hbjsj4Ow",
        "colab": {
          "base_uri": "https://localhost:8080/"
        },
        "outputId": "29e55291-a510-4900-e1f4-92b360bd0e4c"
      },
      "source": [
        "# method 1\n",
        "from sklearn.dummy import DummyClassifier\n",
        "\n",
        "# instantiate with the \"most frequent\" parameter\n",
        "dummy = DummyClassifier(strategy='most_frequent')\n",
        "\n",
        "# fit it as if we had no X features to train it on\n",
        "dummy.fit(None, y_train)\n",
        "\n",
        "#compute test baseline and store it for later\n",
        "baseline = dummy.score(None, y_test)\n",
        "baseline\n"
      ],
      "execution_count": 312,
      "outputs": [
        {
          "output_type": "execute_result",
          "data": {
            "text/plain": [
              "0.7626666666666667"
            ]
          },
          "metadata": {},
          "execution_count": 312
        }
      ]
    },
    {
      "cell_type": "code",
      "metadata": {
        "id": "W-2Z6Bc-wdyZ",
        "colab": {
          "base_uri": "https://localhost:8080/"
        },
        "outputId": "b2282ae0-7c99-49b1-ba30-bb1dfa297d34"
      },
      "source": [
        "# method 2\n",
        "y_test.value_counts(normalize=True)\n",
        "y_test_most_common_class = max(y_test.value_counts(normalize=True))\n",
        "y_test_most_common_class"
      ],
      "execution_count": 313,
      "outputs": [
        {
          "output_type": "execute_result",
          "data": {
            "text/plain": [
              "0.7626666666666667"
            ]
          },
          "metadata": {},
          "execution_count": 313
        }
      ]
    },
    {
      "cell_type": "markdown",
      "metadata": {
        "id": "6kp7Bth_tAzZ"
      },
      "source": [
        "#### 3.4. Finally, train a Logistic Regression model with cross validation. Use the following parameters for Logistic Regression.\n",
        "\n",
        "`LogisticRegressionCV(solver='lbfgs', cv=5, max_iter=1000, random_state=72)`"
      ]
    },
    {
      "cell_type": "code",
      "metadata": {
        "id": "v6rjMI9Ps0D7",
        "colab": {
          "base_uri": "https://localhost:8080/"
        },
        "outputId": "a68e66fd-586d-430e-efff-048d16be8d79"
      },
      "source": [
        "log_reg_cv = LogisticRegressionCV(solver='lbfgs', cv=5, max_iter=1000, random_state=72)\n",
        "log_reg_cv.fit(X_train, y_train)\n"
      ],
      "execution_count": 314,
      "outputs": [
        {
          "output_type": "execute_result",
          "data": {
            "text/plain": [
              "LogisticRegressionCV(cv=5, max_iter=1000, random_state=72)"
            ]
          },
          "metadata": {},
          "execution_count": 314
        }
      ]
    },
    {
      "cell_type": "markdown",
      "metadata": {
        "id": "ueQMjfHku1yt"
      },
      "source": [
        "#### 3.5. What is the test accuracy? What is the train accuracy?"
      ]
    },
    {
      "cell_type": "code",
      "metadata": {
        "id": "yX73g379u4q4",
        "colab": {
          "base_uri": "https://localhost:8080/"
        },
        "outputId": "facdccc6-9f38-4a07-93d9-8c322fdc75ab"
      },
      "source": [
        "print(log_reg_cv.score(X_test, y_test))\n",
        "print(log_reg_cv.score(X_train, y_train))"
      ],
      "execution_count": 315,
      "outputs": [
        {
          "output_type": "stream",
          "name": "stdout",
          "text": [
            "0.8006666666666666\n",
            "0.7927327277273106\n"
          ]
        }
      ]
    },
    {
      "cell_type": "code",
      "metadata": {
        "id": "gMv0zPKGp9Ir",
        "colab": {
          "base_uri": "https://localhost:8080/"
        },
        "outputId": "b1b2e016-6e53-4e50-baa9-ddc294a2a48e"
      },
      "source": [
        "# storing the first test-accuracy score for comparing it later\n",
        "first_test_accuracy_score = log_reg_cv.score(X_test, y_test)\n",
        "print(first_test_accuracy_score)"
      ],
      "execution_count": 316,
      "outputs": [
        {
          "output_type": "stream",
          "name": "stdout",
          "text": [
            "0.8006666666666666\n"
          ]
        }
      ]
    },
    {
      "cell_type": "markdown",
      "metadata": {
        "id": "cAKLieirvIfm"
      },
      "source": [
        "#### 3.6. Calculate the precision and recall on the test set."
      ]
    },
    {
      "cell_type": "code",
      "metadata": {
        "id": "-smGt5mXvJFR",
        "colab": {
          "base_uri": "https://localhost:8080/"
        },
        "outputId": "d7d9f559-595b-4854-cdc8-58cb39823aac"
      },
      "source": [
        "y_pred = log_reg_cv.predict(X_test)\n",
        "y_pred\n"
      ],
      "execution_count": 317,
      "outputs": [
        {
          "output_type": "execute_result",
          "data": {
            "text/plain": [
              "array([0, 0, 0, ..., 1, 0, 0])"
            ]
          },
          "metadata": {},
          "execution_count": 317
        }
      ]
    },
    {
      "cell_type": "code",
      "metadata": {
        "id": "vlDJSweff7Xd"
      },
      "source": [
        "def evaluate(test, pred):\n",
        "  precision = precision_score(test, pred)\n",
        "  recall = recall_score(test, pred)\n",
        "  f1= f1_score(test, pred)\n",
        "  print(f'CONFUSION MATRIX:\\n{confusion_matrix(test, pred)}')\n",
        "  print(f\"ACCURACY SCORE:\\n{accuracy_score(test, pred) :.4f}\")\n",
        "  print(f'CLASSIFICATION REPORT:\\n\\tPrecision: {precision:.4f}\\n\\tRecall: {recall:.4f}\\n\\tF1_Score: {f1:.4f}')"
      ],
      "execution_count": 318,
      "outputs": []
    },
    {
      "cell_type": "code",
      "metadata": {
        "colab": {
          "base_uri": "https://localhost:8080/"
        },
        "id": "pxKwNgKVf8t1",
        "outputId": "11dd0ec2-fefe-4dbb-8d3e-7c3cfe887962"
      },
      "source": [
        "evaluate(y_test, y_pred)"
      ],
      "execution_count": 319,
      "outputs": [
        {
          "output_type": "stream",
          "name": "stdout",
          "text": [
            "CONFUSION MATRIX:\n",
            "[[2127  161]\n",
            " [ 437  275]]\n",
            "ACCURACY SCORE:\n",
            "0.8007\n",
            "CLASSIFICATION REPORT:\n",
            "\tPrecision: 0.6307\n",
            "\tRecall: 0.3862\n",
            "\tF1_Score: 0.4791\n"
          ]
        }
      ]
    },
    {
      "cell_type": "markdown",
      "metadata": {
        "id": "wKXpzetYxxaJ"
      },
      "source": [
        "#### 3.7. Plot the confusion matrix"
      ]
    },
    {
      "cell_type": "code",
      "metadata": {
        "id": "rSZyi_Y3sz2Q",
        "colab": {
          "base_uri": "https://localhost:8080/",
          "height": 111
        },
        "outputId": "1fdbe416-6c88-4e05-baea-3c05fc5332c0"
      },
      "source": [
        "pd.DataFrame(confusion_matrix(y_test, y_pred), columns=['predicted: 0', 'predicted: 1 (left)'], index= ['true: 0', 'true: 1 (left)'])\n"
      ],
      "execution_count": 320,
      "outputs": [
        {
          "output_type": "execute_result",
          "data": {
            "text/html": [
              "<div>\n",
              "<style scoped>\n",
              "    .dataframe tbody tr th:only-of-type {\n",
              "        vertical-align: middle;\n",
              "    }\n",
              "\n",
              "    .dataframe tbody tr th {\n",
              "        vertical-align: top;\n",
              "    }\n",
              "\n",
              "    .dataframe thead th {\n",
              "        text-align: right;\n",
              "    }\n",
              "</style>\n",
              "<table border=\"1\" class=\"dataframe\">\n",
              "  <thead>\n",
              "    <tr style=\"text-align: right;\">\n",
              "      <th></th>\n",
              "      <th>predicted: 0</th>\n",
              "      <th>predicted: 1 (left)</th>\n",
              "    </tr>\n",
              "  </thead>\n",
              "  <tbody>\n",
              "    <tr>\n",
              "      <th>true: 0</th>\n",
              "      <td>2127</td>\n",
              "      <td>161</td>\n",
              "    </tr>\n",
              "    <tr>\n",
              "      <th>true: 1 (left)</th>\n",
              "      <td>437</td>\n",
              "      <td>275</td>\n",
              "    </tr>\n",
              "  </tbody>\n",
              "</table>\n",
              "</div>"
            ],
            "text/plain": [
              "                predicted: 0  predicted: 1 (left)\n",
              "true: 0                 2127                  161\n",
              "true: 1 (left)           437                  275"
            ]
          },
          "metadata": {},
          "execution_count": 320
        }
      ]
    },
    {
      "cell_type": "markdown",
      "metadata": {
        "id": "sC_GAUVZyVvP"
      },
      "source": [
        "### 4. Logistic Regression with Cross Validation (with Ordinal-Encoded Salary)\n",
        "#### 4.1. One more time, set the y and X variables, this time using `oe_salary` instead of `le_salary`.\n",
        "\n",
        "> Hint: X shoud contain the following 19 features 'satisfaction_level', 'last_evaluation', 'number_project',\n",
        "       'average_monthly_hours', 'time_spent_company', 'eval_spent','work_accident',\n",
        "       'promotion_last_5years', ('IT',), ('RandD',), ('accounting',),\n",
        "       ('hr',), ('management',), ('marketing',), ('product_mng',),\n",
        "       ('sales',), ('support',), ('technical',), 'oe_salary'."
      ]
    },
    {
      "cell_type": "code",
      "metadata": {
        "id": "Z8KeZ4Y0c_Vq"
      },
      "source": [
        "X = df.drop(['left', 'department', 'salary', 'le_salary'],axis=1)\n",
        "y = df['left']\n"
      ],
      "execution_count": 321,
      "outputs": []
    },
    {
      "cell_type": "markdown",
      "metadata": {
        "id": "hpiThHMOcu4g"
      },
      "source": [
        "\n",
        "#### 4.2. Train/test splitting¶: Now split the data into 80% training and 20% test set. Remember to set the random seed to 72.\n"
      ]
    },
    {
      "cell_type": "code",
      "metadata": {
        "id": "yQBUxCExeFiW"
      },
      "source": [
        "X_train, X_test, y_train, y_test = train_test_split(X, y, test_size=0.2, random_state=72)\n"
      ],
      "execution_count": 322,
      "outputs": []
    },
    {
      "cell_type": "markdown",
      "metadata": {
        "id": "FI07dGPezBcp"
      },
      "source": [
        "#### 4.3. Finally, train a Logistic Regression model with cross validation. Use the same parameters as before for Logistic RegressionCV. These are copied again below.\n",
        "\n",
        "`LogisticRegressionCV(solver='lbfgs', cv=5, max_iter=1000, random_state=72)`"
      ]
    },
    {
      "cell_type": "code",
      "metadata": {
        "id": "fkWs6d6HzAhQ",
        "colab": {
          "base_uri": "https://localhost:8080/"
        },
        "outputId": "add6c036-7c0f-41c3-c72f-6c553140af27"
      },
      "source": [
        "log_reg_cv = LogisticRegressionCV(solver='lbfgs', cv=5, max_iter=1000, random_state=72)\n",
        "log_reg_cv.fit(X_train, y_train)\n"
      ],
      "execution_count": 323,
      "outputs": [
        {
          "output_type": "execute_result",
          "data": {
            "text/plain": [
              "LogisticRegressionCV(cv=5, max_iter=1000, random_state=72)"
            ]
          },
          "metadata": {},
          "execution_count": 323
        }
      ]
    },
    {
      "cell_type": "markdown",
      "metadata": {
        "id": "Jc4D3VyVzVYf"
      },
      "source": [
        "#### 4.4 What are accuracy, precision and recall on the test set?"
      ]
    },
    {
      "cell_type": "code",
      "metadata": {
        "colab": {
          "base_uri": "https://localhost:8080/"
        },
        "id": "PKCOUBYPi0YJ",
        "outputId": "549d0012-27c6-4817-8e78-b47488fc3fe3"
      },
      "source": [
        "print(log_reg_cv.score(X_test, y_test))"
      ],
      "execution_count": 324,
      "outputs": [
        {
          "output_type": "stream",
          "name": "stdout",
          "text": [
            "0.8206666666666667\n"
          ]
        }
      ]
    },
    {
      "cell_type": "code",
      "metadata": {
        "id": "YVVDLcVhzhwS",
        "colab": {
          "base_uri": "https://localhost:8080/"
        },
        "outputId": "673d71ff-be83-4fa0-c130-e5365055870a"
      },
      "source": [
        "y_pred = log_reg_cv.predict(X_test)\n",
        "evaluate(y_test, y_pred)"
      ],
      "execution_count": 325,
      "outputs": [
        {
          "output_type": "stream",
          "name": "stdout",
          "text": [
            "CONFUSION MATRIX:\n",
            "[[2110  178]\n",
            " [ 360  352]]\n",
            "ACCURACY SCORE:\n",
            "0.8207\n",
            "CLASSIFICATION REPORT:\n",
            "\tPrecision: 0.6642\n",
            "\tRecall: 0.4944\n",
            "\tF1_Score: 0.5668\n"
          ]
        }
      ]
    },
    {
      "cell_type": "code",
      "metadata": {
        "id": "s3KA5KYhwvSx"
      },
      "source": [
        "# store your test accuracy for later\n",
        "second_test_accuracy = log_reg_cv.score(X_test, y_test)"
      ],
      "execution_count": 326,
      "outputs": []
    },
    {
      "cell_type": "markdown",
      "metadata": {
        "id": "2GOmCRGsrp2M"
      },
      "source": [
        "#### 4.5. Plot the confusion matrix."
      ]
    },
    {
      "cell_type": "code",
      "metadata": {
        "id": "UPRF8EVazuMZ",
        "colab": {
          "base_uri": "https://localhost:8080/",
          "height": 111
        },
        "outputId": "1316a5df-2db6-4eab-96ee-264df39a77a4"
      },
      "source": [
        "pd.DataFrame(confusion_matrix(y_test, y_pred), columns=['predicted: 0', 'predicted: 1 (left)'], index= ['true: 0', 'true: 1 (left)'])\n"
      ],
      "execution_count": 327,
      "outputs": [
        {
          "output_type": "execute_result",
          "data": {
            "text/html": [
              "<div>\n",
              "<style scoped>\n",
              "    .dataframe tbody tr th:only-of-type {\n",
              "        vertical-align: middle;\n",
              "    }\n",
              "\n",
              "    .dataframe tbody tr th {\n",
              "        vertical-align: top;\n",
              "    }\n",
              "\n",
              "    .dataframe thead th {\n",
              "        text-align: right;\n",
              "    }\n",
              "</style>\n",
              "<table border=\"1\" class=\"dataframe\">\n",
              "  <thead>\n",
              "    <tr style=\"text-align: right;\">\n",
              "      <th></th>\n",
              "      <th>predicted: 0</th>\n",
              "      <th>predicted: 1 (left)</th>\n",
              "    </tr>\n",
              "  </thead>\n",
              "  <tbody>\n",
              "    <tr>\n",
              "      <th>true: 0</th>\n",
              "      <td>2110</td>\n",
              "      <td>178</td>\n",
              "    </tr>\n",
              "    <tr>\n",
              "      <th>true: 1 (left)</th>\n",
              "      <td>360</td>\n",
              "      <td>352</td>\n",
              "    </tr>\n",
              "  </tbody>\n",
              "</table>\n",
              "</div>"
            ],
            "text/plain": [
              "                predicted: 0  predicted: 1 (left)\n",
              "true: 0                 2110                  178\n",
              "true: 1 (left)           360                  352"
            ]
          },
          "metadata": {},
          "execution_count": 327
        }
      ]
    },
    {
      "cell_type": "markdown",
      "metadata": {
        "id": "iOmMrPwzeYpR"
      },
      "source": [
        "### 5. Logistic Regression with Standardisation and Cross Validation\n",
        "\n",
        "Try to improve the previous model under point 4 (with `oe_salary`) using standardisation. \n",
        "\n",
        "#### 5.1. Standardize only these numerical features: `satisfaction_level`, `last_evaluation`, `number_project`, `average_monthly_hours`, `time_spent_company`, `eval_spent`, so that each have a mean of zero and a standard deviation of 1. You can use the Scikit-learn `StandardScaler` function.\n",
        "> Hint: remember to use only the training set for fiting the StandardScaler, then apply the scaler (transform) to both the train and test sets.\n",
        ">\n",
        "> Hint 2: X shoud contain the following 19 features 'satisfaction_level', 'last_evaluation', 'number_project',\n",
        "       'average_monthly_hours', 'time_spent_company', 'eval_spent','work_accident',\n",
        "       'promotion_last_5years', ('IT',), ('RandD',), ('accounting',),\n",
        "       ('hr',), ('management',), ('marketing',), ('product_mng',),\n",
        "       ('sales',), ('support',), ('technical',), 'oe_salary'.\n"
      ]
    },
    {
      "cell_type": "code",
      "metadata": {
        "id": "--3fuA6ge1sW"
      },
      "source": [
        "X = df.drop(['left', 'department', 'salary', 'le_salary'],axis=1)\n",
        "y = df['left']"
      ],
      "execution_count": 328,
      "outputs": []
    },
    {
      "cell_type": "code",
      "metadata": {
        "id": "LuVaUb-QynIs"
      },
      "source": [
        "X_train, X_test, y_train, y_test = train_test_split(X, y, test_size=0.2, random_state=72)"
      ],
      "execution_count": 329,
      "outputs": []
    },
    {
      "cell_type": "code",
      "metadata": {
        "id": "qEMiBHFF4OEH"
      },
      "source": [
        "from sklearn.compose import ColumnTransformer\n",
        "numerical_cols=[\"satisfaction_level\", \"last_evaluation\", \"number_project\", \"average_monthly_hours\", \"time_spent_company\", \"eval_spent\"]\n",
        "scaler=StandardScaler()\n",
        "preprocessor = ColumnTransformer([('standardization', scaler, numerical_cols)], remainder='passthrough')\n",
        "#encoded_X_train = preprocessor.fit_transform(X_train)\n",
        "#encoded_X_test = preprocessor.transform(X_test)    \n",
        "preprocessor.fit(X_train, y_train)\n",
        "encoded_X_train = preprocessor.transform(X_train)\n",
        "encoded_X_test = preprocessor.transform(X_test)                                                           "
      ],
      "execution_count": 330,
      "outputs": []
    },
    {
      "cell_type": "code",
      "metadata": {
        "id": "LnsWjbHoycY9"
      },
      "source": [
        "# instantiate\n",
        "# scaler = StandardScaler()\n",
        "# fit on train set only\n",
        "# scaler.fit(X_train, y_train)\n",
        "# apply to the train set and your test\n",
        "# X_train_s = scaler.transform(X_train)\n",
        "# X_test_s = scaler.transform(X_test)"
      ],
      "execution_count": 331,
      "outputs": []
    },
    {
      "cell_type": "markdown",
      "metadata": {
        "id": "Jxuz3ooZkxm5"
      },
      "source": [
        "#### 5.2. Training\n",
        "\n",
        "Train a Logistic Regression model with Cross Validation on the pre-processed dataset to which you applied standardisation. Use the same parameters for LogisticRegressionCV as before. These are copied below.\n",
        "\n",
        "`LogisticRegressionCV(solver='lbfgs', cv=5, max_iter=1000, random_state=72)`\n",
        "\n"
      ]
    },
    {
      "cell_type": "code",
      "metadata": {
        "id": "MW--o0sHk-2-",
        "colab": {
          "base_uri": "https://localhost:8080/"
        },
        "outputId": "afe826ae-dd6c-4e4f-c8d6-171c1f43f30b"
      },
      "source": [
        "log_reg_cv = LogisticRegressionCV(solver='lbfgs', cv=5, max_iter=1000, random_state=72)\n",
        "log_reg_cv.fit(encoded_X_train, y_train)\n"
      ],
      "execution_count": 332,
      "outputs": [
        {
          "output_type": "execute_result",
          "data": {
            "text/plain": [
              "LogisticRegressionCV(cv=5, max_iter=1000, random_state=72)"
            ]
          },
          "metadata": {},
          "execution_count": 332
        }
      ]
    },
    {
      "cell_type": "markdown",
      "metadata": {
        "id": "G8e1k-cTld4s"
      },
      "source": [
        "#### 5.3. What is the test accuracy? What is the train accuracy?"
      ]
    },
    {
      "cell_type": "code",
      "metadata": {
        "id": "oRM8iaRslddX",
        "colab": {
          "base_uri": "https://localhost:8080/"
        },
        "outputId": "3c79727b-4e28-4595-8f8e-79a77efe7041"
      },
      "source": [
        "print(log_reg_cv.score(encoded_X_test, y_test))\n",
        "print(log_reg_cv.score(encoded_X_train, y_train))\n"
      ],
      "execution_count": 333,
      "outputs": [
        {
          "output_type": "stream",
          "name": "stdout",
          "text": [
            "0.8226666666666667\n",
            "0.823151929327444\n"
          ]
        }
      ]
    },
    {
      "cell_type": "code",
      "metadata": {
        "id": "xoepEdpLw4lA"
      },
      "source": [
        "# store the test accuracy for later\n",
        "third = log_reg_cv.score(encoded_X_test, y_test)"
      ],
      "execution_count": 334,
      "outputs": []
    },
    {
      "cell_type": "markdown",
      "metadata": {
        "id": "TwqF0NopnNcv"
      },
      "source": [
        "#### 5.4. Calculate the precision and recall on the test set."
      ]
    },
    {
      "cell_type": "code",
      "metadata": {
        "id": "gRY2UFNNnZub",
        "colab": {
          "base_uri": "https://localhost:8080/"
        },
        "outputId": "ee7cea6a-a90b-47ce-ef20-6cd65a5a393a"
      },
      "source": [
        "y_pred = log_reg_cv.predict(encoded_X_test)\n",
        "evaluate(y_test, y_pred)\n"
      ],
      "execution_count": 335,
      "outputs": [
        {
          "output_type": "stream",
          "name": "stdout",
          "text": [
            "CONFUSION MATRIX:\n",
            "[[2104  184]\n",
            " [ 348  364]]\n",
            "ACCURACY SCORE:\n",
            "0.8227\n",
            "CLASSIFICATION REPORT:\n",
            "\tPrecision: 0.6642\n",
            "\tRecall: 0.5112\n",
            "\tF1_Score: 0.5778\n"
          ]
        }
      ]
    },
    {
      "cell_type": "markdown",
      "metadata": {
        "id": "KiE8eSDNnpMj"
      },
      "source": [
        "#### 5.5. Show the confusion matrix for the test set"
      ]
    },
    {
      "cell_type": "code",
      "metadata": {
        "id": "oFblg98AntID"
      },
      "source": [
        ""
      ],
      "execution_count": 335,
      "outputs": []
    },
    {
      "cell_type": "markdown",
      "metadata": {
        "id": "gP60c3W1gger"
      },
      "source": [
        "#### 5.6. Plot the confusion matrix"
      ]
    },
    {
      "cell_type": "code",
      "metadata": {
        "id": "agoL8LZWguFt",
        "colab": {
          "base_uri": "https://localhost:8080/",
          "height": 111
        },
        "outputId": "9e88d7fa-79c3-47ba-935e-9f8707461e9e"
      },
      "source": [
        "pd.DataFrame(confusion_matrix(y_test, y_pred), columns=['predicted: 0', 'predicted: 1 (left)'], index= ['true: 0', 'true: 1 (left)'])\n",
        "\n"
      ],
      "execution_count": 336,
      "outputs": [
        {
          "output_type": "execute_result",
          "data": {
            "text/html": [
              "<div>\n",
              "<style scoped>\n",
              "    .dataframe tbody tr th:only-of-type {\n",
              "        vertical-align: middle;\n",
              "    }\n",
              "\n",
              "    .dataframe tbody tr th {\n",
              "        vertical-align: top;\n",
              "    }\n",
              "\n",
              "    .dataframe thead th {\n",
              "        text-align: right;\n",
              "    }\n",
              "</style>\n",
              "<table border=\"1\" class=\"dataframe\">\n",
              "  <thead>\n",
              "    <tr style=\"text-align: right;\">\n",
              "      <th></th>\n",
              "      <th>predicted: 0</th>\n",
              "      <th>predicted: 1 (left)</th>\n",
              "    </tr>\n",
              "  </thead>\n",
              "  <tbody>\n",
              "    <tr>\n",
              "      <th>true: 0</th>\n",
              "      <td>2104</td>\n",
              "      <td>184</td>\n",
              "    </tr>\n",
              "    <tr>\n",
              "      <th>true: 1 (left)</th>\n",
              "      <td>348</td>\n",
              "      <td>364</td>\n",
              "    </tr>\n",
              "  </tbody>\n",
              "</table>\n",
              "</div>"
            ],
            "text/plain": [
              "                predicted: 0  predicted: 1 (left)\n",
              "true: 0                 2104                  184\n",
              "true: 1 (left)           348                  364"
            ]
          },
          "metadata": {},
          "execution_count": 336
        }
      ]
    },
    {
      "cell_type": "markdown",
      "metadata": {
        "id": "IugsRC-jXOOF"
      },
      "source": [
        "#### 5.7. Use the logistic regression model with standardisation and cross validation to predict whether a employee with the following characteristics will stay on the job or leave:\n",
        "\n",
        "> An employee from the sales department, low salary, satisfaction 0.43, last evaluation 0.97, involved in 6 projects, working 284 monthly hours, 4 years spent with the company, 0 work accident and 0 promotions in the last 5 years."
      ]
    },
    {
      "cell_type": "code",
      "metadata": {
        "id": "aFbXuh8dXVqz",
        "colab": {
          "base_uri": "https://localhost:8080/",
          "height": 100
        },
        "outputId": "a0850be6-1858-4010-e0b8-a850682cc04c"
      },
      "source": [
        "# these are the X-values for which you should make the prediction\n",
        "X_new = pd.DataFrame({'satisfaction_level': 0.43, 'last_evaluation': 0.97, 'number_project': 6,\n",
        "       'average_monthly_hours': 284, 'time_spent_company': 4, 'eval_spent': 3.88, \n",
        "       'work_accident': 0, 'promotion_last_5years': 0, ('IT',): 0, ('RandD',): 0, ('accounting',): 0,\n",
        "       ('hr',): 0, ('management',): 0, ('marketing',): 0, ('product_mng',): 0,\n",
        "       ('sales',): 1, ('support',): 0, ('technical',): 0, 'oe_salary': 0}, index=[0])\n",
        "X_new\n"
      ],
      "execution_count": 337,
      "outputs": [
        {
          "output_type": "execute_result",
          "data": {
            "text/html": [
              "<div>\n",
              "<style scoped>\n",
              "    .dataframe tbody tr th:only-of-type {\n",
              "        vertical-align: middle;\n",
              "    }\n",
              "\n",
              "    .dataframe tbody tr th {\n",
              "        vertical-align: top;\n",
              "    }\n",
              "\n",
              "    .dataframe thead th {\n",
              "        text-align: right;\n",
              "    }\n",
              "</style>\n",
              "<table border=\"1\" class=\"dataframe\">\n",
              "  <thead>\n",
              "    <tr style=\"text-align: right;\">\n",
              "      <th></th>\n",
              "      <th>satisfaction_level</th>\n",
              "      <th>last_evaluation</th>\n",
              "      <th>number_project</th>\n",
              "      <th>average_monthly_hours</th>\n",
              "      <th>time_spent_company</th>\n",
              "      <th>eval_spent</th>\n",
              "      <th>work_accident</th>\n",
              "      <th>promotion_last_5years</th>\n",
              "      <th>(IT,)</th>\n",
              "      <th>(RandD,)</th>\n",
              "      <th>(accounting,)</th>\n",
              "      <th>(hr,)</th>\n",
              "      <th>(management,)</th>\n",
              "      <th>(marketing,)</th>\n",
              "      <th>(product_mng,)</th>\n",
              "      <th>(sales,)</th>\n",
              "      <th>(support,)</th>\n",
              "      <th>(technical,)</th>\n",
              "      <th>oe_salary</th>\n",
              "    </tr>\n",
              "  </thead>\n",
              "  <tbody>\n",
              "    <tr>\n",
              "      <th>0</th>\n",
              "      <td>0.43</td>\n",
              "      <td>0.97</td>\n",
              "      <td>6</td>\n",
              "      <td>284</td>\n",
              "      <td>4</td>\n",
              "      <td>3.88</td>\n",
              "      <td>0</td>\n",
              "      <td>0</td>\n",
              "      <td>0</td>\n",
              "      <td>0</td>\n",
              "      <td>0</td>\n",
              "      <td>0</td>\n",
              "      <td>0</td>\n",
              "      <td>0</td>\n",
              "      <td>0</td>\n",
              "      <td>1</td>\n",
              "      <td>0</td>\n",
              "      <td>0</td>\n",
              "      <td>0</td>\n",
              "    </tr>\n",
              "  </tbody>\n",
              "</table>\n",
              "</div>"
            ],
            "text/plain": [
              "   satisfaction_level  last_evaluation  ...  (technical,)  oe_salary\n",
              "0                0.43             0.97  ...             0          0\n",
              "\n",
              "[1 rows x 19 columns]"
            ]
          },
          "metadata": {},
          "execution_count": 337
        }
      ]
    },
    {
      "cell_type": "code",
      "metadata": {
        "id": "X6lnBXFxS_ik",
        "colab": {
          "base_uri": "https://localhost:8080/"
        },
        "outputId": "8809ddb7-cef7-4adc-87da-2f143cc5b967"
      },
      "source": [
        "#X_new = preprocessor.transform(X_new)\n",
        "#X_new = preprocessor.fit_transform(X_new)\n",
        "y_new_pred = log_reg_cv.predict(X_new)\n",
        "print(y_new_pred)"
      ],
      "execution_count": 338,
      "outputs": [
        {
          "output_type": "stream",
          "name": "stdout",
          "text": [
            "[1]\n"
          ]
        },
        {
          "output_type": "stream",
          "name": "stderr",
          "text": [
            "/usr/local/lib/python3.7/dist-packages/sklearn/utils/validation.py:1679: FutureWarning: Feature names only support names that are all strings. Got feature names with dtypes: ['str', 'tuple']. An error will be raised in 1.2.\n",
            "  FutureWarning,\n"
          ]
        }
      ]
    },
    {
      "cell_type": "markdown",
      "metadata": {
        "id": "ZZ4x4uoIieJe"
      },
      "source": [
        "### 6. KNN with standardisation\n",
        "\n",
        "#### 6.1. Train a model using a K-Nearest Neighbours (KNN) algorithm, setting `knn = KNeighborsClassifier(n_neighbors=2)`. Use the same features as in the previous model (`oe_salary`) and standardisation.\n",
        "\n",
        "> Hint: X shoud contain the following 19 features 'satisfaction_level', 'last_evaluation', 'number_project',\n",
        "       'average_monthly_hours', 'time_spent_company', 'eval_spent','work_accident',\n",
        "       'promotion_last_5years', ('IT',), ('RandD',), ('accounting',),\n",
        "       ('hr',), ('management',), ('marketing',), ('product_mng',),\n",
        "       ('sales',), ('support',), ('technical',), 'oe_salary'."
      ]
    },
    {
      "cell_type": "code",
      "metadata": {
        "id": "9FHx6ToXkXdH",
        "colab": {
          "base_uri": "https://localhost:8080/"
        },
        "outputId": "345e9f8a-7a5a-4aed-dd34-f25f77aa3896"
      },
      "source": [
        "from sklearn.neighbors import KNeighborsClassifier\n",
        "knn = KNeighborsClassifier(n_neighbors=2)\n",
        "X = df.drop(['left', 'department', 'salary', 'le_salary'],axis=1)\n",
        "y = df['left']\n",
        "X_train, X_test, y_train, y_test = train_test_split(X, y, test_size=0.2, random_state=72)\n",
        "from sklearn.compose import ColumnTransformer\n",
        "numerical_cols=[\"satisfaction_level\", \"last_evaluation\", \"number_project\", \"average_monthly_hours\", \"time_spent_company\", \"eval_spent\"]\n",
        "scaler=StandardScaler()\n",
        "preprocessor = ColumnTransformer([('standardization', scaler, numerical_cols)], remainder='passthrough')\n",
        "#encoded_X_train = preprocessor.fit_transform(X_train)\n",
        "#encoded_X_test = preprocessor.transform(X_test)\n",
        "preprocessor.fit(X_train, y_train)\n",
        "encoded_X_train = preprocessor.transform(X_train)\n",
        "encoded_X_test = preprocessor.transform(X_test)\n",
        "knn.fit(encoded_X_train, y_train)"
      ],
      "execution_count": 339,
      "outputs": [
        {
          "output_type": "execute_result",
          "data": {
            "text/plain": [
              "KNeighborsClassifier(n_neighbors=2)"
            ]
          },
          "metadata": {},
          "execution_count": 339
        }
      ]
    },
    {
      "cell_type": "markdown",
      "metadata": {
        "id": "_D_OMunOmjrt"
      },
      "source": [
        "#### 6.2. What is the train and test accuracy?"
      ]
    },
    {
      "cell_type": "code",
      "metadata": {
        "id": "41or1EWqDFn3",
        "colab": {
          "base_uri": "https://localhost:8080/"
        },
        "outputId": "059b6b81-a97c-4f9c-ec07-952d0a5ccfc3"
      },
      "source": [
        "print(knn.score(encoded_X_train, y_train))\n",
        "print(knn.score(encoded_X_test, y_test))\n"
      ],
      "execution_count": 340,
      "outputs": [
        {
          "output_type": "stream",
          "name": "stdout",
          "text": [
            "0.9924993749479123\n",
            "0.9703333333333334\n"
          ]
        }
      ]
    },
    {
      "cell_type": "code",
      "metadata": {
        "id": "I7Qf7nJixb6W"
      },
      "source": [
        "# store the test-accuracy for later\n",
        "fourth_test_score = knn.score(encoded_X_test, y_test)\n"
      ],
      "execution_count": 341,
      "outputs": []
    },
    {
      "cell_type": "markdown",
      "metadata": {
        "id": "FL2KCnrXm8RD"
      },
      "source": [
        "#### 6.3. What is the precision and recall?"
      ]
    },
    {
      "cell_type": "code",
      "metadata": {
        "id": "6B3B9MKmm_My",
        "colab": {
          "base_uri": "https://localhost:8080/"
        },
        "outputId": "8388d91a-a24c-4a4d-8982-8031695639ff"
      },
      "source": [
        "y_pred = knn.predict(encoded_X_test)\n",
        "evaluate(y_test, y_pred)\n"
      ],
      "execution_count": 342,
      "outputs": [
        {
          "output_type": "stream",
          "name": "stdout",
          "text": [
            "CONFUSION MATRIX:\n",
            "[[2248   40]\n",
            " [  49  663]]\n",
            "ACCURACY SCORE:\n",
            "0.9703\n",
            "CLASSIFICATION REPORT:\n",
            "\tPrecision: 0.9431\n",
            "\tRecall: 0.9312\n",
            "\tF1_Score: 0.9371\n"
          ]
        }
      ]
    },
    {
      "cell_type": "markdown",
      "metadata": {
        "id": "kd1N5wMlmn8J"
      },
      "source": [
        "#### 6.4. Print and plot the confusion matrix"
      ]
    },
    {
      "cell_type": "code",
      "metadata": {
        "id": "b5QSYum1lqRN",
        "colab": {
          "base_uri": "https://localhost:8080/",
          "height": 111
        },
        "outputId": "bd40cd93-aa73-45d4-ce5f-dc903c9c2e55"
      },
      "source": [
        "pd.DataFrame(confusion_matrix(y_test, y_pred), columns=['predicted: 0', 'predicted: 1 (left)'], index= ['true: 0', 'true: 1 (left)'])\n"
      ],
      "execution_count": 343,
      "outputs": [
        {
          "output_type": "execute_result",
          "data": {
            "text/html": [
              "<div>\n",
              "<style scoped>\n",
              "    .dataframe tbody tr th:only-of-type {\n",
              "        vertical-align: middle;\n",
              "    }\n",
              "\n",
              "    .dataframe tbody tr th {\n",
              "        vertical-align: top;\n",
              "    }\n",
              "\n",
              "    .dataframe thead th {\n",
              "        text-align: right;\n",
              "    }\n",
              "</style>\n",
              "<table border=\"1\" class=\"dataframe\">\n",
              "  <thead>\n",
              "    <tr style=\"text-align: right;\">\n",
              "      <th></th>\n",
              "      <th>predicted: 0</th>\n",
              "      <th>predicted: 1 (left)</th>\n",
              "    </tr>\n",
              "  </thead>\n",
              "  <tbody>\n",
              "    <tr>\n",
              "      <th>true: 0</th>\n",
              "      <td>2248</td>\n",
              "      <td>40</td>\n",
              "    </tr>\n",
              "    <tr>\n",
              "      <th>true: 1 (left)</th>\n",
              "      <td>49</td>\n",
              "      <td>663</td>\n",
              "    </tr>\n",
              "  </tbody>\n",
              "</table>\n",
              "</div>"
            ],
            "text/plain": [
              "                predicted: 0  predicted: 1 (left)\n",
              "true: 0                 2248                   40\n",
              "true: 1 (left)            49                  663"
            ]
          },
          "metadata": {},
          "execution_count": 343
        }
      ]
    },
    {
      "cell_type": "markdown",
      "metadata": {
        "id": "kWMZOW63GtSZ"
      },
      "source": [
        "#### 6.5. Use the K-Nearest Neighbours (KNN) model trained above to predict whether a employee with the characteristics outilined below will stay on the job. This is the same employee as before under point 5.7.\n",
        "\n",
        "> An employee from the sales department, low salary, satisfaction 0.43, last evaluation 0.97, involved in 6 projects, working 284 monthly hours, 4 years spent with the company, 0 work accident and 0 promotions in the last 5 years. (same as before)\n",
        ">\n",
        "> Hint: do not forget to apply standardisation to the data for the new employee for which you want to make the prediction."
      ]
    },
    {
      "cell_type": "code",
      "metadata": {
        "id": "TeMJ-3nbymnQ",
        "colab": {
          "base_uri": "https://localhost:8080/",
          "height": 100
        },
        "outputId": "5631aa75-9529-452d-b33e-e7c6000d4e26"
      },
      "source": [
        "# these are the X-values for which you should make the prediction\n",
        "X_new = pd.DataFrame({'satisfaction_level': 0.43, 'last_evaluation': 0.97, 'number_project': 6,\n",
        "       'average_monthly_hours': 284, 'time_spent_company': 4, 'eval_spent': 3.88, \n",
        "       'work_accident': 0, 'promotion_last_5years': 0, ('IT',): 0, ('RandD',): 0, ('accounting',): 0,\n",
        "       ('hr',): 0, ('management',): 0, ('marketing',): 0, ('product_mng',): 0,\n",
        "       ('sales',): 1, ('support',): 0, ('technical',): 0, 'salary_encoded': 0}, index=[0])\n",
        "X_new"
      ],
      "execution_count": 344,
      "outputs": [
        {
          "output_type": "execute_result",
          "data": {
            "text/html": [
              "<div>\n",
              "<style scoped>\n",
              "    .dataframe tbody tr th:only-of-type {\n",
              "        vertical-align: middle;\n",
              "    }\n",
              "\n",
              "    .dataframe tbody tr th {\n",
              "        vertical-align: top;\n",
              "    }\n",
              "\n",
              "    .dataframe thead th {\n",
              "        text-align: right;\n",
              "    }\n",
              "</style>\n",
              "<table border=\"1\" class=\"dataframe\">\n",
              "  <thead>\n",
              "    <tr style=\"text-align: right;\">\n",
              "      <th></th>\n",
              "      <th>satisfaction_level</th>\n",
              "      <th>last_evaluation</th>\n",
              "      <th>number_project</th>\n",
              "      <th>average_monthly_hours</th>\n",
              "      <th>time_spent_company</th>\n",
              "      <th>eval_spent</th>\n",
              "      <th>work_accident</th>\n",
              "      <th>promotion_last_5years</th>\n",
              "      <th>(IT,)</th>\n",
              "      <th>(RandD,)</th>\n",
              "      <th>(accounting,)</th>\n",
              "      <th>(hr,)</th>\n",
              "      <th>(management,)</th>\n",
              "      <th>(marketing,)</th>\n",
              "      <th>(product_mng,)</th>\n",
              "      <th>(sales,)</th>\n",
              "      <th>(support,)</th>\n",
              "      <th>(technical,)</th>\n",
              "      <th>salary_encoded</th>\n",
              "    </tr>\n",
              "  </thead>\n",
              "  <tbody>\n",
              "    <tr>\n",
              "      <th>0</th>\n",
              "      <td>0.43</td>\n",
              "      <td>0.97</td>\n",
              "      <td>6</td>\n",
              "      <td>284</td>\n",
              "      <td>4</td>\n",
              "      <td>3.88</td>\n",
              "      <td>0</td>\n",
              "      <td>0</td>\n",
              "      <td>0</td>\n",
              "      <td>0</td>\n",
              "      <td>0</td>\n",
              "      <td>0</td>\n",
              "      <td>0</td>\n",
              "      <td>0</td>\n",
              "      <td>0</td>\n",
              "      <td>1</td>\n",
              "      <td>0</td>\n",
              "      <td>0</td>\n",
              "      <td>0</td>\n",
              "    </tr>\n",
              "  </tbody>\n",
              "</table>\n",
              "</div>"
            ],
            "text/plain": [
              "   satisfaction_level  last_evaluation  ...  (technical,)  salary_encoded\n",
              "0                0.43             0.97  ...             0               0\n",
              "\n",
              "[1 rows x 19 columns]"
            ]
          },
          "metadata": {},
          "execution_count": 344
        }
      ]
    },
    {
      "cell_type": "code",
      "metadata": {
        "id": "o0qdDuAjMU_G",
        "colab": {
          "base_uri": "https://localhost:8080/"
        },
        "outputId": "0012041d-fdc9-4616-d5f5-134fa53d99b0"
      },
      "source": [
        "#X_new = scaler.fit_transform(X_new)\n",
        "#preprocessor.fit(X_new)\n",
        "#X_new = scaler.transform(X_new)\n",
        "X_new = preprocessor.fit_transform(X_new)\n",
        "y_new_pred = knn.predict(X_new)\n",
        "print(y_new_pred)"
      ],
      "execution_count": 345,
      "outputs": [
        {
          "output_type": "stream",
          "name": "stdout",
          "text": [
            "[0]\n"
          ]
        },
        {
          "output_type": "stream",
          "name": "stderr",
          "text": [
            "/usr/local/lib/python3.7/dist-packages/sklearn/utils/validation.py:1679: FutureWarning: Feature names only support names that are all strings. Got feature names with dtypes: ['str', 'tuple']. An error will be raised in 1.2.\n",
            "  FutureWarning,\n"
          ]
        }
      ]
    },
    {
      "cell_type": "markdown",
      "metadata": {
        "id": "bsnPOjTLIAb5"
      },
      "source": [
        "### 7. Decision Tree Classifier and Standardisation\n",
        "\n",
        "#### 7.1. Use the same features as before (with `oe_salary`) and standardisation to train your model of emloyee retention. Use the following parameters for your decision tree: `DecisionTreeClassifier(max_depth=7, random_state=72)`\n",
        "\n",
        "> Hint: X should have a total of 19 features, namely: 'satisfaction_level', 'last_evaluation',            'number_project', 'average_monthly_hours',           'time_spent_company',         'work_accident',       'promotion_last_5years',                 ('IT',),                   ('RandD',),         ('accounting',), ('hr',),         ('management',),  ('marketing',), ('product_mng',), ('sales',),            ('support',), ('technical',), 'le_salary', 'eval_spent'.\n"
      ]
    },
    {
      "cell_type": "code",
      "metadata": {
        "id": "xlDAUBkcH_iq"
      },
      "source": [
        "from sklearn.tree import DecisionTreeClassifier\n",
        "tree=DecisionTreeClassifier(max_depth=7, random_state=72)"
      ],
      "execution_count": 346,
      "outputs": []
    },
    {
      "cell_type": "code",
      "metadata": {
        "id": "1_uupNg6H_Us",
        "colab": {
          "base_uri": "https://localhost:8080/"
        },
        "outputId": "cc695c16-0751-4af7-a5b4-c4f3f81c660e"
      },
      "source": [
        "X = df.drop(['left', 'department', 'salary', 'le_salary'],axis=1)\n",
        "y = df['left']\n",
        "#tree = DecisionTreeClassifier()\n",
        "tree = DecisionTreeClassifier(max_depth=7, random_state=72)\n",
        "X_train, X_test, y_train, y_test = train_test_split(X, y, test_size=0.2, random_state=72)\n",
        "from sklearn.compose import ColumnTransformer\n",
        "numerical_cols=[\"satisfaction_level\", \"last_evaluation\", \"number_project\", \"average_monthly_hours\", \"time_spent_company\", \"eval_spent\"]\n",
        "scaler=StandardScaler()\n",
        "preprocessor = ColumnTransformer([('standardization', scaler, numerical_cols)], remainder='passthrough')\n",
        "encoded_X_train = preprocessor.fit_transform(X_train)\n",
        "encoded_X_test = preprocessor.transform(X_test)\n",
        "tree.fit(encoded_X_train, y_train)\n"
      ],
      "execution_count": 347,
      "outputs": [
        {
          "output_type": "execute_result",
          "data": {
            "text/plain": [
              "DecisionTreeClassifier(max_depth=7, random_state=72)"
            ]
          },
          "metadata": {},
          "execution_count": 347
        }
      ]
    },
    {
      "cell_type": "markdown",
      "metadata": {
        "id": "G2FpmqNjJ66g"
      },
      "source": [
        "#### 7.2. Calculate the test and train accuracy."
      ]
    },
    {
      "cell_type": "code",
      "metadata": {
        "id": "mQULc9q6H_LX",
        "colab": {
          "base_uri": "https://localhost:8080/"
        },
        "outputId": "17b16dc3-2714-494b-a9f9-36b99c6826f9"
      },
      "source": [
        "print(tree.score(encoded_X_test, y_test))\n",
        "print(tree.score(encoded_X_train, y_train))\n"
      ],
      "execution_count": 348,
      "outputs": [
        {
          "output_type": "stream",
          "name": "stdout",
          "text": [
            "0.9826666666666667\n",
            "0.9809984165347112\n"
          ]
        }
      ]
    },
    {
      "cell_type": "code",
      "metadata": {
        "id": "-XSqSItkxj9h"
      },
      "source": [
        "# store for the test-accuracy for later\n",
        "fifth = tree.score(encoded_X_test, y_test)"
      ],
      "execution_count": 349,
      "outputs": []
    },
    {
      "cell_type": "markdown",
      "metadata": {
        "id": "Q5RqEnqtOp4i"
      },
      "source": [
        "#### 7.3. Calculate precision and recall on the test set"
      ]
    },
    {
      "cell_type": "code",
      "metadata": {
        "id": "toVqjFO9O27Y",
        "colab": {
          "base_uri": "https://localhost:8080/"
        },
        "outputId": "05175e71-1969-4774-e56c-5b161678d9c6"
      },
      "source": [
        "y_pred = tree.predict(encoded_X_test)\n",
        "evaluate(y_test, y_pred)\n"
      ],
      "execution_count": 350,
      "outputs": [
        {
          "output_type": "stream",
          "name": "stdout",
          "text": [
            "CONFUSION MATRIX:\n",
            "[[2283    5]\n",
            " [  47  665]]\n",
            "ACCURACY SCORE:\n",
            "0.9827\n",
            "CLASSIFICATION REPORT:\n",
            "\tPrecision: 0.9925\n",
            "\tRecall: 0.9340\n",
            "\tF1_Score: 0.9624\n"
          ]
        }
      ]
    },
    {
      "cell_type": "markdown",
      "metadata": {
        "id": "BwZd3GFTPa62"
      },
      "source": [
        "#### 7.4. Plot the confusion matrix"
      ]
    },
    {
      "cell_type": "code",
      "metadata": {
        "id": "Dc5v4veLMThI",
        "colab": {
          "base_uri": "https://localhost:8080/",
          "height": 111
        },
        "outputId": "fc340c08-f5bf-47be-aa52-40741aa8b133"
      },
      "source": [
        "pd.DataFrame(confusion_matrix(y_test, y_pred), columns=['predicted: 0', 'predicted: 1 (left)'], index= ['true: 0', 'true: 1 (left)'])\n"
      ],
      "execution_count": 351,
      "outputs": [
        {
          "output_type": "execute_result",
          "data": {
            "text/html": [
              "<div>\n",
              "<style scoped>\n",
              "    .dataframe tbody tr th:only-of-type {\n",
              "        vertical-align: middle;\n",
              "    }\n",
              "\n",
              "    .dataframe tbody tr th {\n",
              "        vertical-align: top;\n",
              "    }\n",
              "\n",
              "    .dataframe thead th {\n",
              "        text-align: right;\n",
              "    }\n",
              "</style>\n",
              "<table border=\"1\" class=\"dataframe\">\n",
              "  <thead>\n",
              "    <tr style=\"text-align: right;\">\n",
              "      <th></th>\n",
              "      <th>predicted: 0</th>\n",
              "      <th>predicted: 1 (left)</th>\n",
              "    </tr>\n",
              "  </thead>\n",
              "  <tbody>\n",
              "    <tr>\n",
              "      <th>true: 0</th>\n",
              "      <td>2283</td>\n",
              "      <td>5</td>\n",
              "    </tr>\n",
              "    <tr>\n",
              "      <th>true: 1 (left)</th>\n",
              "      <td>47</td>\n",
              "      <td>665</td>\n",
              "    </tr>\n",
              "  </tbody>\n",
              "</table>\n",
              "</div>"
            ],
            "text/plain": [
              "                predicted: 0  predicted: 1 (left)\n",
              "true: 0                 2283                    5\n",
              "true: 1 (left)            47                  665"
            ]
          },
          "metadata": {},
          "execution_count": 351
        }
      ]
    },
    {
      "cell_type": "markdown",
      "metadata": {
        "id": "TI36pgVHv3Dy"
      },
      "source": [
        "### 8. Accuracy improvement\n",
        "\n",
        "Generate a plot with the different test accuracy scores obtained for the different models trained and including the base rate you calculated in the beginning."
      ]
    },
    {
      "cell_type": "code",
      "metadata": {
        "id": "qGN0jmaMv1fP"
      },
      "source": [
        "# your code here\n"
      ],
      "execution_count": 352,
      "outputs": []
    }
  ]
}