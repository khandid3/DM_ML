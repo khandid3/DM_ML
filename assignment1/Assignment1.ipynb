{
  "nbformat": 4,
  "nbformat_minor": 0,
  "metadata": {
    "colab": {
      "name": "Assignment1.ipynb",
      "provenance": [],
      "collapsed_sections": []
    },
    "kernelspec": {
      "name": "python3",
      "display_name": "Python 3"
    },
    "language_info": {
      "name": "python"
    }
  },
  "cells": [
    {
      "cell_type": "markdown",
      "metadata": {
        "id": "s6wyGzMGMAZl"
      },
      "source": [
        "\n",
        "<a href=\"https://colab.research.google.com/github/michalis0/DataMining_and_MachineLearning/blob/master/Assignment1/Assignment1.ipynb\" target=\"_parent\"><img src=\"https://colab.research.google.com/assets/colab-badge.svg\" alt=\"Open In Colab\"/></a>\n",
        "\n"
      ]
    },
    {
      "cell_type": "markdown",
      "metadata": {
        "id": "iwAXDYpDDSB5"
      },
      "source": [
        "# Data Mining and Machine Learning - Assignment 1\n",
        "\n",
        "> Topics Covered: Data Cleaning, Exploratory Data Analysis, Visualization and Regression 1 and 2 (up to and including week 5)\n",
        "\n",
        "**Due: Sunday November 7, 23.59pm**\n",
        "\n",
        "\n",
        "This assignment is the opportunity to apply the different concepts seen in class so far to a new dataset on the sales of a store.\n",
        "\n",
        "Run the first few cells to load the dataset and then get started with the questions! \n",
        "\n",
        "To complete the assignment you have to do ***both***:\n",
        "\n",
        "1. Complete the exercises and submit [your Python notebook](https://moodle.unil.ch/mod/assign/view.php?id=841447)\n",
        "2. Answer the questions to [the quiz on Moodle](https://moodle.unil.ch/mod/quiz/view.php?id=1172387) \n",
        ">Note: You can only complete the quiz one time. Have your notebook with the asnwers ready for answering the quiz. \n",
        "\n",
        "The answers to the quiz should be supported by your code in the notebook. If they are not, you will not receive points for them.\n",
        "\n",
        "**IMPORTANT!** You can discuss the questions with other students but **do not exchange code!** This is individual work. We will run your code and check for similarities.\n",
        "\n",
        "You can post your questions in slack [channel #assignments](https://app.slack.com/client/T02C4KVGVMX/C02BBA2TFQF).\n",
        "\n",
        "\n",
        "If there is need for further clarifications on the questions, after the assignment is released, we will update the file on GitHub, so make sure you check the git repo of the class for updates.\n",
        "\n",
        "Good luck!"
      ]
    },
    {
      "cell_type": "code",
      "metadata": {
        "id": "zWUCxcA6TKAI"
      },
      "source": [
        "# Import required packages\n",
        "\n",
        "import pandas as pd\n",
        "import numpy as np\n",
        "import matplotlib.pyplot as plt\n",
        "import seaborn as sns\n",
        "%matplotlib inline\n",
        "sns.set_style(\"whitegrid\")"
      ],
      "execution_count": null,
      "outputs": []
    },
    {
      "cell_type": "code",
      "metadata": {
        "id": "bksyZc4p0hVZ"
      },
      "source": [
        "# Load the data\n",
        "df=pd.read_csv('https://raw.githubusercontent.com/michalis0/DataMining_and_MachineLearning/master/data/sales.csv')"
      ],
      "execution_count": null,
      "outputs": []
    },
    {
      "cell_type": "markdown",
      "metadata": {
        "id": "3RQLjcgCBwVt"
      },
      "source": [
        "For the first part we use data on the retail sales of a store over several years. The dataset includes information on items purchased from this store, including for each item or article:\n",
        "* order ID (a unique identifyier of the order through which this item was purchased)\n",
        "* date of the order\n",
        "* date the shipment was made\n",
        "* mode of shipment used (first class, second class, etc.)\n",
        "* customer ID (unique identifyier of the client)\n",
        "* customer name\n",
        "* client segment (consumer, corporate, etc.)\n",
        "* country, city, state, postal code, region of the client\n",
        "* product ID, product category, sub-category, and product name\n",
        "* sales value for purchased items in USD."
      ]
    },
    {
      "cell_type": "markdown",
      "metadata": {
        "id": "xKdL7SxJH7Nw"
      },
      "source": [
        "## 1. Understand and Clean the Dataset\n",
        "\n",
        ">1.1 Show the first 5 or 10 rows to get an idea of the data. "
      ]
    },
    {
      "cell_type": "code",
      "metadata": {
        "id": "bJQn3lz313aL",
        "colab": {
          "base_uri": "https://localhost:8080/",
          "height": 547
        },
        "outputId": "245e136b-d1c0-4918-b231-0439ddace4d5"
      },
      "source": [
        "df.head()"
      ],
      "execution_count": null,
      "outputs": [
        {
          "output_type": "execute_result",
          "data": {
            "text/html": [
              "<div>\n",
              "<style scoped>\n",
              "    .dataframe tbody tr th:only-of-type {\n",
              "        vertical-align: middle;\n",
              "    }\n",
              "\n",
              "    .dataframe tbody tr th {\n",
              "        vertical-align: top;\n",
              "    }\n",
              "\n",
              "    .dataframe thead th {\n",
              "        text-align: right;\n",
              "    }\n",
              "</style>\n",
              "<table border=\"1\" class=\"dataframe\">\n",
              "  <thead>\n",
              "    <tr style=\"text-align: right;\">\n",
              "      <th></th>\n",
              "      <th>Row ID</th>\n",
              "      <th>Order ID</th>\n",
              "      <th>Order Date</th>\n",
              "      <th>Ship Date</th>\n",
              "      <th>Ship Mode</th>\n",
              "      <th>Customer ID</th>\n",
              "      <th>Customer Name</th>\n",
              "      <th>Segment</th>\n",
              "      <th>Country</th>\n",
              "      <th>City</th>\n",
              "      <th>State</th>\n",
              "      <th>Postal Code</th>\n",
              "      <th>Region</th>\n",
              "      <th>Product ID</th>\n",
              "      <th>Category</th>\n",
              "      <th>Sub-Category</th>\n",
              "      <th>Product Name</th>\n",
              "      <th>Sales</th>\n",
              "    </tr>\n",
              "  </thead>\n",
              "  <tbody>\n",
              "    <tr>\n",
              "      <th>0</th>\n",
              "      <td>1</td>\n",
              "      <td>CA-2017-152156</td>\n",
              "      <td>08/11/2017</td>\n",
              "      <td>11/11/2017</td>\n",
              "      <td>Second Class</td>\n",
              "      <td>CG-12520</td>\n",
              "      <td>Claire Gute</td>\n",
              "      <td>Consumer</td>\n",
              "      <td>United States</td>\n",
              "      <td>Henderson</td>\n",
              "      <td>Kentucky</td>\n",
              "      <td>42420.0</td>\n",
              "      <td>South</td>\n",
              "      <td>FUR-BO-10001798</td>\n",
              "      <td>Furniture</td>\n",
              "      <td>Bookcases</td>\n",
              "      <td>Bush Somerset Collection Bookcase</td>\n",
              "      <td>261.9600</td>\n",
              "    </tr>\n",
              "    <tr>\n",
              "      <th>1</th>\n",
              "      <td>2</td>\n",
              "      <td>CA-2017-152156</td>\n",
              "      <td>08/11/2017</td>\n",
              "      <td>11/11/2017</td>\n",
              "      <td>Second Class</td>\n",
              "      <td>CG-12520</td>\n",
              "      <td>Claire Gute</td>\n",
              "      <td>Consumer</td>\n",
              "      <td>United States</td>\n",
              "      <td>Henderson</td>\n",
              "      <td>Kentucky</td>\n",
              "      <td>42420.0</td>\n",
              "      <td>South</td>\n",
              "      <td>FUR-CH-10000454</td>\n",
              "      <td>Furniture</td>\n",
              "      <td>Chairs</td>\n",
              "      <td>Hon Deluxe Fabric Upholstered Stacking Chairs,...</td>\n",
              "      <td>731.9400</td>\n",
              "    </tr>\n",
              "    <tr>\n",
              "      <th>2</th>\n",
              "      <td>3</td>\n",
              "      <td>CA-2017-138688</td>\n",
              "      <td>12/06/2017</td>\n",
              "      <td>16/06/2017</td>\n",
              "      <td>Second Class</td>\n",
              "      <td>DV-13045</td>\n",
              "      <td>Darrin Van Huff</td>\n",
              "      <td>Corporate</td>\n",
              "      <td>United States</td>\n",
              "      <td>Los Angeles</td>\n",
              "      <td>California</td>\n",
              "      <td>90036.0</td>\n",
              "      <td>West</td>\n",
              "      <td>OFF-LA-10000240</td>\n",
              "      <td>Office Supplies</td>\n",
              "      <td>Labels</td>\n",
              "      <td>Self-Adhesive Address Labels for Typewriters b...</td>\n",
              "      <td>14.6200</td>\n",
              "    </tr>\n",
              "    <tr>\n",
              "      <th>3</th>\n",
              "      <td>4</td>\n",
              "      <td>US-2016-108966</td>\n",
              "      <td>11/10/2016</td>\n",
              "      <td>18/10/2016</td>\n",
              "      <td>Standard Class</td>\n",
              "      <td>SO-20335</td>\n",
              "      <td>Sean O'Donnell</td>\n",
              "      <td>Consumer</td>\n",
              "      <td>United States</td>\n",
              "      <td>Fort Lauderdale</td>\n",
              "      <td>Florida</td>\n",
              "      <td>33311.0</td>\n",
              "      <td>South</td>\n",
              "      <td>FUR-TA-10000577</td>\n",
              "      <td>Furniture</td>\n",
              "      <td>Tables</td>\n",
              "      <td>Bretford CR4500 Series Slim Rectangular Table</td>\n",
              "      <td>957.5775</td>\n",
              "    </tr>\n",
              "    <tr>\n",
              "      <th>4</th>\n",
              "      <td>5</td>\n",
              "      <td>US-2016-108966</td>\n",
              "      <td>11/10/2016</td>\n",
              "      <td>18/10/2016</td>\n",
              "      <td>Standard Class</td>\n",
              "      <td>SO-20335</td>\n",
              "      <td>Sean O'Donnell</td>\n",
              "      <td>Consumer</td>\n",
              "      <td>United States</td>\n",
              "      <td>Fort Lauderdale</td>\n",
              "      <td>Florida</td>\n",
              "      <td>33311.0</td>\n",
              "      <td>South</td>\n",
              "      <td>OFF-ST-10000760</td>\n",
              "      <td>Office Supplies</td>\n",
              "      <td>Storage</td>\n",
              "      <td>Eldon Fold 'N Roll Cart System</td>\n",
              "      <td>22.3680</td>\n",
              "    </tr>\n",
              "  </tbody>\n",
              "</table>\n",
              "</div>"
            ],
            "text/plain": [
              "   Row ID  ...     Sales\n",
              "0       1  ...  261.9600\n",
              "1       2  ...  731.9400\n",
              "2       3  ...   14.6200\n",
              "3       4  ...  957.5775\n",
              "4       5  ...   22.3680\n",
              "\n",
              "[5 rows x 18 columns]"
            ]
          },
          "metadata": {},
          "execution_count": 2446
        }
      ]
    },
    {
      "cell_type": "markdown",
      "metadata": {
        "id": "NLm9VhY2Iovy"
      },
      "source": [
        "\n",
        "### 1.2 Describe the dataset.\n",
        "\n",
        ">1.2.1. How many observations(rows) and columns are in the dataset?"
      ]
    },
    {
      "cell_type": "code",
      "metadata": {
        "id": "kN08N8Ya2aSi",
        "colab": {
          "base_uri": "https://localhost:8080/"
        },
        "outputId": "fe98a51c-5048-4b54-eb40-5b34a6435890"
      },
      "source": [
        "df.shape\n"
      ],
      "execution_count": null,
      "outputs": [
        {
          "output_type": "execute_result",
          "data": {
            "text/plain": [
              "(9800, 18)"
            ]
          },
          "metadata": {},
          "execution_count": 2447
        }
      ]
    },
    {
      "cell_type": "markdown",
      "metadata": {
        "id": "N8HQMBqKIGh6"
      },
      "source": [
        "The data set contains 9800 observations and 18 columns."
      ]
    },
    {
      "cell_type": "markdown",
      "metadata": {
        "id": "W5tB44hXN1_y"
      },
      "source": [
        "> 1.2.2. For which variable(s), if any, are there missing/null values?"
      ]
    },
    {
      "cell_type": "code",
      "metadata": {
        "id": "7QPMt2TP6WVO",
        "colab": {
          "base_uri": "https://localhost:8080/"
        },
        "outputId": "b57f24fa-e662-4e41-eeb1-29de712a5a38"
      },
      "source": [
        "df.isnull().sum()"
      ],
      "execution_count": null,
      "outputs": [
        {
          "output_type": "execute_result",
          "data": {
            "text/plain": [
              "Row ID            0\n",
              "Order ID          0\n",
              "Order Date        0\n",
              "Ship Date         0\n",
              "Ship Mode         0\n",
              "Customer ID       0\n",
              "Customer Name     0\n",
              "Segment           0\n",
              "Country           0\n",
              "City              0\n",
              "State             0\n",
              "Postal Code      11\n",
              "Region            0\n",
              "Product ID        0\n",
              "Category          0\n",
              "Sub-Category      0\n",
              "Product Name      0\n",
              "Sales             0\n",
              "dtype: int64"
            ]
          },
          "metadata": {},
          "execution_count": 2448
        }
      ]
    },
    {
      "cell_type": "markdown",
      "metadata": {
        "id": "NBQOLhbIdt54"
      },
      "source": [
        "There are eleven (11) missing values for Postal Code column."
      ]
    },
    {
      "cell_type": "markdown",
      "metadata": {
        "id": "0mgVMc3wMsD6"
      },
      "source": [
        ">1.2.3. Which state generated the highest demand by *number* of items ordered over the entire period?"
      ]
    },
    {
      "cell_type": "code",
      "metadata": {
        "id": "b2rw5EHkMfWR",
        "colab": {
          "base_uri": "https://localhost:8080/"
        },
        "outputId": "a9dfc397-3594-4f1d-93d0-ad4d3c32b71f"
      },
      "source": [
        "df.groupby(\"State\")[\"Order ID\"].count().sort_values(ascending=False).head()"
      ],
      "execution_count": null,
      "outputs": [
        {
          "output_type": "execute_result",
          "data": {
            "text/plain": [
              "State\n",
              "California      1946\n",
              "New York        1097\n",
              "Texas            973\n",
              "Pennsylvania     582\n",
              "Washington       504\n",
              "Name: Order ID, dtype: int64"
            ]
          },
          "metadata": {},
          "execution_count": 2449
        }
      ]
    },
    {
      "cell_type": "markdown",
      "metadata": {
        "id": "IiIdJnu0mLA-"
      },
      "source": [
        "California is the state that generated most items."
      ]
    },
    {
      "cell_type": "markdown",
      "metadata": {
        "id": "og7Oq593QMu-"
      },
      "source": [
        ">... and which state generated the highest demand by total (aggregated) sales over the entire period?"
      ]
    },
    {
      "cell_type": "code",
      "metadata": {
        "id": "86In9TV1OeyM",
        "colab": {
          "base_uri": "https://localhost:8080/"
        },
        "outputId": "db365540-e975-4b74-97b5-b5d653f6e128"
      },
      "source": [
        "df.groupby(\"State\")[\"Sales\"].sum().sort_values(ascending=False).head()\n"
      ],
      "execution_count": null,
      "outputs": [
        {
          "output_type": "execute_result",
          "data": {
            "text/plain": [
              "State\n",
              "California      446306.4635\n",
              "New York        306361.1470\n",
              "Texas           168572.5322\n",
              "Washington      135206.8500\n",
              "Pennsylvania    116276.6500\n",
              "Name: Sales, dtype: float64"
            ]
          },
          "metadata": {},
          "execution_count": 2450
        }
      ]
    },
    {
      "cell_type": "markdown",
      "metadata": {
        "id": "YG0t4pQJoAJr"
      },
      "source": [
        "California is the state that generated most sales."
      ]
    },
    {
      "cell_type": "markdown",
      "metadata": {
        "id": "fv-MIcT9Pc54"
      },
      "source": [
        ">1.2.4. What percentage of technology items (Hint: look at Category) were shipped first class (Hint: look at Ship Mode)?"
      ]
    },
    {
      "cell_type": "code",
      "metadata": {
        "id": "qzGiVprdQakd",
        "colab": {
          "base_uri": "https://localhost:8080/"
        },
        "outputId": "636785c2-8b81-47e0-a527-0ddd72d06d9a"
      },
      "source": [
        "technology = (df[\"Category\"] == \"Technology\")\n",
        "is_technology = df[technology]\n",
        "first_class = (is_technology[\"Ship Mode\"] == \"First Class\")\n",
        "is_first_class = is_technology[first_class]\n",
        "is_first_class.shape"
      ],
      "execution_count": null,
      "outputs": [
        {
          "output_type": "execute_result",
          "data": {
            "text/plain": [
              "(297, 18)"
            ]
          },
          "metadata": {},
          "execution_count": 2451
        }
      ]
    },
    {
      "cell_type": "code",
      "metadata": {
        "colab": {
          "base_uri": "https://localhost:8080/"
        },
        "id": "awIijXnpG1qK",
        "outputId": "54c23aae-3e59-431c-9328-ac39111ac6f4"
      },
      "source": [
        "is_technology.shape"
      ],
      "execution_count": null,
      "outputs": [
        {
          "output_type": "execute_result",
          "data": {
            "text/plain": [
              "(1813, 18)"
            ]
          },
          "metadata": {},
          "execution_count": 2452
        }
      ]
    },
    {
      "cell_type": "code",
      "metadata": {
        "colab": {
          "base_uri": "https://localhost:8080/"
        },
        "id": "3Ikkd6nMG-J0",
        "outputId": "a9d520a1-9025-436c-f67b-df009b546d4b"
      },
      "source": [
        "percentage_first_class = (is_first_class.shape[0] / is_technology.shape[0]) * 100\n",
        "print(percentage_first_class)"
      ],
      "execution_count": null,
      "outputs": [
        {
          "output_type": "stream",
          "name": "stdout",
          "text": [
            "16.381687810259237\n"
          ]
        }
      ]
    },
    {
      "cell_type": "markdown",
      "metadata": {
        "id": "x7p280MpHZLD"
      },
      "source": [
        "The percentage of technology items that were shipped in first class with respect to all technology items is 16,38%."
      ]
    },
    {
      "cell_type": "markdown",
      "metadata": {
        "id": "sfpjod4BRykk"
      },
      "source": [
        "### 1.3. Data types and handling missing values\n",
        "\n",
        ">1.3.1. List the different features and their data type. ¶\n"
      ]
    },
    {
      "cell_type": "code",
      "metadata": {
        "id": "fE5mx0PvV_3q",
        "colab": {
          "base_uri": "https://localhost:8080/"
        },
        "outputId": "2a7b5995-7db7-4225-9602-3617d4534600"
      },
      "source": [
        "df.dtypes"
      ],
      "execution_count": null,
      "outputs": [
        {
          "output_type": "execute_result",
          "data": {
            "text/plain": [
              "Row ID             int64\n",
              "Order ID          object\n",
              "Order Date        object\n",
              "Ship Date         object\n",
              "Ship Mode         object\n",
              "Customer ID       object\n",
              "Customer Name     object\n",
              "Segment           object\n",
              "Country           object\n",
              "City              object\n",
              "State             object\n",
              "Postal Code      float64\n",
              "Region            object\n",
              "Product ID        object\n",
              "Category          object\n",
              "Sub-Category      object\n",
              "Product Name      object\n",
              "Sales            float64\n",
              "dtype: object"
            ]
          },
          "metadata": {},
          "execution_count": 2454
        }
      ]
    },
    {
      "cell_type": "markdown",
      "metadata": {
        "id": "AfrXUll-dhki"
      },
      "source": [
        ">1.3.2. Are there any duplicated entries?"
      ]
    },
    {
      "cell_type": "code",
      "metadata": {
        "id": "khexK-jZdTqq",
        "colab": {
          "base_uri": "https://localhost:8080/"
        },
        "outputId": "09ba67d6-8f78-493d-98f2-c9c065078849"
      },
      "source": [
        "df.duplicated()"
      ],
      "execution_count": null,
      "outputs": [
        {
          "output_type": "execute_result",
          "data": {
            "text/plain": [
              "0       False\n",
              "1       False\n",
              "2       False\n",
              "3       False\n",
              "4       False\n",
              "        ...  \n",
              "9795    False\n",
              "9796    False\n",
              "9797    False\n",
              "9798    False\n",
              "9799    False\n",
              "Length: 9800, dtype: bool"
            ]
          },
          "metadata": {},
          "execution_count": 2455
        }
      ]
    },
    {
      "cell_type": "code",
      "metadata": {
        "colab": {
          "base_uri": "https://localhost:8080/",
          "height": 66
        },
        "id": "668UeceLQ90i",
        "outputId": "2b959ca3-a2fb-44e6-c46f-441d715bc84d"
      },
      "source": [
        "df.loc[df.duplicated()=='True', :]"
      ],
      "execution_count": null,
      "outputs": [
        {
          "output_type": "execute_result",
          "data": {
            "text/html": [
              "<div>\n",
              "<style scoped>\n",
              "    .dataframe tbody tr th:only-of-type {\n",
              "        vertical-align: middle;\n",
              "    }\n",
              "\n",
              "    .dataframe tbody tr th {\n",
              "        vertical-align: top;\n",
              "    }\n",
              "\n",
              "    .dataframe thead th {\n",
              "        text-align: right;\n",
              "    }\n",
              "</style>\n",
              "<table border=\"1\" class=\"dataframe\">\n",
              "  <thead>\n",
              "    <tr style=\"text-align: right;\">\n",
              "      <th></th>\n",
              "      <th>Row ID</th>\n",
              "      <th>Order ID</th>\n",
              "      <th>Order Date</th>\n",
              "      <th>Ship Date</th>\n",
              "      <th>Ship Mode</th>\n",
              "      <th>Customer ID</th>\n",
              "      <th>Customer Name</th>\n",
              "      <th>Segment</th>\n",
              "      <th>Country</th>\n",
              "      <th>City</th>\n",
              "      <th>State</th>\n",
              "      <th>Postal Code</th>\n",
              "      <th>Region</th>\n",
              "      <th>Product ID</th>\n",
              "      <th>Category</th>\n",
              "      <th>Sub-Category</th>\n",
              "      <th>Product Name</th>\n",
              "      <th>Sales</th>\n",
              "    </tr>\n",
              "  </thead>\n",
              "  <tbody>\n",
              "  </tbody>\n",
              "</table>\n",
              "</div>"
            ],
            "text/plain": [
              "Empty DataFrame\n",
              "Columns: [Row ID, Order ID, Order Date, Ship Date, Ship Mode, Customer ID, Customer Name, Segment, Country, City, State, Postal Code, Region, Product ID, Category, Sub-Category, Product Name, Sales]\n",
              "Index: []"
            ]
          },
          "metadata": {},
          "execution_count": 2456
        }
      ]
    },
    {
      "cell_type": "markdown",
      "metadata": {
        "id": "9JzDVop3QyVi"
      },
      "source": [
        "There are no duplicated entries."
      ]
    },
    {
      "cell_type": "markdown",
      "metadata": {
        "id": "IepEsmf4JFZz"
      },
      "source": [
        ">1.3.3. Change the data type for the following columns: Order Date, Ship Date (from string to datetime), Ship Mode and Segment, from string to category. "
      ]
    },
    {
      "cell_type": "code",
      "metadata": {
        "id": "6MHWijlkeCfy",
        "colab": {
          "base_uri": "https://localhost:8080/"
        },
        "outputId": "cc5ac95a-eaa5-4129-cd32-7978c33c7f0a"
      },
      "source": [
        "df[\"Order Date\"] = pd.to_datetime(df[\"Order Date\"], format=\"%d/%m/%Y\", errors = 'ignore')\n",
        "df[\"Ship Date\"] = pd.to_datetime(df[\"Ship Date\"], format=\"%d/%m/%Y\", errors='ignore')\n",
        "df[\"Ship Mode\"] = df[\"Ship Mode\"].astype(\"category\")\n",
        "df[\"Segment\"] = df[\"Segment\"].astype(\"category\")\n",
        "# Let see the changes:\n",
        "df.dtypes"
      ],
      "execution_count": null,
      "outputs": [
        {
          "output_type": "execute_result",
          "data": {
            "text/plain": [
              "Row ID                    int64\n",
              "Order ID                 object\n",
              "Order Date       datetime64[ns]\n",
              "Ship Date        datetime64[ns]\n",
              "Ship Mode              category\n",
              "Customer ID              object\n",
              "Customer Name            object\n",
              "Segment                category\n",
              "Country                  object\n",
              "City                     object\n",
              "State                    object\n",
              "Postal Code             float64\n",
              "Region                   object\n",
              "Product ID               object\n",
              "Category                 object\n",
              "Sub-Category             object\n",
              "Product Name             object\n",
              "Sales                   float64\n",
              "dtype: object"
            ]
          },
          "metadata": {},
          "execution_count": 2457
        }
      ]
    },
    {
      "cell_type": "markdown",
      "metadata": {
        "id": "H_X2BzEOVH_Q"
      },
      "source": [
        ">1.3.4. For which order period have these data samples been collected? (i.e, the oldest and the most recent order dates in the dataset)"
      ]
    },
    {
      "cell_type": "code",
      "metadata": {
        "colab": {
          "base_uri": "https://localhost:8080/",
          "height": 527
        },
        "id": "hMDCwXPGhvsn",
        "outputId": "891e2814-6658-4271-9a95-bb9095278c7a"
      },
      "source": [
        "df.head()"
      ],
      "execution_count": null,
      "outputs": [
        {
          "output_type": "execute_result",
          "data": {
            "text/html": [
              "<div>\n",
              "<style scoped>\n",
              "    .dataframe tbody tr th:only-of-type {\n",
              "        vertical-align: middle;\n",
              "    }\n",
              "\n",
              "    .dataframe tbody tr th {\n",
              "        vertical-align: top;\n",
              "    }\n",
              "\n",
              "    .dataframe thead th {\n",
              "        text-align: right;\n",
              "    }\n",
              "</style>\n",
              "<table border=\"1\" class=\"dataframe\">\n",
              "  <thead>\n",
              "    <tr style=\"text-align: right;\">\n",
              "      <th></th>\n",
              "      <th>Row ID</th>\n",
              "      <th>Order ID</th>\n",
              "      <th>Order Date</th>\n",
              "      <th>Ship Date</th>\n",
              "      <th>Ship Mode</th>\n",
              "      <th>Customer ID</th>\n",
              "      <th>Customer Name</th>\n",
              "      <th>Segment</th>\n",
              "      <th>Country</th>\n",
              "      <th>City</th>\n",
              "      <th>State</th>\n",
              "      <th>Postal Code</th>\n",
              "      <th>Region</th>\n",
              "      <th>Product ID</th>\n",
              "      <th>Category</th>\n",
              "      <th>Sub-Category</th>\n",
              "      <th>Product Name</th>\n",
              "      <th>Sales</th>\n",
              "    </tr>\n",
              "  </thead>\n",
              "  <tbody>\n",
              "    <tr>\n",
              "      <th>0</th>\n",
              "      <td>1</td>\n",
              "      <td>CA-2017-152156</td>\n",
              "      <td>2017-11-08</td>\n",
              "      <td>2017-11-11</td>\n",
              "      <td>Second Class</td>\n",
              "      <td>CG-12520</td>\n",
              "      <td>Claire Gute</td>\n",
              "      <td>Consumer</td>\n",
              "      <td>United States</td>\n",
              "      <td>Henderson</td>\n",
              "      <td>Kentucky</td>\n",
              "      <td>42420.0</td>\n",
              "      <td>South</td>\n",
              "      <td>FUR-BO-10001798</td>\n",
              "      <td>Furniture</td>\n",
              "      <td>Bookcases</td>\n",
              "      <td>Bush Somerset Collection Bookcase</td>\n",
              "      <td>261.9600</td>\n",
              "    </tr>\n",
              "    <tr>\n",
              "      <th>1</th>\n",
              "      <td>2</td>\n",
              "      <td>CA-2017-152156</td>\n",
              "      <td>2017-11-08</td>\n",
              "      <td>2017-11-11</td>\n",
              "      <td>Second Class</td>\n",
              "      <td>CG-12520</td>\n",
              "      <td>Claire Gute</td>\n",
              "      <td>Consumer</td>\n",
              "      <td>United States</td>\n",
              "      <td>Henderson</td>\n",
              "      <td>Kentucky</td>\n",
              "      <td>42420.0</td>\n",
              "      <td>South</td>\n",
              "      <td>FUR-CH-10000454</td>\n",
              "      <td>Furniture</td>\n",
              "      <td>Chairs</td>\n",
              "      <td>Hon Deluxe Fabric Upholstered Stacking Chairs,...</td>\n",
              "      <td>731.9400</td>\n",
              "    </tr>\n",
              "    <tr>\n",
              "      <th>2</th>\n",
              "      <td>3</td>\n",
              "      <td>CA-2017-138688</td>\n",
              "      <td>2017-06-12</td>\n",
              "      <td>2017-06-16</td>\n",
              "      <td>Second Class</td>\n",
              "      <td>DV-13045</td>\n",
              "      <td>Darrin Van Huff</td>\n",
              "      <td>Corporate</td>\n",
              "      <td>United States</td>\n",
              "      <td>Los Angeles</td>\n",
              "      <td>California</td>\n",
              "      <td>90036.0</td>\n",
              "      <td>West</td>\n",
              "      <td>OFF-LA-10000240</td>\n",
              "      <td>Office Supplies</td>\n",
              "      <td>Labels</td>\n",
              "      <td>Self-Adhesive Address Labels for Typewriters b...</td>\n",
              "      <td>14.6200</td>\n",
              "    </tr>\n",
              "    <tr>\n",
              "      <th>3</th>\n",
              "      <td>4</td>\n",
              "      <td>US-2016-108966</td>\n",
              "      <td>2016-10-11</td>\n",
              "      <td>2016-10-18</td>\n",
              "      <td>Standard Class</td>\n",
              "      <td>SO-20335</td>\n",
              "      <td>Sean O'Donnell</td>\n",
              "      <td>Consumer</td>\n",
              "      <td>United States</td>\n",
              "      <td>Fort Lauderdale</td>\n",
              "      <td>Florida</td>\n",
              "      <td>33311.0</td>\n",
              "      <td>South</td>\n",
              "      <td>FUR-TA-10000577</td>\n",
              "      <td>Furniture</td>\n",
              "      <td>Tables</td>\n",
              "      <td>Bretford CR4500 Series Slim Rectangular Table</td>\n",
              "      <td>957.5775</td>\n",
              "    </tr>\n",
              "    <tr>\n",
              "      <th>4</th>\n",
              "      <td>5</td>\n",
              "      <td>US-2016-108966</td>\n",
              "      <td>2016-10-11</td>\n",
              "      <td>2016-10-18</td>\n",
              "      <td>Standard Class</td>\n",
              "      <td>SO-20335</td>\n",
              "      <td>Sean O'Donnell</td>\n",
              "      <td>Consumer</td>\n",
              "      <td>United States</td>\n",
              "      <td>Fort Lauderdale</td>\n",
              "      <td>Florida</td>\n",
              "      <td>33311.0</td>\n",
              "      <td>South</td>\n",
              "      <td>OFF-ST-10000760</td>\n",
              "      <td>Office Supplies</td>\n",
              "      <td>Storage</td>\n",
              "      <td>Eldon Fold 'N Roll Cart System</td>\n",
              "      <td>22.3680</td>\n",
              "    </tr>\n",
              "  </tbody>\n",
              "</table>\n",
              "</div>"
            ],
            "text/plain": [
              "   Row ID  ...     Sales\n",
              "0       1  ...  261.9600\n",
              "1       2  ...  731.9400\n",
              "2       3  ...   14.6200\n",
              "3       4  ...  957.5775\n",
              "4       5  ...   22.3680\n",
              "\n",
              "[5 rows x 18 columns]"
            ]
          },
          "metadata": {},
          "execution_count": 2458
        }
      ]
    },
    {
      "cell_type": "code",
      "metadata": {
        "id": "aPBLyrx9MGqz",
        "colab": {
          "base_uri": "https://localhost:8080/"
        },
        "outputId": "60804376-bba5-4294-d8ff-9e1795f5a012"
      },
      "source": [
        "min(df[\"Order Date\"]) # df[\"Order Date\"].min()"
      ],
      "execution_count": null,
      "outputs": [
        {
          "output_type": "execute_result",
          "data": {
            "text/plain": [
              "Timestamp('2015-01-03 00:00:00')"
            ]
          },
          "metadata": {},
          "execution_count": 2459
        }
      ]
    },
    {
      "cell_type": "code",
      "metadata": {
        "colab": {
          "base_uri": "https://localhost:8080/"
        },
        "id": "6ErVUjjdVgSb",
        "outputId": "6ae94836-00f3-4a4d-a006-7d272031c85d"
      },
      "source": [
        "df[\"Order Date\"].max()"
      ],
      "execution_count": null,
      "outputs": [
        {
          "output_type": "execute_result",
          "data": {
            "text/plain": [
              "Timestamp('2018-12-30 00:00:00')"
            ]
          },
          "metadata": {},
          "execution_count": 2460
        }
      ]
    },
    {
      "cell_type": "markdown",
      "metadata": {
        "id": "eSsMojKsVg25"
      },
      "source": [
        "The period is from 3rd January 2015 to 30th December of 2018."
      ]
    },
    {
      "cell_type": "markdown",
      "metadata": {
        "id": "C1s2NgO3Unv8"
      },
      "source": [
        ">1.3.5. For the postal code column, drop the missing values and set the data type to an integer and then to a string (make sure the final format of the ZIP code is of this kind: 42420 and not 42420.0).\n"
      ]
    },
    {
      "cell_type": "code",
      "metadata": {
        "id": "QbnduUdgU7Ss",
        "colab": {
          "base_uri": "https://localhost:8080/"
        },
        "outputId": "ce99e2e4-e9a0-490a-d5b5-7f65f2cc194a"
      },
      "source": [
        "print(df['Postal Code'].isnull().sum())\n",
        "#df.dropna(how='any', subset=['Postal Code'])\n",
        "df.dropna(axis=0, inplace=True)\n",
        "print(df['Postal Code'].isnull().sum())\n",
        "df[\"Postal Code\"] = df[\"Postal Code\"].astype(int)\n",
        "df[\"Postal Code\"] = df[\"Postal Code\"].astype(str)\n",
        "df.dtypes"
      ],
      "execution_count": null,
      "outputs": [
        {
          "output_type": "stream",
          "name": "stdout",
          "text": [
            "11\n",
            "0\n"
          ]
        },
        {
          "output_type": "execute_result",
          "data": {
            "text/plain": [
              "Row ID                    int64\n",
              "Order ID                 object\n",
              "Order Date       datetime64[ns]\n",
              "Ship Date        datetime64[ns]\n",
              "Ship Mode              category\n",
              "Customer ID              object\n",
              "Customer Name            object\n",
              "Segment                category\n",
              "Country                  object\n",
              "City                     object\n",
              "State                    object\n",
              "Postal Code              object\n",
              "Region                   object\n",
              "Product ID               object\n",
              "Category                 object\n",
              "Sub-Category             object\n",
              "Product Name             object\n",
              "Sales                   float64\n",
              "dtype: object"
            ]
          },
          "metadata": {},
          "execution_count": 2461
        }
      ]
    },
    {
      "cell_type": "code",
      "metadata": {
        "id": "ZZl-bx0OeHdO",
        "colab": {
          "base_uri": "https://localhost:8080/",
          "height": 527
        },
        "outputId": "5697fc9a-f12d-40cb-d4cf-ed68a5b67e9d"
      },
      "source": [
        "df.head()"
      ],
      "execution_count": null,
      "outputs": [
        {
          "output_type": "execute_result",
          "data": {
            "text/html": [
              "<div>\n",
              "<style scoped>\n",
              "    .dataframe tbody tr th:only-of-type {\n",
              "        vertical-align: middle;\n",
              "    }\n",
              "\n",
              "    .dataframe tbody tr th {\n",
              "        vertical-align: top;\n",
              "    }\n",
              "\n",
              "    .dataframe thead th {\n",
              "        text-align: right;\n",
              "    }\n",
              "</style>\n",
              "<table border=\"1\" class=\"dataframe\">\n",
              "  <thead>\n",
              "    <tr style=\"text-align: right;\">\n",
              "      <th></th>\n",
              "      <th>Row ID</th>\n",
              "      <th>Order ID</th>\n",
              "      <th>Order Date</th>\n",
              "      <th>Ship Date</th>\n",
              "      <th>Ship Mode</th>\n",
              "      <th>Customer ID</th>\n",
              "      <th>Customer Name</th>\n",
              "      <th>Segment</th>\n",
              "      <th>Country</th>\n",
              "      <th>City</th>\n",
              "      <th>State</th>\n",
              "      <th>Postal Code</th>\n",
              "      <th>Region</th>\n",
              "      <th>Product ID</th>\n",
              "      <th>Category</th>\n",
              "      <th>Sub-Category</th>\n",
              "      <th>Product Name</th>\n",
              "      <th>Sales</th>\n",
              "    </tr>\n",
              "  </thead>\n",
              "  <tbody>\n",
              "    <tr>\n",
              "      <th>0</th>\n",
              "      <td>1</td>\n",
              "      <td>CA-2017-152156</td>\n",
              "      <td>2017-11-08</td>\n",
              "      <td>2017-11-11</td>\n",
              "      <td>Second Class</td>\n",
              "      <td>CG-12520</td>\n",
              "      <td>Claire Gute</td>\n",
              "      <td>Consumer</td>\n",
              "      <td>United States</td>\n",
              "      <td>Henderson</td>\n",
              "      <td>Kentucky</td>\n",
              "      <td>42420</td>\n",
              "      <td>South</td>\n",
              "      <td>FUR-BO-10001798</td>\n",
              "      <td>Furniture</td>\n",
              "      <td>Bookcases</td>\n",
              "      <td>Bush Somerset Collection Bookcase</td>\n",
              "      <td>261.9600</td>\n",
              "    </tr>\n",
              "    <tr>\n",
              "      <th>1</th>\n",
              "      <td>2</td>\n",
              "      <td>CA-2017-152156</td>\n",
              "      <td>2017-11-08</td>\n",
              "      <td>2017-11-11</td>\n",
              "      <td>Second Class</td>\n",
              "      <td>CG-12520</td>\n",
              "      <td>Claire Gute</td>\n",
              "      <td>Consumer</td>\n",
              "      <td>United States</td>\n",
              "      <td>Henderson</td>\n",
              "      <td>Kentucky</td>\n",
              "      <td>42420</td>\n",
              "      <td>South</td>\n",
              "      <td>FUR-CH-10000454</td>\n",
              "      <td>Furniture</td>\n",
              "      <td>Chairs</td>\n",
              "      <td>Hon Deluxe Fabric Upholstered Stacking Chairs,...</td>\n",
              "      <td>731.9400</td>\n",
              "    </tr>\n",
              "    <tr>\n",
              "      <th>2</th>\n",
              "      <td>3</td>\n",
              "      <td>CA-2017-138688</td>\n",
              "      <td>2017-06-12</td>\n",
              "      <td>2017-06-16</td>\n",
              "      <td>Second Class</td>\n",
              "      <td>DV-13045</td>\n",
              "      <td>Darrin Van Huff</td>\n",
              "      <td>Corporate</td>\n",
              "      <td>United States</td>\n",
              "      <td>Los Angeles</td>\n",
              "      <td>California</td>\n",
              "      <td>90036</td>\n",
              "      <td>West</td>\n",
              "      <td>OFF-LA-10000240</td>\n",
              "      <td>Office Supplies</td>\n",
              "      <td>Labels</td>\n",
              "      <td>Self-Adhesive Address Labels for Typewriters b...</td>\n",
              "      <td>14.6200</td>\n",
              "    </tr>\n",
              "    <tr>\n",
              "      <th>3</th>\n",
              "      <td>4</td>\n",
              "      <td>US-2016-108966</td>\n",
              "      <td>2016-10-11</td>\n",
              "      <td>2016-10-18</td>\n",
              "      <td>Standard Class</td>\n",
              "      <td>SO-20335</td>\n",
              "      <td>Sean O'Donnell</td>\n",
              "      <td>Consumer</td>\n",
              "      <td>United States</td>\n",
              "      <td>Fort Lauderdale</td>\n",
              "      <td>Florida</td>\n",
              "      <td>33311</td>\n",
              "      <td>South</td>\n",
              "      <td>FUR-TA-10000577</td>\n",
              "      <td>Furniture</td>\n",
              "      <td>Tables</td>\n",
              "      <td>Bretford CR4500 Series Slim Rectangular Table</td>\n",
              "      <td>957.5775</td>\n",
              "    </tr>\n",
              "    <tr>\n",
              "      <th>4</th>\n",
              "      <td>5</td>\n",
              "      <td>US-2016-108966</td>\n",
              "      <td>2016-10-11</td>\n",
              "      <td>2016-10-18</td>\n",
              "      <td>Standard Class</td>\n",
              "      <td>SO-20335</td>\n",
              "      <td>Sean O'Donnell</td>\n",
              "      <td>Consumer</td>\n",
              "      <td>United States</td>\n",
              "      <td>Fort Lauderdale</td>\n",
              "      <td>Florida</td>\n",
              "      <td>33311</td>\n",
              "      <td>South</td>\n",
              "      <td>OFF-ST-10000760</td>\n",
              "      <td>Office Supplies</td>\n",
              "      <td>Storage</td>\n",
              "      <td>Eldon Fold 'N Roll Cart System</td>\n",
              "      <td>22.3680</td>\n",
              "    </tr>\n",
              "  </tbody>\n",
              "</table>\n",
              "</div>"
            ],
            "text/plain": [
              "   Row ID  ...     Sales\n",
              "0       1  ...  261.9600\n",
              "1       2  ...  731.9400\n",
              "2       3  ...   14.6200\n",
              "3       4  ...  957.5775\n",
              "4       5  ...   22.3680\n",
              "\n",
              "[5 rows x 18 columns]"
            ]
          },
          "metadata": {},
          "execution_count": 2462
        }
      ]
    },
    {
      "cell_type": "markdown",
      "metadata": {
        "id": "H-NvGlwviKQ_"
      },
      "source": [
        "\n",
        "## 2. Exploratory Data Analysis and Visualization"
      ]
    },
    {
      "cell_type": "markdown",
      "metadata": {
        "id": "Bdwn8aIoggyt"
      },
      "source": [
        ">2.1 Which are the top 5 dates on which the store reached the highest *value* of sales over the entire period included in the dataset?"
      ]
    },
    {
      "cell_type": "code",
      "metadata": {
        "id": "FlVkgZUKfuPe",
        "colab": {
          "base_uri": "https://localhost:8080/",
          "height": 204
        },
        "outputId": "79d91e8c-d471-4087-d534-aca1904a4ef6"
      },
      "source": [
        "# We need to group data by days (dates), sum the sales for each day, and then display the first 5.\n",
        "#df.groupby(['Order Date'], as_index=False)['Sales'].sum().sort_values(by=['Sales'], ascending=False)\n",
        "df.groupby(['Order Date'], as_index=False)['Sales'].sum().nlargest(n=5, columns=['Sales'])"
      ],
      "execution_count": null,
      "outputs": [
        {
          "output_type": "execute_result",
          "data": {
            "text/html": [
              "<div>\n",
              "<style scoped>\n",
              "    .dataframe tbody tr th:only-of-type {\n",
              "        vertical-align: middle;\n",
              "    }\n",
              "\n",
              "    .dataframe tbody tr th {\n",
              "        vertical-align: top;\n",
              "    }\n",
              "\n",
              "    .dataframe thead th {\n",
              "        text-align: right;\n",
              "    }\n",
              "</style>\n",
              "<table border=\"1\" class=\"dataframe\">\n",
              "  <thead>\n",
              "    <tr style=\"text-align: right;\">\n",
              "      <th></th>\n",
              "      <th>Order Date</th>\n",
              "      <th>Sales</th>\n",
              "    </tr>\n",
              "  </thead>\n",
              "  <tbody>\n",
              "    <tr>\n",
              "      <th>53</th>\n",
              "      <td>2015-03-18</td>\n",
              "      <td>28106.716</td>\n",
              "    </tr>\n",
              "    <tr>\n",
              "      <th>824</th>\n",
              "      <td>2017-10-02</td>\n",
              "      <td>18452.972</td>\n",
              "    </tr>\n",
              "    <tr>\n",
              "      <th>1161</th>\n",
              "      <td>2018-10-22</td>\n",
              "      <td>15158.877</td>\n",
              "    </tr>\n",
              "    <tr>\n",
              "      <th>969</th>\n",
              "      <td>2018-03-23</td>\n",
              "      <td>14816.068</td>\n",
              "    </tr>\n",
              "    <tr>\n",
              "      <th>195</th>\n",
              "      <td>2015-09-08</td>\n",
              "      <td>14228.428</td>\n",
              "    </tr>\n",
              "  </tbody>\n",
              "</table>\n",
              "</div>"
            ],
            "text/plain": [
              "     Order Date      Sales\n",
              "53   2015-03-18  28106.716\n",
              "824  2017-10-02  18452.972\n",
              "1161 2018-10-22  15158.877\n",
              "969  2018-03-23  14816.068\n",
              "195  2015-09-08  14228.428"
            ]
          },
          "metadata": {},
          "execution_count": 2463
        }
      ]
    },
    {
      "cell_type": "markdown",
      "metadata": {
        "id": "AeyF9LSpidyP"
      },
      "source": [
        ">2.2 How many unique customers did the shop have over this period?"
      ]
    },
    {
      "cell_type": "code",
      "metadata": {
        "id": "35gdkeJfkj59",
        "colab": {
          "base_uri": "https://localhost:8080/"
        },
        "outputId": "33c70625-88e0-4df2-dadd-b3b1da55432c"
      },
      "source": [
        "len(df['Customer ID'].unique())"
      ],
      "execution_count": null,
      "outputs": [
        {
          "output_type": "execute_result",
          "data": {
            "text/plain": [
              "793"
            ]
          },
          "metadata": {},
          "execution_count": 2464
        }
      ]
    },
    {
      "cell_type": "markdown",
      "metadata": {
        "id": "xTKAqb33QHYP"
      },
      "source": [
        ">...Plot the top ten customers by total value of their orders in a horizontal bar chart."
      ]
    },
    {
      "cell_type": "code",
      "metadata": {
        "id": "7fwCxScMi8Bm",
        "colab": {
          "base_uri": "https://localhost:8080/",
          "height": 282
        },
        "outputId": "ecdb0b0e-4daf-46fe-c8b5-3837ae9675a9"
      },
      "source": [
        "top10customers = df.groupby(['Customer ID'], as_index=False)['Sales'].sum().nlargest(n=10, columns=['Sales'])\n",
        "top10customers.plot.barh()"
      ],
      "execution_count": null,
      "outputs": [
        {
          "output_type": "execute_result",
          "data": {
            "text/plain": [
              "<matplotlib.axes._subplots.AxesSubplot at 0x7f680e100b90>"
            ]
          },
          "metadata": {},
          "execution_count": 2465
        },
        {
          "output_type": "display_data",
          "data": {
            "image/png": "[encoded data removed]",
            "text/plain": [
              "<Figure size 432x288 with 1 Axes>"
            ]
          },
          "metadata": {}
        }
      ]
    },
    {
      "cell_type": "code",
      "metadata": {
        "colab": {
          "base_uri": "https://localhost:8080/",
          "height": 359
        },
        "id": "CfvWSVfSHA3D",
        "outputId": "17d4a947-7654-49a8-ba1e-6bccbc58f4c3"
      },
      "source": [
        "top10customers"
      ],
      "execution_count": null,
      "outputs": [
        {
          "output_type": "execute_result",
          "data": {
            "text/html": [
              "<div>\n",
              "<style scoped>\n",
              "    .dataframe tbody tr th:only-of-type {\n",
              "        vertical-align: middle;\n",
              "    }\n",
              "\n",
              "    .dataframe tbody tr th {\n",
              "        vertical-align: top;\n",
              "    }\n",
              "\n",
              "    .dataframe thead th {\n",
              "        text-align: right;\n",
              "    }\n",
              "</style>\n",
              "<table border=\"1\" class=\"dataframe\">\n",
              "  <thead>\n",
              "    <tr style=\"text-align: right;\">\n",
              "      <th></th>\n",
              "      <th>Customer ID</th>\n",
              "      <th>Sales</th>\n",
              "    </tr>\n",
              "  </thead>\n",
              "  <tbody>\n",
              "    <tr>\n",
              "      <th>700</th>\n",
              "      <td>SM-20320</td>\n",
              "      <td>25043.050</td>\n",
              "    </tr>\n",
              "    <tr>\n",
              "      <th>741</th>\n",
              "      <td>TC-20980</td>\n",
              "      <td>19052.218</td>\n",
              "    </tr>\n",
              "    <tr>\n",
              "      <th>621</th>\n",
              "      <td>RB-19360</td>\n",
              "      <td>15117.339</td>\n",
              "    </tr>\n",
              "    <tr>\n",
              "      <th>730</th>\n",
              "      <td>TA-21385</td>\n",
              "      <td>14595.620</td>\n",
              "    </tr>\n",
              "    <tr>\n",
              "      <th>6</th>\n",
              "      <td>AB-10105</td>\n",
              "      <td>14473.571</td>\n",
              "    </tr>\n",
              "    <tr>\n",
              "      <th>434</th>\n",
              "      <td>KL-16645</td>\n",
              "      <td>14175.229</td>\n",
              "    </tr>\n",
              "    <tr>\n",
              "      <th>669</th>\n",
              "      <td>SC-20095</td>\n",
              "      <td>14142.334</td>\n",
              "    </tr>\n",
              "    <tr>\n",
              "      <th>327</th>\n",
              "      <td>HL-15040</td>\n",
              "      <td>12873.298</td>\n",
              "    </tr>\n",
              "    <tr>\n",
              "      <th>683</th>\n",
              "      <td>SE-20110</td>\n",
              "      <td>12209.438</td>\n",
              "    </tr>\n",
              "    <tr>\n",
              "      <th>131</th>\n",
              "      <td>CC-12370</td>\n",
              "      <td>12129.072</td>\n",
              "    </tr>\n",
              "  </tbody>\n",
              "</table>\n",
              "</div>"
            ],
            "text/plain": [
              "    Customer ID      Sales\n",
              "700    SM-20320  25043.050\n",
              "741    TC-20980  19052.218\n",
              "621    RB-19360  15117.339\n",
              "730    TA-21385  14595.620\n",
              "6      AB-10105  14473.571\n",
              "434    KL-16645  14175.229\n",
              "669    SC-20095  14142.334\n",
              "327    HL-15040  12873.298\n",
              "683    SE-20110  12209.438\n",
              "131    CC-12370  12129.072"
            ]
          },
          "metadata": {},
          "execution_count": 2466
        }
      ]
    },
    {
      "cell_type": "code",
      "metadata": {
        "colab": {
          "base_uri": "https://localhost:8080/",
          "height": 1000
        },
        "id": "68AGsNGOHDu_",
        "outputId": "0c6cecf2-f930-4d76-f0d4-5abcdf820020"
      },
      "source": [
        "df[df[\"Customer ID\"] == \"TC-20980\"]"
      ],
      "execution_count": null,
      "outputs": [
        {
          "output_type": "execute_result",
          "data": {
            "text/html": [
              "<div>\n",
              "<style scoped>\n",
              "    .dataframe tbody tr th:only-of-type {\n",
              "        vertical-align: middle;\n",
              "    }\n",
              "\n",
              "    .dataframe tbody tr th {\n",
              "        vertical-align: top;\n",
              "    }\n",
              "\n",
              "    .dataframe thead th {\n",
              "        text-align: right;\n",
              "    }\n",
              "</style>\n",
              "<table border=\"1\" class=\"dataframe\">\n",
              "  <thead>\n",
              "    <tr style=\"text-align: right;\">\n",
              "      <th></th>\n",
              "      <th>Row ID</th>\n",
              "      <th>Order ID</th>\n",
              "      <th>Order Date</th>\n",
              "      <th>Ship Date</th>\n",
              "      <th>Ship Mode</th>\n",
              "      <th>Customer ID</th>\n",
              "      <th>Customer Name</th>\n",
              "      <th>Segment</th>\n",
              "      <th>Country</th>\n",
              "      <th>City</th>\n",
              "      <th>State</th>\n",
              "      <th>Postal Code</th>\n",
              "      <th>Region</th>\n",
              "      <th>Product ID</th>\n",
              "      <th>Category</th>\n",
              "      <th>Sub-Category</th>\n",
              "      <th>Product Name</th>\n",
              "      <th>Sales</th>\n",
              "    </tr>\n",
              "  </thead>\n",
              "  <tbody>\n",
              "    <tr>\n",
              "      <th>2072</th>\n",
              "      <td>2073</td>\n",
              "      <td>CA-2017-129693</td>\n",
              "      <td>2017-11-26</td>\n",
              "      <td>2017-12-02</td>\n",
              "      <td>Standard Class</td>\n",
              "      <td>TC-20980</td>\n",
              "      <td>Tamara Chand</td>\n",
              "      <td>Corporate</td>\n",
              "      <td>United States</td>\n",
              "      <td>Seattle</td>\n",
              "      <td>Washington</td>\n",
              "      <td>98105</td>\n",
              "      <td>West</td>\n",
              "      <td>OFF-BI-10002954</td>\n",
              "      <td>Office Supplies</td>\n",
              "      <td>Binders</td>\n",
              "      <td>Newell 3-Hole Punched Plastic Slotted Magazine...</td>\n",
              "      <td>7.312</td>\n",
              "    </tr>\n",
              "    <tr>\n",
              "      <th>3185</th>\n",
              "      <td>3186</td>\n",
              "      <td>CA-2015-123498</td>\n",
              "      <td>2015-11-07</td>\n",
              "      <td>2015-11-09</td>\n",
              "      <td>First Class</td>\n",
              "      <td>TC-20980</td>\n",
              "      <td>Tamara Chand</td>\n",
              "      <td>Corporate</td>\n",
              "      <td>United States</td>\n",
              "      <td>Houston</td>\n",
              "      <td>Texas</td>\n",
              "      <td>77041</td>\n",
              "      <td>Central</td>\n",
              "      <td>OFF-BI-10000632</td>\n",
              "      <td>Office Supplies</td>\n",
              "      <td>Binders</td>\n",
              "      <td>Satellite Sectional Post Binders</td>\n",
              "      <td>26.046</td>\n",
              "    </tr>\n",
              "    <tr>\n",
              "      <th>3186</th>\n",
              "      <td>3187</td>\n",
              "      <td>CA-2015-123498</td>\n",
              "      <td>2015-11-07</td>\n",
              "      <td>2015-11-09</td>\n",
              "      <td>First Class</td>\n",
              "      <td>TC-20980</td>\n",
              "      <td>Tamara Chand</td>\n",
              "      <td>Corporate</td>\n",
              "      <td>United States</td>\n",
              "      <td>Houston</td>\n",
              "      <td>Texas</td>\n",
              "      <td>77041</td>\n",
              "      <td>Central</td>\n",
              "      <td>OFF-EN-10004773</td>\n",
              "      <td>Office Supplies</td>\n",
              "      <td>Envelopes</td>\n",
              "      <td>Staple envelope</td>\n",
              "      <td>74.352</td>\n",
              "    </tr>\n",
              "    <tr>\n",
              "      <th>6825</th>\n",
              "      <td>6826</td>\n",
              "      <td>CA-2017-118689</td>\n",
              "      <td>2017-10-02</td>\n",
              "      <td>2017-10-09</td>\n",
              "      <td>Standard Class</td>\n",
              "      <td>TC-20980</td>\n",
              "      <td>Tamara Chand</td>\n",
              "      <td>Corporate</td>\n",
              "      <td>United States</td>\n",
              "      <td>Lafayette</td>\n",
              "      <td>Indiana</td>\n",
              "      <td>47905</td>\n",
              "      <td>Central</td>\n",
              "      <td>OFF-ST-10001558</td>\n",
              "      <td>Office Supplies</td>\n",
              "      <td>Storage</td>\n",
              "      <td>Acco Perma 4000 Stacking Storage Drawers</td>\n",
              "      <td>32.480</td>\n",
              "    </tr>\n",
              "    <tr>\n",
              "      <th>6826</th>\n",
              "      <td>6827</td>\n",
              "      <td>CA-2017-118689</td>\n",
              "      <td>2017-10-02</td>\n",
              "      <td>2017-10-09</td>\n",
              "      <td>Standard Class</td>\n",
              "      <td>TC-20980</td>\n",
              "      <td>Tamara Chand</td>\n",
              "      <td>Corporate</td>\n",
              "      <td>United States</td>\n",
              "      <td>Lafayette</td>\n",
              "      <td>Indiana</td>\n",
              "      <td>47905</td>\n",
              "      <td>Central</td>\n",
              "      <td>TEC-CO-10004722</td>\n",
              "      <td>Technology</td>\n",
              "      <td>Copiers</td>\n",
              "      <td>Canon imageCLASS 2200 Advanced Copier</td>\n",
              "      <td>17499.950</td>\n",
              "    </tr>\n",
              "    <tr>\n",
              "      <th>6827</th>\n",
              "      <td>6828</td>\n",
              "      <td>CA-2017-118689</td>\n",
              "      <td>2017-10-02</td>\n",
              "      <td>2017-10-09</td>\n",
              "      <td>Standard Class</td>\n",
              "      <td>TC-20980</td>\n",
              "      <td>Tamara Chand</td>\n",
              "      <td>Corporate</td>\n",
              "      <td>United States</td>\n",
              "      <td>Lafayette</td>\n",
              "      <td>Indiana</td>\n",
              "      <td>47905</td>\n",
              "      <td>Central</td>\n",
              "      <td>OFF-BI-10004600</td>\n",
              "      <td>Office Supplies</td>\n",
              "      <td>Binders</td>\n",
              "      <td>Ibico Ibimaster 300 Manual Binding System</td>\n",
              "      <td>735.980</td>\n",
              "    </tr>\n",
              "    <tr>\n",
              "      <th>6828</th>\n",
              "      <td>6829</td>\n",
              "      <td>CA-2017-118689</td>\n",
              "      <td>2017-10-02</td>\n",
              "      <td>2017-10-09</td>\n",
              "      <td>Standard Class</td>\n",
              "      <td>TC-20980</td>\n",
              "      <td>Tamara Chand</td>\n",
              "      <td>Corporate</td>\n",
              "      <td>United States</td>\n",
              "      <td>Lafayette</td>\n",
              "      <td>Indiana</td>\n",
              "      <td>47905</td>\n",
              "      <td>Central</td>\n",
              "      <td>OFF-BI-10003712</td>\n",
              "      <td>Office Supplies</td>\n",
              "      <td>Binders</td>\n",
              "      <td>Acco Pressboard Covers with Storage Hooks, 14 ...</td>\n",
              "      <td>34.370</td>\n",
              "    </tr>\n",
              "    <tr>\n",
              "      <th>6829</th>\n",
              "      <td>6830</td>\n",
              "      <td>CA-2017-118689</td>\n",
              "      <td>2017-10-02</td>\n",
              "      <td>2017-10-09</td>\n",
              "      <td>Standard Class</td>\n",
              "      <td>TC-20980</td>\n",
              "      <td>Tamara Chand</td>\n",
              "      <td>Corporate</td>\n",
              "      <td>United States</td>\n",
              "      <td>Lafayette</td>\n",
              "      <td>Indiana</td>\n",
              "      <td>47905</td>\n",
              "      <td>Central</td>\n",
              "      <td>OFF-AR-10001958</td>\n",
              "      <td>Office Supplies</td>\n",
              "      <td>Art</td>\n",
              "      <td>Stanley Bostitch Contemporary Electric Pencil ...</td>\n",
              "      <td>33.960</td>\n",
              "    </tr>\n",
              "    <tr>\n",
              "      <th>8060</th>\n",
              "      <td>8061</td>\n",
              "      <td>CA-2016-156013</td>\n",
              "      <td>2016-09-20</td>\n",
              "      <td>2016-09-26</td>\n",
              "      <td>Standard Class</td>\n",
              "      <td>TC-20980</td>\n",
              "      <td>Tamara Chand</td>\n",
              "      <td>Corporate</td>\n",
              "      <td>United States</td>\n",
              "      <td>Long Beach</td>\n",
              "      <td>New York</td>\n",
              "      <td>11561</td>\n",
              "      <td>East</td>\n",
              "      <td>OFF-PA-10001970</td>\n",
              "      <td>Office Supplies</td>\n",
              "      <td>Paper</td>\n",
              "      <td>Xerox 1881</td>\n",
              "      <td>61.400</td>\n",
              "    </tr>\n",
              "    <tr>\n",
              "      <th>8061</th>\n",
              "      <td>8062</td>\n",
              "      <td>CA-2016-156013</td>\n",
              "      <td>2016-09-20</td>\n",
              "      <td>2016-09-26</td>\n",
              "      <td>Standard Class</td>\n",
              "      <td>TC-20980</td>\n",
              "      <td>Tamara Chand</td>\n",
              "      <td>Corporate</td>\n",
              "      <td>United States</td>\n",
              "      <td>Long Beach</td>\n",
              "      <td>New York</td>\n",
              "      <td>11561</td>\n",
              "      <td>East</td>\n",
              "      <td>OFF-BI-10002437</td>\n",
              "      <td>Office Supplies</td>\n",
              "      <td>Binders</td>\n",
              "      <td>Recycled Premium Regency Composition Covers</td>\n",
              "      <td>24.448</td>\n",
              "    </tr>\n",
              "    <tr>\n",
              "      <th>8337</th>\n",
              "      <td>8338</td>\n",
              "      <td>CA-2015-153087</td>\n",
              "      <td>2015-12-27</td>\n",
              "      <td>2016-01-03</td>\n",
              "      <td>Standard Class</td>\n",
              "      <td>TC-20980</td>\n",
              "      <td>Tamara Chand</td>\n",
              "      <td>Corporate</td>\n",
              "      <td>United States</td>\n",
              "      <td>Decatur</td>\n",
              "      <td>Alabama</td>\n",
              "      <td>35601</td>\n",
              "      <td>South</td>\n",
              "      <td>OFF-PA-10001243</td>\n",
              "      <td>Office Supplies</td>\n",
              "      <td>Paper</td>\n",
              "      <td>Xerox 1983</td>\n",
              "      <td>23.920</td>\n",
              "    </tr>\n",
              "    <tr>\n",
              "      <th>8338</th>\n",
              "      <td>8339</td>\n",
              "      <td>CA-2015-153087</td>\n",
              "      <td>2015-12-27</td>\n",
              "      <td>2016-01-03</td>\n",
              "      <td>Standard Class</td>\n",
              "      <td>TC-20980</td>\n",
              "      <td>Tamara Chand</td>\n",
              "      <td>Corporate</td>\n",
              "      <td>United States</td>\n",
              "      <td>Decatur</td>\n",
              "      <td>Alabama</td>\n",
              "      <td>35601</td>\n",
              "      <td>South</td>\n",
              "      <td>TEC-AC-10003198</td>\n",
              "      <td>Technology</td>\n",
              "      <td>Accessories</td>\n",
              "      <td>Enermax Acrylux Wireless Keyboard</td>\n",
              "      <td>498.000</td>\n",
              "    </tr>\n",
              "  </tbody>\n",
              "</table>\n",
              "</div>"
            ],
            "text/plain": [
              "      Row ID  ...      Sales\n",
              "2072    2073  ...      7.312\n",
              "3185    3186  ...     26.046\n",
              "3186    3187  ...     74.352\n",
              "6825    6826  ...     32.480\n",
              "6826    6827  ...  17499.950\n",
              "6827    6828  ...    735.980\n",
              "6828    6829  ...     34.370\n",
              "6829    6830  ...     33.960\n",
              "8060    8061  ...     61.400\n",
              "8061    8062  ...     24.448\n",
              "8337    8338  ...     23.920\n",
              "8338    8339  ...    498.000\n",
              "\n",
              "[12 rows x 18 columns]"
            ]
          },
          "metadata": {},
          "execution_count": 2467
        }
      ]
    },
    {
      "cell_type": "markdown",
      "metadata": {
        "id": "vDqeLedMHi6i"
      },
      "source": [
        "The second top customer is Tamara Chand"
      ]
    },
    {
      "cell_type": "markdown",
      "metadata": {
        "id": "9xJh796GqhJ-"
      },
      "source": [
        ">2.3. What are the most frequently bought product sub-categories ? \n",
        ">\n",
        "> Hint: look at sub-category and count the times they appear in the dataset."
      ]
    },
    {
      "cell_type": "code",
      "metadata": {
        "id": "pd5YfUGDqllc",
        "colab": {
          "base_uri": "https://localhost:8080/"
        },
        "outputId": "4b10ce45-0764-438a-9320-5418807529d8"
      },
      "source": [
        "df['Sub-Category'].value_counts()"
      ],
      "execution_count": null,
      "outputs": [
        {
          "output_type": "execute_result",
          "data": {
            "text/plain": [
              "Binders        1492\n",
              "Paper          1336\n",
              "Furnishings     931\n",
              "Phones          875\n",
              "Storage         831\n",
              "Art             784\n",
              "Accessories     754\n",
              "Chairs          606\n",
              "Appliances      458\n",
              "Labels          357\n",
              "Tables          314\n",
              "Envelopes       247\n",
              "Bookcases       225\n",
              "Fasteners       214\n",
              "Supplies        184\n",
              "Machines        115\n",
              "Copiers          66\n",
              "Name: Sub-Category, dtype: int64"
            ]
          },
          "metadata": {},
          "execution_count": 2468
        }
      ]
    },
    {
      "cell_type": "markdown",
      "metadata": {
        "id": "9p3VwEC4Gdbo"
      },
      "source": [
        "The most frequently bought product sub-categories are Binders, Paper, Furnishings,..."
      ]
    },
    {
      "cell_type": "markdown",
      "metadata": {
        "id": "jrNQ6Gq4Qiv2"
      },
      "source": [
        ">...What are the product sub-categories that generated the highest value of sales over the entire period?\n",
        ">\n",
        "> Hint: aggregate sales by sub-category."
      ]
    },
    {
      "cell_type": "code",
      "metadata": {
        "id": "0GPqlCLxVDBH",
        "colab": {
          "base_uri": "https://localhost:8080/"
        },
        "outputId": "4517704e-fabe-4e94-c51e-b8c93cf264e7"
      },
      "source": [
        "df.groupby('Sub-Category')['Sales'].sum().sort_values(ascending=False)\n"
      ],
      "execution_count": null,
      "outputs": [
        {
          "output_type": "execute_result",
          "data": {
            "text/plain": [
              "Sub-Category\n",
              "Phones         326487.6980\n",
              "Chairs         322107.5310\n",
              "Storage        217779.1020\n",
              "Tables         202810.6280\n",
              "Binders        200028.7850\n",
              "Machines       189238.6310\n",
              "Accessories    163881.6900\n",
              "Copiers        146248.0940\n",
              "Bookcases      109408.2987\n",
              "Appliances     104075.4630\n",
              "Furnishings     89212.0180\n",
              "Paper           76736.1040\n",
              "Supplies        46420.3080\n",
              "Art             26697.3700\n",
              "Envelopes       16126.0060\n",
              "Labels          12347.7260\n",
              "Fasteners        3001.9600\n",
              "Name: Sales, dtype: float64"
            ]
          },
          "metadata": {},
          "execution_count": 2469
        }
      ]
    },
    {
      "cell_type": "markdown",
      "metadata": {
        "id": "hGfNFfqfGp76"
      },
      "source": [
        "The product sub-categories that generated the highest value of sales over the entire period are Phones, chairs, storage, ..."
      ]
    },
    {
      "cell_type": "markdown",
      "metadata": {
        "id": "0ZzouGeaRZ7z"
      },
      "source": [
        ">...What was the average purchase price of a phone sold by the store?"
      ]
    },
    {
      "cell_type": "code",
      "metadata": {
        "id": "76tjDZlzTfMe",
        "colab": {
          "base_uri": "https://localhost:8080/"
        },
        "outputId": "759c5286-37a6-4615-a647-555c18bc97fb"
      },
      "source": [
        "phones = df[df['Sub-Category'] == 'Phones']\n",
        "phones['Sales'].mean()"
      ],
      "execution_count": null,
      "outputs": [
        {
          "output_type": "execute_result",
          "data": {
            "text/plain": [
              "373.128797714286"
            ]
          },
          "metadata": {},
          "execution_count": 2470
        }
      ]
    },
    {
      "cell_type": "markdown",
      "metadata": {
        "id": "lEnKlgjJZwRN"
      },
      "source": [
        ">2.4 Create a new column storing the time difference between Ship Date and Order Date. What was the longest, shortest and the average delivery time difference?"
      ]
    },
    {
      "cell_type": "code",
      "metadata": {
        "id": "A1ye8bE_Zkvq",
        "colab": {
          "base_uri": "https://localhost:8080/"
        },
        "outputId": "6c2620ee-5a2c-4fa3-a091-3dd6f80f57c3"
      },
      "source": [
        "df['Delivery Time'] = df['Ship Date'] - df['Order Date']\n",
        "print(min(df['Delivery Time']))\n",
        "print(max(df['Delivery Time']))\n",
        "print(df['Delivery Time'].mean())"
      ],
      "execution_count": null,
      "outputs": [
        {
          "output_type": "stream",
          "name": "stdout",
          "text": [
            "0 days 00:00:00\n",
            "7 days 00:00:00\n",
            "3 days 23:04:06.031259577\n"
          ]
        }
      ]
    },
    {
      "cell_type": "markdown",
      "metadata": {
        "id": "sv9EMmHaIjul"
      },
      "source": [
        "Shortest delivery time : 0 days\n",
        "\n",
        "Longest delivery time : 7 days\n",
        "\n",
        "Average delivery time : 3 days"
      ]
    },
    {
      "cell_type": "markdown",
      "metadata": {
        "id": "tEOwefHvSsbZ"
      },
      "source": [
        "> 2.5. How many orders (not items) had a delivery time of 6 or more days? \n",
        ">\n",
        "> Hint: you may want to use [`pd.Timedelta()`](https://pandas.pydata.org/docs/reference/api/pandas.Timedelta.html)."
      ]
    },
    {
      "cell_type": "code",
      "metadata": {
        "id": "9BoxdiOObUWs",
        "colab": {
          "base_uri": "https://localhost:8080/"
        },
        "outputId": "e34271e9-4fdc-43bd-fe10-8eee7b600f89"
      },
      "source": [
        "# Converting 'Delivery Time' in string\n",
        "df[\"Delivery Time\"] = df[\"Delivery Time\"].astype(str)\n",
        "# Creating a subset of the dataframe with only delivery time >= 6 days\n",
        "delivery_6_or_more = df[(df[\"Delivery Time\"] != \"0 days\") & (df[\"Delivery Time\"] != \"1 days\") \n",
        "                         & (df[\"Delivery Time\"] != \"2 days\") & (df[\"Delivery Time\"] != \"3 days\") \n",
        "                         & (df[\"Delivery Time\"] != \"4 days\") & (df[\"Delivery Time\"] != \"5 days\")]\n",
        "# Now, I can check how many observations with unique 'Order ID' unique exist.\n",
        "len(delivery_6_or_more[\"Order ID\"].unique())"
      ],
      "execution_count": null,
      "outputs": [
        {
          "output_type": "execute_result",
          "data": {
            "text/plain": [
              "887"
            ]
          },
          "metadata": {},
          "execution_count": 2472
        }
      ]
    },
    {
      "cell_type": "markdown",
      "metadata": {
        "id": "dIxCC-0vmumu"
      },
      "source": [
        "There are 887 orders with a delivery time greater or equal to 6 days"
      ]
    },
    {
      "cell_type": "markdown",
      "metadata": {
        "id": "wOm_zWbzmU_n"
      },
      "source": [
        ">2.6. What are the average delivery times for each mode of shipment? Take the average over the total number of items ordered (not over the total number of orders)."
      ]
    },
    {
      "cell_type": "code",
      "metadata": {
        "id": "AnueJAYAmq-K",
        "colab": {
          "base_uri": "https://localhost:8080/",
          "height": 35
        },
        "outputId": "f5e6e5d4-58f2-4aa2-be85-c2028fe0a6b9"
      },
      "source": [
        "# Check how many digits has the biggest delivery time\n",
        "max(df[\"Delivery Time\"])\n",
        "# We observe it has only 1 ('7')"
      ],
      "execution_count": null,
      "outputs": [
        {
          "output_type": "execute_result",
          "data": {
            "application/vnd.google.colaboratory.intrinsic+json": {
              "type": "string"
            },
            "text/plain": [
              "'7 days'"
            ]
          },
          "metadata": {},
          "execution_count": 2473
        }
      ]
    },
    {
      "cell_type": "code",
      "metadata": {
        "id": "wviJg72fqTIR"
      },
      "source": [
        "# Let's keep only the number and delete \"Days\"\n",
        "df[\"Delivery Time\"] = df[\"Delivery Time\"].apply(lambda x: x[0])"
      ],
      "execution_count": null,
      "outputs": []
    },
    {
      "cell_type": "code",
      "metadata": {
        "colab": {
          "base_uri": "https://localhost:8080/"
        },
        "id": "3jJDIL2Gqdva",
        "outputId": "05392119-105b-4daf-cb8a-3c982f4157fd"
      },
      "source": [
        "# Now we can change the type of 'Delivery Time' to int\n",
        "df[\"Delivery Time\"] = df[\"Delivery Time\"].astype(int)\n",
        "df.dtypes"
      ],
      "execution_count": null,
      "outputs": [
        {
          "output_type": "stream",
          "name": "stderr",
          "text": [
            "/usr/local/lib/python3.7/dist-packages/IPython/core/displayhook.py:260: UserWarning: Output cache limit (currently 1000 entries) hit.\n",
            "Flushing oldest 200 entries.\n",
            "  'Flushing oldest {cull_count} entries.'.format(sz=sz, cull_count=cull_count))\n"
          ]
        },
        {
          "output_type": "execute_result",
          "data": {
            "text/plain": [
              "Row ID                    int64\n",
              "Order ID                 object\n",
              "Order Date       datetime64[ns]\n",
              "Ship Date        datetime64[ns]\n",
              "Ship Mode              category\n",
              "Customer ID              object\n",
              "Customer Name            object\n",
              "Segment                category\n",
              "Country                  object\n",
              "City                     object\n",
              "State                    object\n",
              "Postal Code              object\n",
              "Region                   object\n",
              "Product ID               object\n",
              "Category                 object\n",
              "Sub-Category             object\n",
              "Product Name             object\n",
              "Sales                   float64\n",
              "Delivery Time             int64\n",
              "dtype: object"
            ]
          },
          "metadata": {},
          "execution_count": 2475
        }
      ]
    },
    {
      "cell_type": "code",
      "metadata": {
        "colab": {
          "base_uri": "https://localhost:8080/"
        },
        "id": "UpYbruAFqu7-",
        "outputId": "521afc9c-b680-439c-9308-c45b31038496"
      },
      "source": [
        "# What are the different ship mode ?\n",
        "df[\"Ship Mode\"].describe"
      ],
      "execution_count": null,
      "outputs": [
        {
          "output_type": "execute_result",
          "data": {
            "text/plain": [
              "<bound method NDFrame.describe of 0         Second Class\n",
              "1         Second Class\n",
              "2         Second Class\n",
              "3       Standard Class\n",
              "4       Standard Class\n",
              "             ...      \n",
              "9795    Standard Class\n",
              "9796    Standard Class\n",
              "9797    Standard Class\n",
              "9798    Standard Class\n",
              "9799    Standard Class\n",
              "Name: Ship Mode, Length: 9789, dtype: category\n",
              "Categories (4, object): ['First Class', 'Same Day', 'Second Class', 'Standard Class']>"
            ]
          },
          "metadata": {},
          "execution_count": 2476
        }
      ]
    },
    {
      "cell_type": "code",
      "metadata": {
        "colab": {
          "base_uri": "https://localhost:8080/"
        },
        "id": "r0Dy4FwjsYmD",
        "outputId": "49035c65-5a77-4541-fcd8-5d6c2f50cebc"
      },
      "source": [
        "# Answer for Same Day\n",
        "# We create a subset of the dataframe with only 'Same Day' as ship mode\n",
        "same_day = df[df[\"Ship Mode\"] == \"Same Day\"]\n",
        "same_day[\"Delivery Time\"].mean()"
      ],
      "execution_count": null,
      "outputs": [
        {
          "output_type": "execute_result",
          "data": {
            "text/plain": [
              "0.04460966542750929"
            ]
          },
          "metadata": {},
          "execution_count": 2477
        }
      ]
    },
    {
      "cell_type": "markdown",
      "metadata": {
        "id": "0qW448B6sfNS"
      },
      "source": [
        "The average delivery time for Same Day is 0 days."
      ]
    },
    {
      "cell_type": "code",
      "metadata": {
        "colab": {
          "base_uri": "https://localhost:8080/"
        },
        "id": "2MPemniBqo_c",
        "outputId": "5a914be8-0428-4fc8-da90-9cc0b23b738b"
      },
      "source": [
        "# Answer for First class\n",
        "# We create a subset of the dataframe with only 'First Class' as ship mode\n",
        "first_class = df[df[\"Ship Mode\"] == \"First Class\"]\n",
        "first_class[\"Delivery Time\"].mean()"
      ],
      "execution_count": null,
      "outputs": [
        {
          "output_type": "execute_result",
          "data": {
            "text/plain": [
              "2.179213857428381"
            ]
          },
          "metadata": {},
          "execution_count": 2478
        }
      ]
    },
    {
      "cell_type": "markdown",
      "metadata": {
        "id": "lc5Ga4w1rnb4"
      },
      "source": [
        "The average delivery time for First Class is 2.2 days => 2 days"
      ]
    },
    {
      "cell_type": "code",
      "metadata": {
        "colab": {
          "base_uri": "https://localhost:8080/"
        },
        "id": "yJmiVfPIr4q7",
        "outputId": "8d94c638-f17e-4fbc-f99e-23f236c92c23"
      },
      "source": [
        "# Answer for Second Class\n",
        "# We create a subset of the dataframe with only 'Second Class' as ship mode\n",
        "second_class = df[df[\"Ship Mode\"] == \"Second Class\"]\n",
        "second_class[\"Delivery Time\"].mean()"
      ],
      "execution_count": null,
      "outputs": [
        {
          "output_type": "execute_result",
          "data": {
            "text/plain": [
              "3.24986849026828"
            ]
          },
          "metadata": {},
          "execution_count": 2479
        }
      ]
    },
    {
      "cell_type": "markdown",
      "metadata": {
        "id": "MLhOnbepsBWz"
      },
      "source": [
        "The average delivery time for Second Class is 3.3 days => 3 days"
      ]
    },
    {
      "cell_type": "code",
      "metadata": {
        "colab": {
          "base_uri": "https://localhost:8080/"
        },
        "id": "UtDS5_dcsK12",
        "outputId": "be1431fa-8103-42c9-c30a-dfd780ffa8b0"
      },
      "source": [
        "# Answer for Standard Class\n",
        "# We create a subset of the dataframe with only 'Standard Class' as ship mode\n",
        "standard_class = df[df[\"Ship Mode\"] == \"Standard Class\"]\n",
        "standard_class[\"Delivery Time\"].mean()"
      ],
      "execution_count": null,
      "outputs": [
        {
          "output_type": "execute_result",
          "data": {
            "text/plain": [
              "5.009916224995726"
            ]
          },
          "metadata": {},
          "execution_count": 2480
        }
      ]
    },
    {
      "cell_type": "markdown",
      "metadata": {
        "id": "ZMMxODhlsTtz"
      },
      "source": [
        "The average delivery time for Standard Class is 5 days."
      ]
    },
    {
      "cell_type": "markdown",
      "metadata": {
        "id": "N9E6QMd-rUwn"
      },
      "source": [
        ">2.7. Create a new column containing the year each order was placed (using Order Date). The plot the number of unique customers per year in a horizontal bar chart."
      ]
    },
    {
      "cell_type": "code",
      "metadata": {
        "id": "OKcMYezGqd-m"
      },
      "source": [
        "# Converting 'Order Date' to string in order to apply my lambda function\n",
        "df[\"Order Date\"] = df[\"Order Date\"].astype(str)\n",
        "# My function takes the 4 first characters, i.e. the year and put them in 'Order Year'\n",
        "df[\"Order Year\"] = df[\"Order Date\"].apply(lambda x: x[0:4])"
      ],
      "execution_count": null,
      "outputs": []
    },
    {
      "cell_type": "code",
      "metadata": {
        "colab": {
          "base_uri": "https://localhost:8080/",
          "height": 1000
        },
        "id": "h3oBf1Ycu05F",
        "outputId": "a98c26dd-2568-48fe-bf36-f116d8166d74"
      },
      "source": [
        "df"
      ],
      "execution_count": null,
      "outputs": [
        {
          "output_type": "execute_result",
          "data": {
            "text/html": [
              "<div>\n",
              "<style scoped>\n",
              "    .dataframe tbody tr th:only-of-type {\n",
              "        vertical-align: middle;\n",
              "    }\n",
              "\n",
              "    .dataframe tbody tr th {\n",
              "        vertical-align: top;\n",
              "    }\n",
              "\n",
              "    .dataframe thead th {\n",
              "        text-align: right;\n",
              "    }\n",
              "</style>\n",
              "<table border=\"1\" class=\"dataframe\">\n",
              "  <thead>\n",
              "    <tr style=\"text-align: right;\">\n",
              "      <th></th>\n",
              "      <th>Row ID</th>\n",
              "      <th>Order ID</th>\n",
              "      <th>Order Date</th>\n",
              "      <th>Ship Date</th>\n",
              "      <th>Ship Mode</th>\n",
              "      <th>Customer ID</th>\n",
              "      <th>Customer Name</th>\n",
              "      <th>Segment</th>\n",
              "      <th>Country</th>\n",
              "      <th>City</th>\n",
              "      <th>State</th>\n",
              "      <th>Postal Code</th>\n",
              "      <th>Region</th>\n",
              "      <th>Product ID</th>\n",
              "      <th>Category</th>\n",
              "      <th>Sub-Category</th>\n",
              "      <th>Product Name</th>\n",
              "      <th>Sales</th>\n",
              "      <th>Delivery Time</th>\n",
              "      <th>Order Year</th>\n",
              "    </tr>\n",
              "  </thead>\n",
              "  <tbody>\n",
              "    <tr>\n",
              "      <th>0</th>\n",
              "      <td>1</td>\n",
              "      <td>CA-2017-152156</td>\n",
              "      <td>2017-11-08</td>\n",
              "      <td>2017-11-11</td>\n",
              "      <td>Second Class</td>\n",
              "      <td>CG-12520</td>\n",
              "      <td>Claire Gute</td>\n",
              "      <td>Consumer</td>\n",
              "      <td>United States</td>\n",
              "      <td>Henderson</td>\n",
              "      <td>Kentucky</td>\n",
              "      <td>42420</td>\n",
              "      <td>South</td>\n",
              "      <td>FUR-BO-10001798</td>\n",
              "      <td>Furniture</td>\n",
              "      <td>Bookcases</td>\n",
              "      <td>Bush Somerset Collection Bookcase</td>\n",
              "      <td>261.9600</td>\n",
              "      <td>3</td>\n",
              "      <td>2017</td>\n",
              "    </tr>\n",
              "    <tr>\n",
              "      <th>1</th>\n",
              "      <td>2</td>\n",
              "      <td>CA-2017-152156</td>\n",
              "      <td>2017-11-08</td>\n",
              "      <td>2017-11-11</td>\n",
              "      <td>Second Class</td>\n",
              "      <td>CG-12520</td>\n",
              "      <td>Claire Gute</td>\n",
              "      <td>Consumer</td>\n",
              "      <td>United States</td>\n",
              "      <td>Henderson</td>\n",
              "      <td>Kentucky</td>\n",
              "      <td>42420</td>\n",
              "      <td>South</td>\n",
              "      <td>FUR-CH-10000454</td>\n",
              "      <td>Furniture</td>\n",
              "      <td>Chairs</td>\n",
              "      <td>Hon Deluxe Fabric Upholstered Stacking Chairs,...</td>\n",
              "      <td>731.9400</td>\n",
              "      <td>3</td>\n",
              "      <td>2017</td>\n",
              "    </tr>\n",
              "    <tr>\n",
              "      <th>2</th>\n",
              "      <td>3</td>\n",
              "      <td>CA-2017-138688</td>\n",
              "      <td>2017-06-12</td>\n",
              "      <td>2017-06-16</td>\n",
              "      <td>Second Class</td>\n",
              "      <td>DV-13045</td>\n",
              "      <td>Darrin Van Huff</td>\n",
              "      <td>Corporate</td>\n",
              "      <td>United States</td>\n",
              "      <td>Los Angeles</td>\n",
              "      <td>California</td>\n",
              "      <td>90036</td>\n",
              "      <td>West</td>\n",
              "      <td>OFF-LA-10000240</td>\n",
              "      <td>Office Supplies</td>\n",
              "      <td>Labels</td>\n",
              "      <td>Self-Adhesive Address Labels for Typewriters b...</td>\n",
              "      <td>14.6200</td>\n",
              "      <td>4</td>\n",
              "      <td>2017</td>\n",
              "    </tr>\n",
              "    <tr>\n",
              "      <th>3</th>\n",
              "      <td>4</td>\n",
              "      <td>US-2016-108966</td>\n",
              "      <td>2016-10-11</td>\n",
              "      <td>2016-10-18</td>\n",
              "      <td>Standard Class</td>\n",
              "      <td>SO-20335</td>\n",
              "      <td>Sean O'Donnell</td>\n",
              "      <td>Consumer</td>\n",
              "      <td>United States</td>\n",
              "      <td>Fort Lauderdale</td>\n",
              "      <td>Florida</td>\n",
              "      <td>33311</td>\n",
              "      <td>South</td>\n",
              "      <td>FUR-TA-10000577</td>\n",
              "      <td>Furniture</td>\n",
              "      <td>Tables</td>\n",
              "      <td>Bretford CR4500 Series Slim Rectangular Table</td>\n",
              "      <td>957.5775</td>\n",
              "      <td>7</td>\n",
              "      <td>2016</td>\n",
              "    </tr>\n",
              "    <tr>\n",
              "      <th>4</th>\n",
              "      <td>5</td>\n",
              "      <td>US-2016-108966</td>\n",
              "      <td>2016-10-11</td>\n",
              "      <td>2016-10-18</td>\n",
              "      <td>Standard Class</td>\n",
              "      <td>SO-20335</td>\n",
              "      <td>Sean O'Donnell</td>\n",
              "      <td>Consumer</td>\n",
              "      <td>United States</td>\n",
              "      <td>Fort Lauderdale</td>\n",
              "      <td>Florida</td>\n",
              "      <td>33311</td>\n",
              "      <td>South</td>\n",
              "      <td>OFF-ST-10000760</td>\n",
              "      <td>Office Supplies</td>\n",
              "      <td>Storage</td>\n",
              "      <td>Eldon Fold 'N Roll Cart System</td>\n",
              "      <td>22.3680</td>\n",
              "      <td>7</td>\n",
              "      <td>2016</td>\n",
              "    </tr>\n",
              "    <tr>\n",
              "      <th>...</th>\n",
              "      <td>...</td>\n",
              "      <td>...</td>\n",
              "      <td>...</td>\n",
              "      <td>...</td>\n",
              "      <td>...</td>\n",
              "      <td>...</td>\n",
              "      <td>...</td>\n",
              "      <td>...</td>\n",
              "      <td>...</td>\n",
              "      <td>...</td>\n",
              "      <td>...</td>\n",
              "      <td>...</td>\n",
              "      <td>...</td>\n",
              "      <td>...</td>\n",
              "      <td>...</td>\n",
              "      <td>...</td>\n",
              "      <td>...</td>\n",
              "      <td>...</td>\n",
              "      <td>...</td>\n",
              "      <td>...</td>\n",
              "    </tr>\n",
              "    <tr>\n",
              "      <th>9795</th>\n",
              "      <td>9796</td>\n",
              "      <td>CA-2017-125920</td>\n",
              "      <td>2017-05-21</td>\n",
              "      <td>2017-05-28</td>\n",
              "      <td>Standard Class</td>\n",
              "      <td>SH-19975</td>\n",
              "      <td>Sally Hughsby</td>\n",
              "      <td>Corporate</td>\n",
              "      <td>United States</td>\n",
              "      <td>Chicago</td>\n",
              "      <td>Illinois</td>\n",
              "      <td>60610</td>\n",
              "      <td>Central</td>\n",
              "      <td>OFF-BI-10003429</td>\n",
              "      <td>Office Supplies</td>\n",
              "      <td>Binders</td>\n",
              "      <td>Cardinal HOLDit! Binder Insert Strips,Extra St...</td>\n",
              "      <td>3.7980</td>\n",
              "      <td>7</td>\n",
              "      <td>2017</td>\n",
              "    </tr>\n",
              "    <tr>\n",
              "      <th>9796</th>\n",
              "      <td>9797</td>\n",
              "      <td>CA-2016-128608</td>\n",
              "      <td>2016-01-12</td>\n",
              "      <td>2016-01-17</td>\n",
              "      <td>Standard Class</td>\n",
              "      <td>CS-12490</td>\n",
              "      <td>Cindy Schnelling</td>\n",
              "      <td>Corporate</td>\n",
              "      <td>United States</td>\n",
              "      <td>Toledo</td>\n",
              "      <td>Ohio</td>\n",
              "      <td>43615</td>\n",
              "      <td>East</td>\n",
              "      <td>OFF-AR-10001374</td>\n",
              "      <td>Office Supplies</td>\n",
              "      <td>Art</td>\n",
              "      <td>BIC Brite Liner Highlighters, Chisel Tip</td>\n",
              "      <td>10.3680</td>\n",
              "      <td>5</td>\n",
              "      <td>2016</td>\n",
              "    </tr>\n",
              "    <tr>\n",
              "      <th>9797</th>\n",
              "      <td>9798</td>\n",
              "      <td>CA-2016-128608</td>\n",
              "      <td>2016-01-12</td>\n",
              "      <td>2016-01-17</td>\n",
              "      <td>Standard Class</td>\n",
              "      <td>CS-12490</td>\n",
              "      <td>Cindy Schnelling</td>\n",
              "      <td>Corporate</td>\n",
              "      <td>United States</td>\n",
              "      <td>Toledo</td>\n",
              "      <td>Ohio</td>\n",
              "      <td>43615</td>\n",
              "      <td>East</td>\n",
              "      <td>TEC-PH-10004977</td>\n",
              "      <td>Technology</td>\n",
              "      <td>Phones</td>\n",
              "      <td>GE 30524EE4</td>\n",
              "      <td>235.1880</td>\n",
              "      <td>5</td>\n",
              "      <td>2016</td>\n",
              "    </tr>\n",
              "    <tr>\n",
              "      <th>9798</th>\n",
              "      <td>9799</td>\n",
              "      <td>CA-2016-128608</td>\n",
              "      <td>2016-01-12</td>\n",
              "      <td>2016-01-17</td>\n",
              "      <td>Standard Class</td>\n",
              "      <td>CS-12490</td>\n",
              "      <td>Cindy Schnelling</td>\n",
              "      <td>Corporate</td>\n",
              "      <td>United States</td>\n",
              "      <td>Toledo</td>\n",
              "      <td>Ohio</td>\n",
              "      <td>43615</td>\n",
              "      <td>East</td>\n",
              "      <td>TEC-PH-10000912</td>\n",
              "      <td>Technology</td>\n",
              "      <td>Phones</td>\n",
              "      <td>Anker 24W Portable Micro USB Car Charger</td>\n",
              "      <td>26.3760</td>\n",
              "      <td>5</td>\n",
              "      <td>2016</td>\n",
              "    </tr>\n",
              "    <tr>\n",
              "      <th>9799</th>\n",
              "      <td>9800</td>\n",
              "      <td>CA-2016-128608</td>\n",
              "      <td>2016-01-12</td>\n",
              "      <td>2016-01-17</td>\n",
              "      <td>Standard Class</td>\n",
              "      <td>CS-12490</td>\n",
              "      <td>Cindy Schnelling</td>\n",
              "      <td>Corporate</td>\n",
              "      <td>United States</td>\n",
              "      <td>Toledo</td>\n",
              "      <td>Ohio</td>\n",
              "      <td>43615</td>\n",
              "      <td>East</td>\n",
              "      <td>TEC-AC-10000487</td>\n",
              "      <td>Technology</td>\n",
              "      <td>Accessories</td>\n",
              "      <td>SanDisk Cruzer 4 GB USB Flash Drive</td>\n",
              "      <td>10.3840</td>\n",
              "      <td>5</td>\n",
              "      <td>2016</td>\n",
              "    </tr>\n",
              "  </tbody>\n",
              "</table>\n",
              "<p>9789 rows × 20 columns</p>\n",
              "</div>"
            ],
            "text/plain": [
              "      Row ID        Order ID  Order Date  ...     Sales Delivery Time Order Year\n",
              "0          1  CA-2017-152156  2017-11-08  ...  261.9600             3       2017\n",
              "1          2  CA-2017-152156  2017-11-08  ...  731.9400             3       2017\n",
              "2          3  CA-2017-138688  2017-06-12  ...   14.6200             4       2017\n",
              "3          4  US-2016-108966  2016-10-11  ...  957.5775             7       2016\n",
              "4          5  US-2016-108966  2016-10-11  ...   22.3680             7       2016\n",
              "...      ...             ...         ...  ...       ...           ...        ...\n",
              "9795    9796  CA-2017-125920  2017-05-21  ...    3.7980             7       2017\n",
              "9796    9797  CA-2016-128608  2016-01-12  ...   10.3680             5       2016\n",
              "9797    9798  CA-2016-128608  2016-01-12  ...  235.1880             5       2016\n",
              "9798    9799  CA-2016-128608  2016-01-12  ...   26.3760             5       2016\n",
              "9799    9800  CA-2016-128608  2016-01-12  ...   10.3840             5       2016\n",
              "\n",
              "[9789 rows x 20 columns]"
            ]
          },
          "metadata": {},
          "execution_count": 2482
        }
      ]
    },
    {
      "cell_type": "code",
      "metadata": {
        "colab": {
          "base_uri": "https://localhost:8080/"
        },
        "id": "FwfTzr3wuPU-",
        "outputId": "2be7d6cb-b1ce-46e3-b653-f1d7bf06b2db"
      },
      "source": [
        "df[\"Order Year\"] = df[\"Order Year\"].astype(int)\n",
        "# Now that I have done what I wanted, I convert again 'Order Date' to datetime\n",
        "df[\"Order Date\"] = pd.to_datetime(df[\"Order Date\"], format=\"%Y-%m-%d\", errors = 'ignore')\n",
        "df.dtypes"
      ],
      "execution_count": null,
      "outputs": [
        {
          "output_type": "execute_result",
          "data": {
            "text/plain": [
              "Row ID                    int64\n",
              "Order ID                 object\n",
              "Order Date       datetime64[ns]\n",
              "Ship Date        datetime64[ns]\n",
              "Ship Mode              category\n",
              "Customer ID              object\n",
              "Customer Name            object\n",
              "Segment                category\n",
              "Country                  object\n",
              "City                     object\n",
              "State                    object\n",
              "Postal Code              object\n",
              "Region                   object\n",
              "Product ID               object\n",
              "Category                 object\n",
              "Sub-Category             object\n",
              "Product Name             object\n",
              "Sales                   float64\n",
              "Delivery Time             int64\n",
              "Order Year                int64\n",
              "dtype: object"
            ]
          },
          "metadata": {},
          "execution_count": 2483
        }
      ]
    },
    {
      "cell_type": "code",
      "metadata": {
        "id": "UNaE7zlmAbMg"
      },
      "source": [
        "#customers_by_year = df.groupby(['Order Year'], as_index=False)['Customer ID'].count()\n",
        "#customers_by_year.plot.barh()"
      ],
      "execution_count": null,
      "outputs": []
    },
    {
      "cell_type": "markdown",
      "metadata": {
        "id": "7VrpFnfA5g14"
      },
      "source": [
        ">2.8. Churn in 2018 as compared to 2017. Were there any customers in 2017 that the store lost in 2018? If so, how many?"
      ]
    },
    {
      "cell_type": "code",
      "metadata": {
        "id": "nufM8bG-5le9",
        "colab": {
          "base_uri": "https://localhost:8080/"
        },
        "outputId": "61f6ef7c-0ed8-42fd-a022-80e046c2b4b4"
      },
      "source": [
        "# create a dataframe with only values in 'Order Year' 2017\n",
        "order2017 = df[(df['Order Year'] == 2017)]\n",
        "# list all customers of 2017\n",
        "customers2017 = order2017[\"Customer ID\"]\n",
        "# create a dataframe with only values in 'Order Year' 2018\n",
        "order2018 = df[(df['Order Year'] == 2018)]\n",
        "# list all customers of 2018\n",
        "customers2018 = order2018[\"Customer ID\"]\n",
        "# Stock all the wanted-customers in a list\n",
        "liste = []\n",
        "for x in customers2017:\n",
        "  if x not in customers2018:\n",
        "    liste.append(x)\n",
        "# Delete repetitive customers and order it\n",
        "liste = set(liste)\n",
        "# Checking the quantity of customers by checking the lenght of the list\n",
        "len(liste)"
      ],
      "execution_count": null,
      "outputs": [
        {
          "output_type": "execute_result",
          "data": {
            "text/plain": [
              "635"
            ]
          },
          "metadata": {},
          "execution_count": 2485
        }
      ]
    },
    {
      "cell_type": "markdown",
      "metadata": {
        "id": "7SZCdVDT-9rT"
      },
      "source": [
        "There are 635 customers who bought in 2017 but not in 2018"
      ]
    },
    {
      "cell_type": "markdown",
      "metadata": {
        "id": "k_MA0nCqmWk7"
      },
      "source": [
        ">2.9. Generate a table with the average sales by customer segment and by year (take the simple average over the number of items sold). Plot in a line chart the average sales by customer segement over time, with the years on x-axis, the average sales on the y-axis, and a line for each segment."
      ]
    },
    {
      "cell_type": "code",
      "metadata": {
        "id": "xti_5tRwgITF",
        "colab": {
          "base_uri": "https://localhost:8080/"
        },
        "outputId": "15b1d905-6d12-4aa8-dca7-39ffad82eae7"
      },
      "source": [
        "table = df.groupby([\"Segment\", \"Order Year\"], as_index=False)[\"Sales\"].mean()\n",
        "print(table)\n"
      ],
      "execution_count": null,
      "outputs": [
        {
          "output_type": "stream",
          "name": "stdout",
          "text": [
            "        Segment  Order Year       Sales\n",
            "0      Consumer        2015  251.633302\n",
            "1      Consumer        2016  238.200804\n",
            "2      Consumer        2017  223.269145\n",
            "3      Consumer        2018  200.469005\n",
            "4     Corporate        2015  212.641424\n",
            "5     Corporate        2016  189.902305\n",
            "6     Corporate        2017  263.348456\n",
            "7     Corporate        2018  243.634951\n",
            "8   Home Office        2015  290.234240\n",
            "9   Home Office        2016  222.101830\n",
            "10  Home Office        2017  226.382196\n",
            "11  Home Office        2018  242.532951\n"
          ]
        }
      ]
    },
    {
      "cell_type": "code",
      "metadata": {
        "colab": {
          "base_uri": "https://localhost:8080/",
          "height": 295
        },
        "id": "w_jXLihKOf8x",
        "outputId": "0f5e895d-3343-48fc-d26e-0f087abf9428"
      },
      "source": [
        "plt.plot(table[\"Order Year\"],table[\"Sales\"])\n",
        "plt.title('average sales by customer segment and by year')\n",
        "plt.xlabel('year')\n",
        "plt.ylabel('average sales')\n",
        "plt.show()\n",
        "# the plot is not optimal, I will review it later. I could answer the quiz question by just watching at the table"
      ],
      "execution_count": null,
      "outputs": [
        {
          "output_type": "display_data",
          "data": {
            "image/png": "[encoded data removed]",
            "text/plain": [
              "<Figure size 432x288 with 1 Axes>"
            ]
          },
          "metadata": {}
        }
      ]
    },
    {
      "cell_type": "markdown",
      "metadata": {
        "id": "HlMfHtssI7d8"
      },
      "source": [
        ">2.10. Using `folium`, plot on a map the location of a subset of customers defined below, using circle markers proportionate to the value of their aggregate purchases.\n",
        ">\n",
        "> Only include 2018 data for corporate customers with per item purchases above USD 100. \n",
        ">\n",
        ">A separate database with latitude and longitude measures for US zip codes is provided below. Merge the latitude and longitude with your transactions dataset. Make sure to drop any missing values before plotting your map."
      ]
    },
    {
      "cell_type": "code",
      "metadata": {
        "id": "jgl8TDOTNffd"
      },
      "source": [
        "# import required packages\n",
        "import folium"
      ],
      "execution_count": null,
      "outputs": []
    },
    {
      "cell_type": "code",
      "metadata": {
        "id": "zK_CETAiNmKD",
        "colab": {
          "base_uri": "https://localhost:8080/"
        },
        "outputId": "7942614b-2666-454a-bd79-ba3215cd931f"
      },
      "source": [
        "# import latitude and longitude data\n",
        "latlong=pd.read_csv('https://gist.githubusercontent.com/erichurst/7882666/raw/5bdc46db47d9515269ab12ed6fb2850377fd869e/US%2520Zip%2520Codes%2520from%25202013%2520Government%2520Data', \n",
        "                    dtype={'ZIP': 'str'})\n",
        "print(latlong)"
      ],
      "execution_count": null,
      "outputs": [
        {
          "output_type": "stream",
          "name": "stdout",
          "text": [
            "         ZIP        LAT         LNG\n",
            "0      00601  18.180555  -66.749961\n",
            "1      00602  18.361945  -67.175597\n",
            "2      00603  18.455183  -67.119887\n",
            "3      00606  18.158345  -66.932911\n",
            "4      00610  18.295366  -67.125135\n",
            "...      ...        ...         ...\n",
            "33139  99923  56.002315 -130.041026\n",
            "33140  99925  55.550204 -132.945933\n",
            "33141  99926  55.138352 -131.470424\n",
            "33142  99927  56.239062 -133.457924\n",
            "33143  99929  56.370751 -131.693301\n",
            "\n",
            "[33144 rows x 3 columns]\n"
          ]
        }
      ]
    },
    {
      "cell_type": "code",
      "metadata": {
        "id": "wckhNfH0QcC6",
        "colab": {
          "base_uri": "https://localhost:8080/",
          "height": 796
        },
        "outputId": "eda4c7be-913b-4a5e-df12-ddec5973c819"
      },
      "source": [
        "# YOUR CODE HERE FOR SELECTING THE SUBSET\n",
        "corp_cust_2018_more100 = df[(df[\"Order Year\"] == 2018) & (df[\"Segment\"] == \"Corporate\") & (df[\"Sales\"] > 100)]\n",
        "corp_cust_2018_more100"
      ],
      "execution_count": null,
      "outputs": [
        {
          "output_type": "execute_result",
          "data": {
            "text/html": [
              "<div>\n",
              "<style scoped>\n",
              "    .dataframe tbody tr th:only-of-type {\n",
              "        vertical-align: middle;\n",
              "    }\n",
              "\n",
              "    .dataframe tbody tr th {\n",
              "        vertical-align: top;\n",
              "    }\n",
              "\n",
              "    .dataframe thead th {\n",
              "        text-align: right;\n",
              "    }\n",
              "</style>\n",
              "<table border=\"1\" class=\"dataframe\">\n",
              "  <thead>\n",
              "    <tr style=\"text-align: right;\">\n",
              "      <th></th>\n",
              "      <th>Row ID</th>\n",
              "      <th>Order ID</th>\n",
              "      <th>Order Date</th>\n",
              "      <th>Ship Date</th>\n",
              "      <th>Ship Mode</th>\n",
              "      <th>Customer ID</th>\n",
              "      <th>Customer Name</th>\n",
              "      <th>Segment</th>\n",
              "      <th>Country</th>\n",
              "      <th>City</th>\n",
              "      <th>State</th>\n",
              "      <th>Postal Code</th>\n",
              "      <th>Region</th>\n",
              "      <th>Product ID</th>\n",
              "      <th>Category</th>\n",
              "      <th>Sub-Category</th>\n",
              "      <th>Product Name</th>\n",
              "      <th>Sales</th>\n",
              "      <th>Delivery Time</th>\n",
              "      <th>Order Year</th>\n",
              "    </tr>\n",
              "  </thead>\n",
              "  <tbody>\n",
              "    <tr>\n",
              "      <th>41</th>\n",
              "      <td>42</td>\n",
              "      <td>CA-2018-120999</td>\n",
              "      <td>2018-09-10</td>\n",
              "      <td>2018-09-15</td>\n",
              "      <td>Standard Class</td>\n",
              "      <td>LC-16930</td>\n",
              "      <td>Linda Cazamias</td>\n",
              "      <td>Corporate</td>\n",
              "      <td>United States</td>\n",
              "      <td>Naperville</td>\n",
              "      <td>Illinois</td>\n",
              "      <td>60540</td>\n",
              "      <td>Central</td>\n",
              "      <td>TEC-PH-10004093</td>\n",
              "      <td>Technology</td>\n",
              "      <td>Phones</td>\n",
              "      <td>Panasonic Kx-TS550</td>\n",
              "      <td>147.168</td>\n",
              "      <td>5</td>\n",
              "      <td>2018</td>\n",
              "    </tr>\n",
              "    <tr>\n",
              "      <th>143</th>\n",
              "      <td>144</td>\n",
              "      <td>CA-2018-106180</td>\n",
              "      <td>2018-09-18</td>\n",
              "      <td>2018-09-23</td>\n",
              "      <td>Standard Class</td>\n",
              "      <td>SH-19975</td>\n",
              "      <td>Sally Hughsby</td>\n",
              "      <td>Corporate</td>\n",
              "      <td>United States</td>\n",
              "      <td>San Francisco</td>\n",
              "      <td>California</td>\n",
              "      <td>94122</td>\n",
              "      <td>West</td>\n",
              "      <td>OFF-PA-10004327</td>\n",
              "      <td>Office Supplies</td>\n",
              "      <td>Paper</td>\n",
              "      <td>Xerox 1911</td>\n",
              "      <td>143.700</td>\n",
              "      <td>5</td>\n",
              "      <td>2018</td>\n",
              "    </tr>\n",
              "    <tr>\n",
              "      <th>270</th>\n",
              "      <td>271</td>\n",
              "      <td>CA-2018-163979</td>\n",
              "      <td>2018-12-28</td>\n",
              "      <td>2019-01-02</td>\n",
              "      <td>Second Class</td>\n",
              "      <td>KH-16690</td>\n",
              "      <td>Kristen Hastings</td>\n",
              "      <td>Corporate</td>\n",
              "      <td>United States</td>\n",
              "      <td>San Francisco</td>\n",
              "      <td>California</td>\n",
              "      <td>94110</td>\n",
              "      <td>West</td>\n",
              "      <td>OFF-ST-10003208</td>\n",
              "      <td>Office Supplies</td>\n",
              "      <td>Storage</td>\n",
              "      <td>Adjustable Depth Letter/Legal Cart</td>\n",
              "      <td>725.840</td>\n",
              "      <td>5</td>\n",
              "      <td>2018</td>\n",
              "    </tr>\n",
              "    <tr>\n",
              "      <th>359</th>\n",
              "      <td>360</td>\n",
              "      <td>CA-2018-155698</td>\n",
              "      <td>2018-03-08</td>\n",
              "      <td>2018-03-11</td>\n",
              "      <td>First Class</td>\n",
              "      <td>VB-21745</td>\n",
              "      <td>Victoria Brennan</td>\n",
              "      <td>Corporate</td>\n",
              "      <td>United States</td>\n",
              "      <td>Columbus</td>\n",
              "      <td>Georgia</td>\n",
              "      <td>31907</td>\n",
              "      <td>South</td>\n",
              "      <td>OFF-AP-10001124</td>\n",
              "      <td>Office Supplies</td>\n",
              "      <td>Appliances</td>\n",
              "      <td>Belkin 8 Outlet SurgeMaster II Gold Surge Prot...</td>\n",
              "      <td>647.840</td>\n",
              "      <td>3</td>\n",
              "      <td>2018</td>\n",
              "    </tr>\n",
              "    <tr>\n",
              "      <th>377</th>\n",
              "      <td>378</td>\n",
              "      <td>US-2018-134481</td>\n",
              "      <td>2018-08-27</td>\n",
              "      <td>2018-09-01</td>\n",
              "      <td>Standard Class</td>\n",
              "      <td>AR-10405</td>\n",
              "      <td>Allen Rosenblatt</td>\n",
              "      <td>Corporate</td>\n",
              "      <td>United States</td>\n",
              "      <td>Franklin</td>\n",
              "      <td>Massachusetts</td>\n",
              "      <td>2038</td>\n",
              "      <td>East</td>\n",
              "      <td>FUR-TA-10004915</td>\n",
              "      <td>Furniture</td>\n",
              "      <td>Tables</td>\n",
              "      <td>Office Impressions End Table, 20-1/2\"H x 24\"W ...</td>\n",
              "      <td>1488.424</td>\n",
              "      <td>5</td>\n",
              "      <td>2018</td>\n",
              "    </tr>\n",
              "    <tr>\n",
              "      <th>...</th>\n",
              "      <td>...</td>\n",
              "      <td>...</td>\n",
              "      <td>...</td>\n",
              "      <td>...</td>\n",
              "      <td>...</td>\n",
              "      <td>...</td>\n",
              "      <td>...</td>\n",
              "      <td>...</td>\n",
              "      <td>...</td>\n",
              "      <td>...</td>\n",
              "      <td>...</td>\n",
              "      <td>...</td>\n",
              "      <td>...</td>\n",
              "      <td>...</td>\n",
              "      <td>...</td>\n",
              "      <td>...</td>\n",
              "      <td>...</td>\n",
              "      <td>...</td>\n",
              "      <td>...</td>\n",
              "      <td>...</td>\n",
              "    </tr>\n",
              "    <tr>\n",
              "      <th>9606</th>\n",
              "      <td>9607</td>\n",
              "      <td>US-2018-122672</td>\n",
              "      <td>2018-11-04</td>\n",
              "      <td>2018-11-09</td>\n",
              "      <td>Standard Class</td>\n",
              "      <td>HG-14965</td>\n",
              "      <td>Henry Goldwyn</td>\n",
              "      <td>Corporate</td>\n",
              "      <td>United States</td>\n",
              "      <td>Lancaster</td>\n",
              "      <td>Ohio</td>\n",
              "      <td>43130</td>\n",
              "      <td>East</td>\n",
              "      <td>OFF-ST-10002344</td>\n",
              "      <td>Office Supplies</td>\n",
              "      <td>Storage</td>\n",
              "      <td>Carina 42\"Hx23 3/4\"W Media Storage Unit</td>\n",
              "      <td>194.352</td>\n",
              "      <td>5</td>\n",
              "      <td>2018</td>\n",
              "    </tr>\n",
              "    <tr>\n",
              "      <th>9617</th>\n",
              "      <td>9618</td>\n",
              "      <td>CA-2018-160633</td>\n",
              "      <td>2018-11-16</td>\n",
              "      <td>2018-11-21</td>\n",
              "      <td>Standard Class</td>\n",
              "      <td>BS-11380</td>\n",
              "      <td>Bill Stewart</td>\n",
              "      <td>Corporate</td>\n",
              "      <td>United States</td>\n",
              "      <td>Bowling Green</td>\n",
              "      <td>Ohio</td>\n",
              "      <td>43402</td>\n",
              "      <td>East</td>\n",
              "      <td>TEC-CO-10002095</td>\n",
              "      <td>Technology</td>\n",
              "      <td>Copiers</td>\n",
              "      <td>Hewlett Packard 610 Color Digital Copier / Pri...</td>\n",
              "      <td>899.982</td>\n",
              "      <td>5</td>\n",
              "      <td>2018</td>\n",
              "    </tr>\n",
              "    <tr>\n",
              "      <th>9619</th>\n",
              "      <td>9620</td>\n",
              "      <td>CA-2018-160633</td>\n",
              "      <td>2018-11-16</td>\n",
              "      <td>2018-11-21</td>\n",
              "      <td>Standard Class</td>\n",
              "      <td>BS-11380</td>\n",
              "      <td>Bill Stewart</td>\n",
              "      <td>Corporate</td>\n",
              "      <td>United States</td>\n",
              "      <td>Bowling Green</td>\n",
              "      <td>Ohio</td>\n",
              "      <td>43402</td>\n",
              "      <td>East</td>\n",
              "      <td>TEC-AC-10002335</td>\n",
              "      <td>Technology</td>\n",
              "      <td>Accessories</td>\n",
              "      <td>Logitech Media Keyboard K200</td>\n",
              "      <td>139.960</td>\n",
              "      <td>5</td>\n",
              "      <td>2018</td>\n",
              "    </tr>\n",
              "    <tr>\n",
              "      <th>9737</th>\n",
              "      <td>9738</td>\n",
              "      <td>CA-2018-129294</td>\n",
              "      <td>2018-03-16</td>\n",
              "      <td>2018-03-21</td>\n",
              "      <td>Standard Class</td>\n",
              "      <td>KD-16615</td>\n",
              "      <td>Ken Dana</td>\n",
              "      <td>Corporate</td>\n",
              "      <td>United States</td>\n",
              "      <td>Los Angeles</td>\n",
              "      <td>California</td>\n",
              "      <td>90032</td>\n",
              "      <td>West</td>\n",
              "      <td>OFF-ST-10002615</td>\n",
              "      <td>Office Supplies</td>\n",
              "      <td>Storage</td>\n",
              "      <td>Dual Level, Single-Width Filing Carts</td>\n",
              "      <td>310.120</td>\n",
              "      <td>5</td>\n",
              "      <td>2018</td>\n",
              "    </tr>\n",
              "    <tr>\n",
              "      <th>9740</th>\n",
              "      <td>9741</td>\n",
              "      <td>CA-2018-129294</td>\n",
              "      <td>2018-03-16</td>\n",
              "      <td>2018-03-21</td>\n",
              "      <td>Standard Class</td>\n",
              "      <td>KD-16615</td>\n",
              "      <td>Ken Dana</td>\n",
              "      <td>Corporate</td>\n",
              "      <td>United States</td>\n",
              "      <td>Los Angeles</td>\n",
              "      <td>California</td>\n",
              "      <td>90032</td>\n",
              "      <td>West</td>\n",
              "      <td>OFF-AP-10001154</td>\n",
              "      <td>Office Supplies</td>\n",
              "      <td>Appliances</td>\n",
              "      <td>Bionaire Personal Warm Mist Humidifier/Vaporizer</td>\n",
              "      <td>140.670</td>\n",
              "      <td>5</td>\n",
              "      <td>2018</td>\n",
              "    </tr>\n",
              "  </tbody>\n",
              "</table>\n",
              "<p>369 rows × 20 columns</p>\n",
              "</div>"
            ],
            "text/plain": [
              "      Row ID        Order ID Order Date  ...     Sales Delivery Time Order Year\n",
              "41        42  CA-2018-120999 2018-09-10  ...   147.168             5       2018\n",
              "143      144  CA-2018-106180 2018-09-18  ...   143.700             5       2018\n",
              "270      271  CA-2018-163979 2018-12-28  ...   725.840             5       2018\n",
              "359      360  CA-2018-155698 2018-03-08  ...   647.840             3       2018\n",
              "377      378  US-2018-134481 2018-08-27  ...  1488.424             5       2018\n",
              "...      ...             ...        ...  ...       ...           ...        ...\n",
              "9606    9607  US-2018-122672 2018-11-04  ...   194.352             5       2018\n",
              "9617    9618  CA-2018-160633 2018-11-16  ...   899.982             5       2018\n",
              "9619    9620  CA-2018-160633 2018-11-16  ...   139.960             5       2018\n",
              "9737    9738  CA-2018-129294 2018-03-16  ...   310.120             5       2018\n",
              "9740    9741  CA-2018-129294 2018-03-16  ...   140.670             5       2018\n",
              "\n",
              "[369 rows x 20 columns]"
            ]
          },
          "metadata": {},
          "execution_count": 2490
        }
      ]
    },
    {
      "cell_type": "code",
      "metadata": {
        "id": "k2xJfDJwOxTN",
        "colab": {
          "base_uri": "https://localhost:8080/",
          "height": 419
        },
        "outputId": "68ddbf1e-3dcf-4399-ded5-c8ee539637f8"
      },
      "source": [
        "# YOUR CODE HERE FOR MERGING THE SUBSET WITH THE LATITUDE AND LONGITUDE DATA\n",
        "latlong.rename(columns={'ZIP': 'Postal Code'}, inplace=True)\n",
        "latlong"
      ],
      "execution_count": null,
      "outputs": [
        {
          "output_type": "execute_result",
          "data": {
            "text/html": [
              "<div>\n",
              "<style scoped>\n",
              "    .dataframe tbody tr th:only-of-type {\n",
              "        vertical-align: middle;\n",
              "    }\n",
              "\n",
              "    .dataframe tbody tr th {\n",
              "        vertical-align: top;\n",
              "    }\n",
              "\n",
              "    .dataframe thead th {\n",
              "        text-align: right;\n",
              "    }\n",
              "</style>\n",
              "<table border=\"1\" class=\"dataframe\">\n",
              "  <thead>\n",
              "    <tr style=\"text-align: right;\">\n",
              "      <th></th>\n",
              "      <th>Postal Code</th>\n",
              "      <th>LAT</th>\n",
              "      <th>LNG</th>\n",
              "    </tr>\n",
              "  </thead>\n",
              "  <tbody>\n",
              "    <tr>\n",
              "      <th>0</th>\n",
              "      <td>00601</td>\n",
              "      <td>18.180555</td>\n",
              "      <td>-66.749961</td>\n",
              "    </tr>\n",
              "    <tr>\n",
              "      <th>1</th>\n",
              "      <td>00602</td>\n",
              "      <td>18.361945</td>\n",
              "      <td>-67.175597</td>\n",
              "    </tr>\n",
              "    <tr>\n",
              "      <th>2</th>\n",
              "      <td>00603</td>\n",
              "      <td>18.455183</td>\n",
              "      <td>-67.119887</td>\n",
              "    </tr>\n",
              "    <tr>\n",
              "      <th>3</th>\n",
              "      <td>00606</td>\n",
              "      <td>18.158345</td>\n",
              "      <td>-66.932911</td>\n",
              "    </tr>\n",
              "    <tr>\n",
              "      <th>4</th>\n",
              "      <td>00610</td>\n",
              "      <td>18.295366</td>\n",
              "      <td>-67.125135</td>\n",
              "    </tr>\n",
              "    <tr>\n",
              "      <th>...</th>\n",
              "      <td>...</td>\n",
              "      <td>...</td>\n",
              "      <td>...</td>\n",
              "    </tr>\n",
              "    <tr>\n",
              "      <th>33139</th>\n",
              "      <td>99923</td>\n",
              "      <td>56.002315</td>\n",
              "      <td>-130.041026</td>\n",
              "    </tr>\n",
              "    <tr>\n",
              "      <th>33140</th>\n",
              "      <td>99925</td>\n",
              "      <td>55.550204</td>\n",
              "      <td>-132.945933</td>\n",
              "    </tr>\n",
              "    <tr>\n",
              "      <th>33141</th>\n",
              "      <td>99926</td>\n",
              "      <td>55.138352</td>\n",
              "      <td>-131.470424</td>\n",
              "    </tr>\n",
              "    <tr>\n",
              "      <th>33142</th>\n",
              "      <td>99927</td>\n",
              "      <td>56.239062</td>\n",
              "      <td>-133.457924</td>\n",
              "    </tr>\n",
              "    <tr>\n",
              "      <th>33143</th>\n",
              "      <td>99929</td>\n",
              "      <td>56.370751</td>\n",
              "      <td>-131.693301</td>\n",
              "    </tr>\n",
              "  </tbody>\n",
              "</table>\n",
              "<p>33144 rows × 3 columns</p>\n",
              "</div>"
            ],
            "text/plain": [
              "      Postal Code        LAT         LNG\n",
              "0           00601  18.180555  -66.749961\n",
              "1           00602  18.361945  -67.175597\n",
              "2           00603  18.455183  -67.119887\n",
              "3           00606  18.158345  -66.932911\n",
              "4           00610  18.295366  -67.125135\n",
              "...           ...        ...         ...\n",
              "33139       99923  56.002315 -130.041026\n",
              "33140       99925  55.550204 -132.945933\n",
              "33141       99926  55.138352 -131.470424\n",
              "33142       99927  56.239062 -133.457924\n",
              "33143       99929  56.370751 -131.693301\n",
              "\n",
              "[33144 rows x 3 columns]"
            ]
          },
          "metadata": {},
          "execution_count": 2491
        }
      ]
    },
    {
      "cell_type": "code",
      "metadata": {
        "colab": {
          "base_uri": "https://localhost:8080/",
          "height": 915
        },
        "id": "d3pwBX-SX0sg",
        "outputId": "832c2571-774d-4980-e1a9-a119db85a01e"
      },
      "source": [
        "corp_cust_2018_more100_merged_inner = corp_cust_2018_more100.merge(latlong, how=\"inner\", on=\"Postal Code\")\n",
        "corp_cust_2018_more100_merged_inner"
      ],
      "execution_count": null,
      "outputs": [
        {
          "output_type": "execute_result",
          "data": {
            "text/html": [
              "<div>\n",
              "<style scoped>\n",
              "    .dataframe tbody tr th:only-of-type {\n",
              "        vertical-align: middle;\n",
              "    }\n",
              "\n",
              "    .dataframe tbody tr th {\n",
              "        vertical-align: top;\n",
              "    }\n",
              "\n",
              "    .dataframe thead th {\n",
              "        text-align: right;\n",
              "    }\n",
              "</style>\n",
              "<table border=\"1\" class=\"dataframe\">\n",
              "  <thead>\n",
              "    <tr style=\"text-align: right;\">\n",
              "      <th></th>\n",
              "      <th>Row ID</th>\n",
              "      <th>Order ID</th>\n",
              "      <th>Order Date</th>\n",
              "      <th>Ship Date</th>\n",
              "      <th>Ship Mode</th>\n",
              "      <th>Customer ID</th>\n",
              "      <th>Customer Name</th>\n",
              "      <th>Segment</th>\n",
              "      <th>Country</th>\n",
              "      <th>City</th>\n",
              "      <th>State</th>\n",
              "      <th>Postal Code</th>\n",
              "      <th>Region</th>\n",
              "      <th>Product ID</th>\n",
              "      <th>Category</th>\n",
              "      <th>Sub-Category</th>\n",
              "      <th>Product Name</th>\n",
              "      <th>Sales</th>\n",
              "      <th>Delivery Time</th>\n",
              "      <th>Order Year</th>\n",
              "      <th>LAT</th>\n",
              "      <th>LNG</th>\n",
              "    </tr>\n",
              "  </thead>\n",
              "  <tbody>\n",
              "    <tr>\n",
              "      <th>0</th>\n",
              "      <td>42</td>\n",
              "      <td>CA-2018-120999</td>\n",
              "      <td>2018-09-10</td>\n",
              "      <td>2018-09-15</td>\n",
              "      <td>Standard Class</td>\n",
              "      <td>LC-16930</td>\n",
              "      <td>Linda Cazamias</td>\n",
              "      <td>Corporate</td>\n",
              "      <td>United States</td>\n",
              "      <td>Naperville</td>\n",
              "      <td>Illinois</td>\n",
              "      <td>60540</td>\n",
              "      <td>Central</td>\n",
              "      <td>TEC-PH-10004093</td>\n",
              "      <td>Technology</td>\n",
              "      <td>Phones</td>\n",
              "      <td>Panasonic Kx-TS550</td>\n",
              "      <td>147.168</td>\n",
              "      <td>5</td>\n",
              "      <td>2018</td>\n",
              "      <td>41.764670</td>\n",
              "      <td>-88.145428</td>\n",
              "    </tr>\n",
              "    <tr>\n",
              "      <th>1</th>\n",
              "      <td>144</td>\n",
              "      <td>CA-2018-106180</td>\n",
              "      <td>2018-09-18</td>\n",
              "      <td>2018-09-23</td>\n",
              "      <td>Standard Class</td>\n",
              "      <td>SH-19975</td>\n",
              "      <td>Sally Hughsby</td>\n",
              "      <td>Corporate</td>\n",
              "      <td>United States</td>\n",
              "      <td>San Francisco</td>\n",
              "      <td>California</td>\n",
              "      <td>94122</td>\n",
              "      <td>West</td>\n",
              "      <td>OFF-PA-10004327</td>\n",
              "      <td>Office Supplies</td>\n",
              "      <td>Paper</td>\n",
              "      <td>Xerox 1911</td>\n",
              "      <td>143.700</td>\n",
              "      <td>5</td>\n",
              "      <td>2018</td>\n",
              "      <td>37.758797</td>\n",
              "      <td>-122.485128</td>\n",
              "    </tr>\n",
              "    <tr>\n",
              "      <th>2</th>\n",
              "      <td>1753</td>\n",
              "      <td>CA-2018-116715</td>\n",
              "      <td>2018-12-02</td>\n",
              "      <td>2018-12-05</td>\n",
              "      <td>First Class</td>\n",
              "      <td>VW-21775</td>\n",
              "      <td>Victoria Wilson</td>\n",
              "      <td>Corporate</td>\n",
              "      <td>United States</td>\n",
              "      <td>San Francisco</td>\n",
              "      <td>California</td>\n",
              "      <td>94122</td>\n",
              "      <td>West</td>\n",
              "      <td>OFF-ST-10004340</td>\n",
              "      <td>Office Supplies</td>\n",
              "      <td>Storage</td>\n",
              "      <td>Fellowes Mobile File Cart, Black</td>\n",
              "      <td>559.620</td>\n",
              "      <td>3</td>\n",
              "      <td>2018</td>\n",
              "      <td>37.758797</td>\n",
              "      <td>-122.485128</td>\n",
              "    </tr>\n",
              "    <tr>\n",
              "      <th>3</th>\n",
              "      <td>1754</td>\n",
              "      <td>CA-2018-116715</td>\n",
              "      <td>2018-12-02</td>\n",
              "      <td>2018-12-05</td>\n",
              "      <td>First Class</td>\n",
              "      <td>VW-21775</td>\n",
              "      <td>Victoria Wilson</td>\n",
              "      <td>Corporate</td>\n",
              "      <td>United States</td>\n",
              "      <td>San Francisco</td>\n",
              "      <td>California</td>\n",
              "      <td>94122</td>\n",
              "      <td>West</td>\n",
              "      <td>OFF-PA-10004475</td>\n",
              "      <td>Office Supplies</td>\n",
              "      <td>Paper</td>\n",
              "      <td>Xerox 1940</td>\n",
              "      <td>109.920</td>\n",
              "      <td>3</td>\n",
              "      <td>2018</td>\n",
              "      <td>37.758797</td>\n",
              "      <td>-122.485128</td>\n",
              "    </tr>\n",
              "    <tr>\n",
              "      <th>4</th>\n",
              "      <td>3299</td>\n",
              "      <td>CA-2018-136308</td>\n",
              "      <td>2018-11-16</td>\n",
              "      <td>2018-11-16</td>\n",
              "      <td>Same Day</td>\n",
              "      <td>MW-18235</td>\n",
              "      <td>Mitch Willingham</td>\n",
              "      <td>Corporate</td>\n",
              "      <td>United States</td>\n",
              "      <td>San Francisco</td>\n",
              "      <td>California</td>\n",
              "      <td>94122</td>\n",
              "      <td>West</td>\n",
              "      <td>TEC-MA-10000488</td>\n",
              "      <td>Technology</td>\n",
              "      <td>Machines</td>\n",
              "      <td>Bady BDG101FRU Card Printer</td>\n",
              "      <td>1919.976</td>\n",
              "      <td>0</td>\n",
              "      <td>2018</td>\n",
              "      <td>37.758797</td>\n",
              "      <td>-122.485128</td>\n",
              "    </tr>\n",
              "    <tr>\n",
              "      <th>...</th>\n",
              "      <td>...</td>\n",
              "      <td>...</td>\n",
              "      <td>...</td>\n",
              "      <td>...</td>\n",
              "      <td>...</td>\n",
              "      <td>...</td>\n",
              "      <td>...</td>\n",
              "      <td>...</td>\n",
              "      <td>...</td>\n",
              "      <td>...</td>\n",
              "      <td>...</td>\n",
              "      <td>...</td>\n",
              "      <td>...</td>\n",
              "      <td>...</td>\n",
              "      <td>...</td>\n",
              "      <td>...</td>\n",
              "      <td>...</td>\n",
              "      <td>...</td>\n",
              "      <td>...</td>\n",
              "      <td>...</td>\n",
              "      <td>...</td>\n",
              "      <td>...</td>\n",
              "    </tr>\n",
              "    <tr>\n",
              "      <th>346</th>\n",
              "      <td>9597</td>\n",
              "      <td>CA-2018-104619</td>\n",
              "      <td>2018-01-24</td>\n",
              "      <td>2018-01-29</td>\n",
              "      <td>Standard Class</td>\n",
              "      <td>KD-16495</td>\n",
              "      <td>Keith Dawkins</td>\n",
              "      <td>Corporate</td>\n",
              "      <td>United States</td>\n",
              "      <td>San Jose</td>\n",
              "      <td>California</td>\n",
              "      <td>95123</td>\n",
              "      <td>West</td>\n",
              "      <td>OFF-BI-10004318</td>\n",
              "      <td>Office Supplies</td>\n",
              "      <td>Binders</td>\n",
              "      <td>Ibico EB-19 Dual Function Manual Binding System</td>\n",
              "      <td>276.784</td>\n",
              "      <td>5</td>\n",
              "      <td>2018</td>\n",
              "      <td>37.244238</td>\n",
              "      <td>-121.831604</td>\n",
              "    </tr>\n",
              "    <tr>\n",
              "      <th>347</th>\n",
              "      <td>9598</td>\n",
              "      <td>CA-2018-104619</td>\n",
              "      <td>2018-01-24</td>\n",
              "      <td>2018-01-29</td>\n",
              "      <td>Standard Class</td>\n",
              "      <td>KD-16495</td>\n",
              "      <td>Keith Dawkins</td>\n",
              "      <td>Corporate</td>\n",
              "      <td>United States</td>\n",
              "      <td>San Jose</td>\n",
              "      <td>California</td>\n",
              "      <td>95123</td>\n",
              "      <td>West</td>\n",
              "      <td>TEC-PH-10000193</td>\n",
              "      <td>Technology</td>\n",
              "      <td>Phones</td>\n",
              "      <td>Jensen SMPS-640 - speaker phone</td>\n",
              "      <td>110.352</td>\n",
              "      <td>5</td>\n",
              "      <td>2018</td>\n",
              "      <td>37.244238</td>\n",
              "      <td>-121.831604</td>\n",
              "    </tr>\n",
              "    <tr>\n",
              "      <th>348</th>\n",
              "      <td>9607</td>\n",
              "      <td>US-2018-122672</td>\n",
              "      <td>2018-11-04</td>\n",
              "      <td>2018-11-09</td>\n",
              "      <td>Standard Class</td>\n",
              "      <td>HG-14965</td>\n",
              "      <td>Henry Goldwyn</td>\n",
              "      <td>Corporate</td>\n",
              "      <td>United States</td>\n",
              "      <td>Lancaster</td>\n",
              "      <td>Ohio</td>\n",
              "      <td>43130</td>\n",
              "      <td>East</td>\n",
              "      <td>OFF-ST-10002344</td>\n",
              "      <td>Office Supplies</td>\n",
              "      <td>Storage</td>\n",
              "      <td>Carina 42\"Hx23 3/4\"W Media Storage Unit</td>\n",
              "      <td>194.352</td>\n",
              "      <td>5</td>\n",
              "      <td>2018</td>\n",
              "      <td>39.696463</td>\n",
              "      <td>-82.614717</td>\n",
              "    </tr>\n",
              "    <tr>\n",
              "      <th>349</th>\n",
              "      <td>9618</td>\n",
              "      <td>CA-2018-160633</td>\n",
              "      <td>2018-11-16</td>\n",
              "      <td>2018-11-21</td>\n",
              "      <td>Standard Class</td>\n",
              "      <td>BS-11380</td>\n",
              "      <td>Bill Stewart</td>\n",
              "      <td>Corporate</td>\n",
              "      <td>United States</td>\n",
              "      <td>Bowling Green</td>\n",
              "      <td>Ohio</td>\n",
              "      <td>43402</td>\n",
              "      <td>East</td>\n",
              "      <td>TEC-CO-10002095</td>\n",
              "      <td>Technology</td>\n",
              "      <td>Copiers</td>\n",
              "      <td>Hewlett Packard 610 Color Digital Copier / Pri...</td>\n",
              "      <td>899.982</td>\n",
              "      <td>5</td>\n",
              "      <td>2018</td>\n",
              "      <td>41.418411</td>\n",
              "      <td>-83.656651</td>\n",
              "    </tr>\n",
              "    <tr>\n",
              "      <th>350</th>\n",
              "      <td>9620</td>\n",
              "      <td>CA-2018-160633</td>\n",
              "      <td>2018-11-16</td>\n",
              "      <td>2018-11-21</td>\n",
              "      <td>Standard Class</td>\n",
              "      <td>BS-11380</td>\n",
              "      <td>Bill Stewart</td>\n",
              "      <td>Corporate</td>\n",
              "      <td>United States</td>\n",
              "      <td>Bowling Green</td>\n",
              "      <td>Ohio</td>\n",
              "      <td>43402</td>\n",
              "      <td>East</td>\n",
              "      <td>TEC-AC-10002335</td>\n",
              "      <td>Technology</td>\n",
              "      <td>Accessories</td>\n",
              "      <td>Logitech Media Keyboard K200</td>\n",
              "      <td>139.960</td>\n",
              "      <td>5</td>\n",
              "      <td>2018</td>\n",
              "      <td>41.418411</td>\n",
              "      <td>-83.656651</td>\n",
              "    </tr>\n",
              "  </tbody>\n",
              "</table>\n",
              "<p>351 rows × 22 columns</p>\n",
              "</div>"
            ],
            "text/plain": [
              "     Row ID        Order ID Order Date  ... Order Year        LAT         LNG\n",
              "0        42  CA-2018-120999 2018-09-10  ...       2018  41.764670  -88.145428\n",
              "1       144  CA-2018-106180 2018-09-18  ...       2018  37.758797 -122.485128\n",
              "2      1753  CA-2018-116715 2018-12-02  ...       2018  37.758797 -122.485128\n",
              "3      1754  CA-2018-116715 2018-12-02  ...       2018  37.758797 -122.485128\n",
              "4      3299  CA-2018-136308 2018-11-16  ...       2018  37.758797 -122.485128\n",
              "..      ...             ...        ...  ...        ...        ...         ...\n",
              "346    9597  CA-2018-104619 2018-01-24  ...       2018  37.244238 -121.831604\n",
              "347    9598  CA-2018-104619 2018-01-24  ...       2018  37.244238 -121.831604\n",
              "348    9607  US-2018-122672 2018-11-04  ...       2018  39.696463  -82.614717\n",
              "349    9618  CA-2018-160633 2018-11-16  ...       2018  41.418411  -83.656651\n",
              "350    9620  CA-2018-160633 2018-11-16  ...       2018  41.418411  -83.656651\n",
              "\n",
              "[351 rows x 22 columns]"
            ]
          },
          "metadata": {},
          "execution_count": 2492
        }
      ]
    },
    {
      "cell_type": "code",
      "metadata": {
        "id": "iLie4FgVPrgu"
      },
      "source": [
        "# YOUR CODE HERE FOR GENERATING THE MAP\n",
        "# TO DO"
      ],
      "execution_count": null,
      "outputs": []
    },
    {
      "cell_type": "markdown",
      "metadata": {
        "id": "t-0sesaUf_RL"
      },
      "source": [
        "## 3. Regression Analysis"
      ]
    },
    {
      "cell_type": "markdown",
      "metadata": {
        "id": "FFibkCBasHtX"
      },
      "source": [
        "For this section please work on data aggregated by daily sales in USD. Here we are providing the dataframe for you. The regression dataset contains observations on sales aggregated by day, including:\n",
        "* the date of the orders\n",
        "* the number of orders received on that day\n",
        "* the number of items ordered on that day\n",
        "* the number of customer segments represented in the orders for that day\n",
        "* the number of product sub-categories included\n",
        "* the aggregated value of daily sales in USD\n",
        "* the year, the month, and the day of the transactions stored separately."
      ]
    },
    {
      "cell_type": "markdown",
      "metadata": {
        "id": "C7DWGp1QRJWF"
      },
      "source": [
        ">Load the data."
      ]
    },
    {
      "cell_type": "code",
      "metadata": {
        "id": "SJ6VGI7_B9dY",
        "colab": {
          "base_uri": "https://localhost:8080/",
          "height": 419
        },
        "outputId": "283617bf-909f-465d-8423-517d5e22f489"
      },
      "source": [
        "#Upload the data\n",
        "new_data=pd.read_csv('https://raw.githubusercontent.com/michalis0/DataMining_and_MachineLearning/master/data/regression_sales.csv')\n",
        "new_data"
      ],
      "execution_count": null,
      "outputs": [
        {
          "output_type": "execute_result",
          "data": {
            "text/html": [
              "<div>\n",
              "<style scoped>\n",
              "    .dataframe tbody tr th:only-of-type {\n",
              "        vertical-align: middle;\n",
              "    }\n",
              "\n",
              "    .dataframe tbody tr th {\n",
              "        vertical-align: top;\n",
              "    }\n",
              "\n",
              "    .dataframe thead th {\n",
              "        text-align: right;\n",
              "    }\n",
              "</style>\n",
              "<table border=\"1\" class=\"dataframe\">\n",
              "  <thead>\n",
              "    <tr style=\"text-align: right;\">\n",
              "      <th></th>\n",
              "      <th>Order Date</th>\n",
              "      <th>number_orders</th>\n",
              "      <th>number_items</th>\n",
              "      <th>number_segments</th>\n",
              "      <th>number_subcategory</th>\n",
              "      <th>sales_per_day</th>\n",
              "      <th>year</th>\n",
              "      <th>month</th>\n",
              "      <th>day</th>\n",
              "      <th>log_sales</th>\n",
              "    </tr>\n",
              "  </thead>\n",
              "  <tbody>\n",
              "    <tr>\n",
              "      <th>0</th>\n",
              "      <td>03/01/2015</td>\n",
              "      <td>1</td>\n",
              "      <td>1</td>\n",
              "      <td>1</td>\n",
              "      <td>1</td>\n",
              "      <td>16.4480</td>\n",
              "      <td>2015</td>\n",
              "      <td>1</td>\n",
              "      <td>3</td>\n",
              "      <td>2.800204</td>\n",
              "    </tr>\n",
              "    <tr>\n",
              "      <th>1</th>\n",
              "      <td>04/01/2015</td>\n",
              "      <td>1</td>\n",
              "      <td>3</td>\n",
              "      <td>1</td>\n",
              "      <td>3</td>\n",
              "      <td>288.0600</td>\n",
              "      <td>2015</td>\n",
              "      <td>1</td>\n",
              "      <td>4</td>\n",
              "      <td>5.663169</td>\n",
              "    </tr>\n",
              "    <tr>\n",
              "      <th>2</th>\n",
              "      <td>05/01/2015</td>\n",
              "      <td>1</td>\n",
              "      <td>1</td>\n",
              "      <td>1</td>\n",
              "      <td>1</td>\n",
              "      <td>19.5360</td>\n",
              "      <td>2015</td>\n",
              "      <td>1</td>\n",
              "      <td>5</td>\n",
              "      <td>2.972259</td>\n",
              "    </tr>\n",
              "    <tr>\n",
              "      <th>3</th>\n",
              "      <td>06/01/2015</td>\n",
              "      <td>3</td>\n",
              "      <td>9</td>\n",
              "      <td>3</td>\n",
              "      <td>6</td>\n",
              "      <td>4407.1000</td>\n",
              "      <td>2015</td>\n",
              "      <td>1</td>\n",
              "      <td>6</td>\n",
              "      <td>8.390972</td>\n",
              "    </tr>\n",
              "    <tr>\n",
              "      <th>4</th>\n",
              "      <td>07/01/2015</td>\n",
              "      <td>1</td>\n",
              "      <td>2</td>\n",
              "      <td>1</td>\n",
              "      <td>2</td>\n",
              "      <td>87.1580</td>\n",
              "      <td>2015</td>\n",
              "      <td>1</td>\n",
              "      <td>7</td>\n",
              "      <td>4.467723</td>\n",
              "    </tr>\n",
              "    <tr>\n",
              "      <th>...</th>\n",
              "      <td>...</td>\n",
              "      <td>...</td>\n",
              "      <td>...</td>\n",
              "      <td>...</td>\n",
              "      <td>...</td>\n",
              "      <td>...</td>\n",
              "      <td>...</td>\n",
              "      <td>...</td>\n",
              "      <td>...</td>\n",
              "      <td>...</td>\n",
              "    </tr>\n",
              "    <tr>\n",
              "      <th>1224</th>\n",
              "      <td>26/12/2018</td>\n",
              "      <td>4</td>\n",
              "      <td>4</td>\n",
              "      <td>3</td>\n",
              "      <td>3</td>\n",
              "      <td>814.5940</td>\n",
              "      <td>2018</td>\n",
              "      <td>12</td>\n",
              "      <td>26</td>\n",
              "      <td>6.702690</td>\n",
              "    </tr>\n",
              "    <tr>\n",
              "      <th>1225</th>\n",
              "      <td>27/12/2018</td>\n",
              "      <td>1</td>\n",
              "      <td>2</td>\n",
              "      <td>1</td>\n",
              "      <td>2</td>\n",
              "      <td>177.6360</td>\n",
              "      <td>2018</td>\n",
              "      <td>12</td>\n",
              "      <td>27</td>\n",
              "      <td>5.179737</td>\n",
              "    </tr>\n",
              "    <tr>\n",
              "      <th>1226</th>\n",
              "      <td>28/12/2018</td>\n",
              "      <td>10</td>\n",
              "      <td>19</td>\n",
              "      <td>3</td>\n",
              "      <td>10</td>\n",
              "      <td>1657.3508</td>\n",
              "      <td>2018</td>\n",
              "      <td>12</td>\n",
              "      <td>28</td>\n",
              "      <td>7.412976</td>\n",
              "    </tr>\n",
              "    <tr>\n",
              "      <th>1227</th>\n",
              "      <td>29/12/2018</td>\n",
              "      <td>6</td>\n",
              "      <td>12</td>\n",
              "      <td>2</td>\n",
              "      <td>7</td>\n",
              "      <td>2915.5340</td>\n",
              "      <td>2018</td>\n",
              "      <td>12</td>\n",
              "      <td>29</td>\n",
              "      <td>7.977808</td>\n",
              "    </tr>\n",
              "    <tr>\n",
              "      <th>1228</th>\n",
              "      <td>30/12/2018</td>\n",
              "      <td>4</td>\n",
              "      <td>7</td>\n",
              "      <td>3</td>\n",
              "      <td>5</td>\n",
              "      <td>713.7900</td>\n",
              "      <td>2018</td>\n",
              "      <td>12</td>\n",
              "      <td>30</td>\n",
              "      <td>6.570589</td>\n",
              "    </tr>\n",
              "  </tbody>\n",
              "</table>\n",
              "<p>1229 rows × 10 columns</p>\n",
              "</div>"
            ],
            "text/plain": [
              "      Order Date  number_orders  number_items  ...  month  day  log_sales\n",
              "0     03/01/2015              1             1  ...      1    3   2.800204\n",
              "1     04/01/2015              1             3  ...      1    4   5.663169\n",
              "2     05/01/2015              1             1  ...      1    5   2.972259\n",
              "3     06/01/2015              3             9  ...      1    6   8.390972\n",
              "4     07/01/2015              1             2  ...      1    7   4.467723\n",
              "...          ...            ...           ...  ...    ...  ...        ...\n",
              "1224  26/12/2018              4             4  ...     12   26   6.702690\n",
              "1225  27/12/2018              1             2  ...     12   27   5.179737\n",
              "1226  28/12/2018             10            19  ...     12   28   7.412976\n",
              "1227  29/12/2018              6            12  ...     12   29   7.977808\n",
              "1228  30/12/2018              4             7  ...     12   30   6.570589\n",
              "\n",
              "[1229 rows x 10 columns]"
            ]
          },
          "metadata": {},
          "execution_count": 2494
        }
      ]
    },
    {
      "cell_type": "markdown",
      "metadata": {
        "id": "Uo47uxUJS9S0"
      },
      "source": [
        ">3.1.1. Generate descriptive statistics"
      ]
    },
    {
      "cell_type": "code",
      "metadata": {
        "colab": {
          "base_uri": "https://localhost:8080/",
          "height": 297
        },
        "id": "o4zRt_7x4K9g",
        "outputId": "8b3dd451-52d2-4899-c47f-9fcf0c305659"
      },
      "source": [
        "new_data.describe()"
      ],
      "execution_count": null,
      "outputs": [
        {
          "output_type": "execute_result",
          "data": {
            "text/html": [
              "<div>\n",
              "<style scoped>\n",
              "    .dataframe tbody tr th:only-of-type {\n",
              "        vertical-align: middle;\n",
              "    }\n",
              "\n",
              "    .dataframe tbody tr th {\n",
              "        vertical-align: top;\n",
              "    }\n",
              "\n",
              "    .dataframe thead th {\n",
              "        text-align: right;\n",
              "    }\n",
              "</style>\n",
              "<table border=\"1\" class=\"dataframe\">\n",
              "  <thead>\n",
              "    <tr style=\"text-align: right;\">\n",
              "      <th></th>\n",
              "      <th>number_orders</th>\n",
              "      <th>number_items</th>\n",
              "      <th>number_segments</th>\n",
              "      <th>number_subcategory</th>\n",
              "      <th>sales_per_day</th>\n",
              "      <th>year</th>\n",
              "      <th>month</th>\n",
              "      <th>day</th>\n",
              "      <th>log_sales</th>\n",
              "    </tr>\n",
              "  </thead>\n",
              "  <tbody>\n",
              "    <tr>\n",
              "      <th>count</th>\n",
              "      <td>1229.000000</td>\n",
              "      <td>1229.000000</td>\n",
              "      <td>1229.000000</td>\n",
              "      <td>1229.000000</td>\n",
              "      <td>1229.000000</td>\n",
              "      <td>1229.000000</td>\n",
              "      <td>1229.000000</td>\n",
              "      <td>1229.000000</td>\n",
              "      <td>1229.000000</td>\n",
              "    </tr>\n",
              "    <tr>\n",
              "      <th>mean</th>\n",
              "      <td>4.000000</td>\n",
              "      <td>7.965012</td>\n",
              "      <td>2.004068</td>\n",
              "      <td>5.266884</td>\n",
              "      <td>1832.878285</td>\n",
              "      <td>2016.536208</td>\n",
              "      <td>6.787632</td>\n",
              "      <td>15.794142</td>\n",
              "      <td>6.714374</td>\n",
              "    </tr>\n",
              "    <tr>\n",
              "      <th>std</th>\n",
              "      <td>2.799197</td>\n",
              "      <td>6.152745</td>\n",
              "      <td>0.770475</td>\n",
              "      <td>3.016305</td>\n",
              "      <td>2283.923773</td>\n",
              "      <td>1.124801</td>\n",
              "      <td>3.410032</td>\n",
              "      <td>8.781964</td>\n",
              "      <td>1.525230</td>\n",
              "    </tr>\n",
              "    <tr>\n",
              "      <th>min</th>\n",
              "      <td>1.000000</td>\n",
              "      <td>1.000000</td>\n",
              "      <td>1.000000</td>\n",
              "      <td>1.000000</td>\n",
              "      <td>2.025000</td>\n",
              "      <td>2015.000000</td>\n",
              "      <td>1.000000</td>\n",
              "      <td>1.000000</td>\n",
              "      <td>0.705570</td>\n",
              "    </tr>\n",
              "    <tr>\n",
              "      <th>25%</th>\n",
              "      <td>2.000000</td>\n",
              "      <td>3.000000</td>\n",
              "      <td>1.000000</td>\n",
              "      <td>3.000000</td>\n",
              "      <td>377.736000</td>\n",
              "      <td>2016.000000</td>\n",
              "      <td>4.000000</td>\n",
              "      <td>8.000000</td>\n",
              "      <td>5.934196</td>\n",
              "    </tr>\n",
              "    <tr>\n",
              "      <th>50%</th>\n",
              "      <td>3.000000</td>\n",
              "      <td>6.000000</td>\n",
              "      <td>2.000000</td>\n",
              "      <td>5.000000</td>\n",
              "      <td>1053.614000</td>\n",
              "      <td>2017.000000</td>\n",
              "      <td>7.000000</td>\n",
              "      <td>16.000000</td>\n",
              "      <td>6.959981</td>\n",
              "    </tr>\n",
              "    <tr>\n",
              "      <th>75%</th>\n",
              "      <td>5.000000</td>\n",
              "      <td>11.000000</td>\n",
              "      <td>3.000000</td>\n",
              "      <td>7.000000</td>\n",
              "      <td>2379.994000</td>\n",
              "      <td>2018.000000</td>\n",
              "      <td>10.000000</td>\n",
              "      <td>23.000000</td>\n",
              "      <td>7.774853</td>\n",
              "    </tr>\n",
              "    <tr>\n",
              "      <th>max</th>\n",
              "      <td>19.000000</td>\n",
              "      <td>38.000000</td>\n",
              "      <td>3.000000</td>\n",
              "      <td>14.000000</td>\n",
              "      <td>28106.716000</td>\n",
              "      <td>2018.000000</td>\n",
              "      <td>12.000000</td>\n",
              "      <td>31.000000</td>\n",
              "      <td>10.243764</td>\n",
              "    </tr>\n",
              "  </tbody>\n",
              "</table>\n",
              "</div>"
            ],
            "text/plain": [
              "       number_orders  number_items  ...          day    log_sales\n",
              "count    1229.000000   1229.000000  ...  1229.000000  1229.000000\n",
              "mean        4.000000      7.965012  ...    15.794142     6.714374\n",
              "std         2.799197      6.152745  ...     8.781964     1.525230\n",
              "min         1.000000      1.000000  ...     1.000000     0.705570\n",
              "25%         2.000000      3.000000  ...     8.000000     5.934196\n",
              "50%         3.000000      6.000000  ...    16.000000     6.959981\n",
              "75%         5.000000     11.000000  ...    23.000000     7.774853\n",
              "max        19.000000     38.000000  ...    31.000000    10.243764\n",
              "\n",
              "[8 rows x 9 columns]"
            ]
          },
          "metadata": {},
          "execution_count": 2495
        }
      ]
    },
    {
      "cell_type": "markdown",
      "metadata": {
        "id": "UH-b8Rg8lcqA"
      },
      "source": [
        ">3.1.2. Plot the distribution of sales per day, using bins=50. Then create a new column equal to the natural logarithm of sales per day and plot its histogram as well."
      ]
    },
    {
      "cell_type": "code",
      "metadata": {
        "id": "0DNwPUQKlAxv",
        "colab": {
          "base_uri": "https://localhost:8080/",
          "height": 282
        },
        "outputId": "5334af9e-4148-492f-bf2f-451f0d450f2a"
      },
      "source": [
        "new_data[\"sales_per_day\"].hist(bins=50)"
      ],
      "execution_count": null,
      "outputs": [
        {
          "output_type": "execute_result",
          "data": {
            "text/plain": [
              "<matplotlib.axes._subplots.AxesSubplot at 0x7f680d1335d0>"
            ]
          },
          "metadata": {},
          "execution_count": 2496
        },
        {
          "output_type": "display_data",
          "data": {
            "image/png": "[encoded data removed]",
            "text/plain": [
              "<Figure size 432x288 with 1 Axes>"
            ]
          },
          "metadata": {}
        }
      ]
    },
    {
      "cell_type": "markdown",
      "metadata": {
        "id": "rxaRIn6dPaJB"
      },
      "source": [
        ">3.1.3. Create a pairplot with the log of sales per day on the horizontal axis and on the vertical axis the number of items ordered and number of orders."
      ]
    },
    {
      "cell_type": "code",
      "metadata": {
        "id": "DRlpC5RKjhWD"
      },
      "source": [
        "#import seaborn\n",
        "#seaborn.pairplot(data=\"new_data\", x_vars=[\"log_sales\"], y_vars=[\"number_items\", \"number_orders\"])"
      ],
      "execution_count": null,
      "outputs": []
    },
    {
      "cell_type": "markdown",
      "metadata": {
        "id": "82bShao5Fznv"
      },
      "source": [
        "## Simple Linear Regression"
      ]
    },
    {
      "cell_type": "markdown",
      "metadata": {
        "id": "9ggDe8YUV2Q1"
      },
      "source": [
        ">3.2 Regress log of sales on number of orders, number of items, number of segments, year, month and day.\n",
        ">\n",
        ">3.2.1. Select the dependent (y) and the independent variables (X)."
      ]
    },
    {
      "cell_type": "code",
      "metadata": {
        "id": "raGHDpTGABHR",
        "colab": {
          "base_uri": "https://localhost:8080/"
        },
        "outputId": "8f30bf9b-5f69-4947-ff04-c61508226855"
      },
      "source": [
        "#from sklearn.preprocessing import PolynomialFeatures\n",
        "y = np.array(new_data[\"log_sales\"])\n",
        "X = np.array(new_data[[\"number_orders\", \"number_items\",\"number_segments\", \"year\", \"month\", \"day\"]])\n",
        "X.shape, y.shape"
      ],
      "execution_count": null,
      "outputs": [
        {
          "output_type": "execute_result",
          "data": {
            "text/plain": [
              "((1229, 6), (1229,))"
            ]
          },
          "metadata": {},
          "execution_count": 2498
        }
      ]
    },
    {
      "cell_type": "markdown",
      "metadata": {
        "id": "G6539viLWhTb"
      },
      "source": [
        ">3.2.2 Split your dataset into a training set (80%) and a test set (20%). Use sklearn.model_selection.train_test_split() and set the **random_state to 77.**"
      ]
    },
    {
      "cell_type": "code",
      "metadata": {
        "id": "GjpqtBa_CFmo"
      },
      "source": [
        "from sklearn.model_selection import train_test_split\n",
        "X_train, X_test, y_train, y_test = train_test_split(X, y, test_size=0.2, random_state=77)"
      ],
      "execution_count": null,
      "outputs": []
    },
    {
      "cell_type": "markdown",
      "metadata": {
        "id": "I7bUXy-BWzsZ"
      },
      "source": [
        ">3.2.3 Train a linear regression model on the training data. What is the R^2 score for the test data?"
      ]
    },
    {
      "cell_type": "code",
      "metadata": {
        "id": "RqdPe2awCJ1r",
        "colab": {
          "base_uri": "https://localhost:8080/"
        },
        "outputId": "960bd22f-f362-4329-b5c8-ccdd24cf1732"
      },
      "source": [
        "from sklearn.linear_model import LinearRegression\n",
        "LR = LinearRegression(fit_intercept=True)\n",
        "LR.fit(X_train, y_train)\n",
        "print(\"params: \", LR.coef_)\n",
        "print(\"constant: \", LR.intercept_)\n",
        "print(\"R^2 score: \", LR.score(X_test, y_test))\n"
      ],
      "execution_count": null,
      "outputs": [
        {
          "output_type": "stream",
          "name": "stdout",
          "text": [
            "params:  [-8.50696759e-02  1.69065368e-01  4.93390631e-01  2.61469395e-03\n",
            " -5.27419820e-03 -1.70831086e-04]\n",
            "constant:  -0.5142540595093843\n",
            "R^2 score:  0.5112023472456444\n"
          ]
        }
      ]
    },
    {
      "cell_type": "markdown",
      "metadata": {
        "id": "OMwWUxiQXMg1"
      },
      "source": [
        ">3.2.4. Predict what would be the total value of sales in USD on 15 January 2019 assuming there were 3 orders received on that day, including 9 items, from 3 segments."
      ]
    },
    {
      "cell_type": "code",
      "metadata": {
        "id": "kAJcWSR7rSpG",
        "colab": {
          "base_uri": "https://localhost:8080/"
        },
        "outputId": "0eca8c43-2a8e-4f57-c1d9-252750041d91"
      },
      "source": [
        "print(\"number_orders: \", 3, \"number_items: \", 9, \"number_segments: \", 3, \"year: \", 2019, \"month: \", 1, \"day: \", 15, \"Sales: \", np.exp(LR.predict(np.array([3, 9, 3, 2019, 1, 15]).reshape(-1,6))))\n"
      ],
      "execution_count": null,
      "outputs": [
        {
          "output_type": "stream",
          "name": "stdout",
          "text": [
            "number_orders:  3 number_items:  9 number_segments:  3 year:  2019 month:  1 day:  15 Sales:  [1814.4316237]\n"
          ]
        }
      ]
    },
    {
      "cell_type": "markdown",
      "metadata": {
        "id": "LxDaG_fkgi27"
      },
      "source": [
        "## Linear Regression with Standardization"
      ]
    },
    {
      "cell_type": "markdown",
      "metadata": {
        "id": "NHdx7ZB-k1zg"
      },
      "source": [
        "> 3.2.5. Apply a standard scaler to the following columns: number_orders, number_items, number_segments. \n",
        "> \n",
        "> Hint: use the scaler on the already split data. Fit-transform the scaler on X_train and apply transform on X_test."
      ]
    },
    {
      "cell_type": "code",
      "metadata": {
        "id": "0oOsS4aXlKlJ",
        "colab": {
          "base_uri": "https://localhost:8080/"
        },
        "outputId": "6161641a-9330-412d-ba9f-e3406b4ca000"
      },
      "source": [
        "from sklearn.preprocessing import StandardScaler\n",
        "scaler = StandardScaler()\n",
        "scaled_X_train = np.concatenate([scaler.fit_transform(X_train[:, :3]), X_train[:, 3:]], axis=1)\n",
        "scaled_X_test = np.concatenate([scaler.transform(X_test[:, :3]), X_test[:, 3:]], axis=1)\n",
        "print(X_train)\n",
        "print(scaled_X_train)\n",
        "print(X_test)\n",
        "print(scaled_X_test)"
      ],
      "execution_count": null,
      "outputs": [
        {
          "output_type": "stream",
          "name": "stdout",
          "text": [
            "[[   9   19    3 2017   11    5]\n",
            " [   1    2    1 2017    1    2]\n",
            " [   1    2    1 2016    5   20]\n",
            " ...\n",
            " [   3    7    3 2015   10   19]\n",
            " [   2    6    1 2017    1   25]\n",
            " [   1    1    1 2017    6   15]]\n",
            "[[ 1.86272506e+00  1.85630174e+00  1.28837225e+00  2.01700000e+03\n",
            "   1.10000000e+01  5.00000000e+00]\n",
            " [-1.09059548e+00 -9.76635098e-01 -1.29099623e+00  2.01700000e+03\n",
            "   1.00000000e+00  2.00000000e+00]\n",
            " [-1.09059548e+00 -9.76635098e-01 -1.29099623e+00  2.01600000e+03\n",
            "   5.00000000e+00  2.00000000e+01]\n",
            " ...\n",
            " [-3.52265345e-01 -1.43418381e-01  1.28837225e+00  2.01500000e+03\n",
            "   1.00000000e+01  1.90000000e+01]\n",
            " [-7.21430413e-01 -3.10061725e-01 -1.29099623e+00  2.01700000e+03\n",
            "   1.00000000e+00  2.50000000e+01]\n",
            " [-1.09059548e+00 -1.14327844e+00 -1.29099623e+00  2.01700000e+03\n",
            "   6.00000000e+00  1.50000000e+01]]\n",
            "[[   5   13    3 2015   10    3]\n",
            " [  16   23    3 2018   11    3]\n",
            " [   3    9    2 2018    3    5]\n",
            " ...\n",
            " [   3    3    2 2018    4   22]\n",
            " [   3    5    3 2018    6   27]\n",
            " [   1    2    1 2018    7    2]]\n",
            "[[ 3.86064792e-01  8.56441680e-01  1.28837225e+00  2.01500000e+03\n",
            "   1.00000000e+01  3.00000000e+00]\n",
            " [ 4.44688054e+00  2.52287511e+00  1.28837225e+00  2.01800000e+03\n",
            "   1.10000000e+01  3.00000000e+00]\n",
            " [-3.52265345e-01  1.89868306e-01 -1.31198804e-03  2.01800000e+03\n",
            "   3.00000000e+00  5.00000000e+00]\n",
            " ...\n",
            " [-3.52265345e-01 -8.09991755e-01 -1.31198804e-03  2.01800000e+03\n",
            "   4.00000000e+00  2.20000000e+01]\n",
            " [-3.52265345e-01 -4.76705068e-01  1.28837225e+00  2.01800000e+03\n",
            "   6.00000000e+00  2.70000000e+01]\n",
            " [-1.09059548e+00 -9.76635098e-01 -1.29099623e+00  2.01800000e+03\n",
            "   7.00000000e+00  2.00000000e+00]]\n"
          ]
        }
      ]
    },
    {
      "cell_type": "markdown",
      "metadata": {
        "id": "FP_JknHfm8Q1"
      },
      "source": [
        "> 3.2.6. Train a linear regression model with the standardised data. What is the R^2 score for the test data?"
      ]
    },
    {
      "cell_type": "code",
      "metadata": {
        "id": "YTuVpyJ3mz9l",
        "colab": {
          "base_uri": "https://localhost:8080/"
        },
        "outputId": "3a66193c-c471-4cd4-edf3-bf884297cdcd"
      },
      "source": [
        "LR = LinearRegression(fit_intercept=True)\n",
        "LR.fit(scaled_X_train, y_train)\n",
        "print(\"params: \", LR.coef_)\n",
        "print(\"constant: \", LR.intercept_)\n",
        "print(\"R^2 score: \", LR.score(scaled_X_test, y_test))\n",
        "# Checking the most signifiant coefficient. To do so, I take the absolute value of each coeff. and then take the maximum\n",
        "print(max(abs(LR.coef_)))"
      ],
      "execution_count": null,
      "outputs": [
        {
          "output_type": "stream",
          "name": "stdout",
          "text": [
            "params:  [-2.30438043e-01  1.01453418e+00  3.82567001e-01  2.61469395e-03\n",
            " -5.27419820e-03 -1.70831086e-04]\n",
            "constant:  1.465605187525127\n",
            "R^2 score:  0.5112023472456444\n",
            "1.0145341814516828\n"
          ]
        }
      ]
    },
    {
      "cell_type": "markdown",
      "metadata": {
        "id": "9cOdC3MSVo8A"
      },
      "source": [
        "The highest coefficient is the one corresponding to 'number_items'"
      ]
    },
    {
      "cell_type": "markdown",
      "metadata": {
        "id": "DLMX97zuoDUI"
      },
      "source": [
        "> 3.2.7. Predict what would be the total number of sales in USD on 15 January 2019 assuming 3 orders received on that day, including 9 items, from 3 segments"
      ]
    },
    {
      "cell_type": "code",
      "metadata": {
        "id": "GqBE6AAIoCht",
        "colab": {
          "base_uri": "https://localhost:8080/"
        },
        "outputId": "fa96b0a2-6370-4c39-d331-573652433aa6"
      },
      "source": [
        "X_test = np.array([3, 9, 3, 2019, 1, 15]).reshape(-1, 6)\n",
        "X_test = np.concatenate([scaler.transform(X_test[:, :3]), X_test[:, 3:]], axis=1)\n",
        "print(\"number_orders: \", 3, \"number_items: \", 9, \"number_segments: \", 3, \"year: \", 2019, \"month: \", 1, \"day: \", 15, \"Sales: \", np.exp(LR.predict(X_test)))\n",
        "\n"
      ],
      "execution_count": null,
      "outputs": [
        {
          "output_type": "stream",
          "name": "stdout",
          "text": [
            "number_orders:  3 number_items:  9 number_segments:  3 year:  2019 month:  1 day:  15 Sales:  [1814.4316237]\n"
          ]
        }
      ]
    },
    {
      "cell_type": "markdown",
      "metadata": {
        "id": "_-A89FoxGLs7"
      },
      "source": [
        ">3.2.8. Looking at the coefficients from the linear regression with standardization, identify which variable is the most significant in this model. "
      ]
    },
    {
      "cell_type": "code",
      "metadata": {
        "id": "CZDd1zbMHT2d"
      },
      "source": [
        "# It is the coefficient with biggest absolute value, i.e. 'number_items'"
      ],
      "execution_count": null,
      "outputs": []
    },
    {
      "cell_type": "markdown",
      "metadata": {
        "id": "W3wd9q3MU6Vw"
      },
      "source": [
        "> 3.2.9. Calculate the adjusted R-squared and identify the optimum regression coefficients using linear regression with standardisation. \n",
        ">\n",
        "> Hint: calculate the adjusted R-squared for the full model with linear regression and standardisation (as above). The try dropping either one of the columns: 'number_orders', 'number_items', 'number_segments' and recalculate adjusted R-squared for every new model. Identify which combination of features gives the highest adjusted R-squared. \n",
        ">\n",
        ">Check out this documentation file on the [adjusted R-squared](https://www.statology.org/adjusted-r-squared-in-python/)."
      ]
    },
    {
      "cell_type": "markdown",
      "metadata": {
        "id": "EXV4bXP2bw9d"
      },
      "source": [
        "Train the model when you drop `number_segments` and calculate the adjusted R-squared."
      ]
    },
    {
      "cell_type": "code",
      "metadata": {
        "id": "VqvTgUV3a5_7",
        "colab": {
          "base_uri": "https://localhost:8080/"
        },
        "outputId": "83ce16a7-a79d-491f-9dc2-5848ab549239"
      },
      "source": [
        "# drop 'number_segments'\n",
        "y = np.array(new_data[\"log_sales\"])\n",
        "X = np.array(new_data[[\"number_orders\",\"number_items\", \"year\", \"month\", \"day\"]])\n",
        "X_train, X_test, y_train, y_test = train_test_split(X, y, test_size=0.2, random_state=77)\n",
        "scaler = StandardScaler()\n",
        "scaled_X_train = np.concatenate([scaler.fit_transform(X_train[:, :3]), X_train[:, 3:]], axis=1)\n",
        "scaled_X_test = np.concatenate([scaler.transform(X_test[:, :3]), X_test[:, 3:]], axis=1)\n",
        "LR = LinearRegression(fit_intercept=True)\n",
        "LR.fit(scaled_X_train, y_train)\n",
        "print(\"without 'number_segments'\")\n",
        "print(\"params: \", LR.coef_)\n",
        "print(\"constant: \", LR.intercept_)\n",
        "print(\"R^2 score: \", LR.score(scaled_X_test, y_test))\n"
      ],
      "execution_count": null,
      "outputs": [
        {
          "output_type": "stream",
          "name": "stdout",
          "text": [
            "without 'number_segments'\n",
            "params:  [ 3.66381791e-02  1.01189143e+00  2.02773629e-02 -2.41619242e-03\n",
            " -7.41734301e-04]\n",
            "constant:  6.728109558802486\n",
            "R^2 score:  0.46814236692923994\n"
          ]
        }
      ]
    },
    {
      "cell_type": "markdown",
      "metadata": {
        "id": "sGiJQYFGiDiH"
      },
      "source": [
        "R-squared where 'number_segments' is dropped = 0.4681"
      ]
    },
    {
      "cell_type": "markdown",
      "metadata": {
        "id": "GV5vh6Leb655"
      },
      "source": [
        "Train the model when you drop `number_items` and calculate the adjusted R-squared."
      ]
    },
    {
      "cell_type": "code",
      "metadata": {
        "id": "cGRbZ-EJcBBv",
        "colab": {
          "base_uri": "https://localhost:8080/"
        },
        "outputId": "17f4a327-3d5b-4afc-c493-9c9ce2e0d7e0"
      },
      "source": [
        "# drop 'number_items'\n",
        "y = np.array(new_data[\"log_sales\"])\n",
        "X = np.array(new_data[[\"number_orders\",\"number_segments\", \"year\", \"month\", \"day\"]])\n",
        "X_train, X_test, y_train, y_test = train_test_split(X, y, test_size=0.2, random_state=77)\n",
        "scaler = StandardScaler()\n",
        "scaled_X_train = np.concatenate([scaler.fit_transform(X_train[:, :3]), X_train[:, 3:]], axis=1)\n",
        "scaled_X_test = np.concatenate([scaler.transform(X_test[:, :3]), X_test[:, 3:]], axis=1)\n",
        "LR = LinearRegression(fit_intercept=True)\n",
        "LR.fit(scaled_X_train, y_train)\n",
        "print(\"without 'number_items'\")\n",
        "print(\"params: \", LR.coef_)\n",
        "print(\"constant: \", LR.intercept_)\n",
        "print(\"R^2 score: \", LR.score(scaled_X_test, y_test))"
      ],
      "execution_count": null,
      "outputs": [
        {
          "output_type": "stream",
          "name": "stdout",
          "text": [
            "without 'number_items'\n",
            "params:  [ 0.67898571  0.37965762 -0.01499908 -0.00352005 -0.00290206]\n",
            "constant:  6.770005504692045\n",
            "R^2 score:  0.44289024037307934\n"
          ]
        }
      ]
    },
    {
      "cell_type": "markdown",
      "metadata": {
        "id": "f7UHIOLxiNoh"
      },
      "source": [
        "R-squared where 'number_items' is dropped = 0.4429"
      ]
    },
    {
      "cell_type": "markdown",
      "metadata": {
        "id": "8KautFYzcUN4"
      },
      "source": [
        "Train the model when you drop `number_orders` and calculate the adjusted R-squared."
      ]
    },
    {
      "cell_type": "code",
      "metadata": {
        "id": "t2pDrzyLcaq9",
        "colab": {
          "base_uri": "https://localhost:8080/"
        },
        "outputId": "6c4c41c2-e631-4adb-dd90-151593670a10"
      },
      "source": [
        "# drop 'number_orders'\n",
        "y = np.array(new_data[\"log_sales\"])\n",
        "X = np.array(new_data[[\"number_items\",\"number_segments\", \"year\", \"month\", \"day\"]])\n",
        "X_train, X_test, y_train, y_test = train_test_split(X, y, test_size=0.2, random_state=77)\n",
        "scaler = StandardScaler()\n",
        "scaled_X_train = np.concatenate([scaler.fit_transform(X_train[:, :3]), X_train[:, 3:]], axis=1)\n",
        "scaled_X_test = np.concatenate([scaler.transform(X_test[:, :3]), X_test[:, 3:]], axis=1)\n",
        "LR = LinearRegression(fit_intercept=True)\n",
        "LR.fit(scaled_X_train, y_train)\n",
        "print(\"without 'number_orders'\")\n",
        "print(\"params: \", LR.coef_)\n",
        "print(\"constant: \", LR.intercept_)\n",
        "print(\"R^2 score: \", LR.score(scaled_X_test, y_test))\n"
      ],
      "execution_count": null,
      "outputs": [
        {
          "output_type": "stream",
          "name": "stdout",
          "text": [
            "without 'number_orders'\n",
            "params:  [ 8.52980233e-01  3.30335835e-01 -1.07764154e-02 -1.11631483e-02\n",
            " -5.81992642e-04]\n",
            "constant:  6.784539419906433\n",
            "R^2 score:  0.5093812354361285\n"
          ]
        }
      ]
    },
    {
      "cell_type": "markdown",
      "metadata": {
        "id": "ppRrqZcPiT3Q"
      },
      "source": [
        "R-squared where 'number_orders' is dropped = 0.5094"
      ]
    }
  ]
}