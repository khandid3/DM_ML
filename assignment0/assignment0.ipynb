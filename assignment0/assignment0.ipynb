{
  "nbformat": 4,
  "nbformat_minor": 0,
  "metadata": {
    "colab": {
      "name": "assignment0.ipynb",
      "provenance": [],
      "collapsed_sections": [
        "RHyekhXLw3Zy",
        "7BYL1lb0xUYZ",
        "qAH1TyR6xnRg",
        "XxXq_rvpx4Gs"
      ],
      "authorship_tag": "ABX9TyO5I6HWoO7eBCsxzFNzdRhC",
      "include_colab_link": true
    },
    "kernelspec": {
      "name": "python3",
      "display_name": "Python 3"
    },
    "language_info": {
      "name": "python"
    }
  },
  "cells": [
    {
      "cell_type": "markdown",
      "metadata": {
        "id": "view-in-github",
        "colab_type": "text"
      },
      "source": [
        "<a href=\"https://colab.research.google.com/github/khandid3/DM_ML/blob/main/assignment0.ipynb\" target=\"_parent\"><img src=\"https://colab.research.google.com/assets/colab-badge.svg\" alt=\"Open In Colab\"/></a>"
      ]
    },
    {
      "cell_type": "markdown",
      "metadata": {
        "id": "w-OBkewt2kFs"
      },
      "source": [
        "**RAFAEL DOMINGUEZ**\n",
        "**16422545**"
      ]
    },
    {
      "cell_type": "markdown",
      "metadata": {
        "id": "RHyekhXLw3Zy"
      },
      "source": [
        " # Presentation"
      ]
    },
    {
      "cell_type": "markdown",
      "metadata": {
        "id": "KCk__3tsyo9I"
      },
      "source": [
        "<img src = 'https://static.dw.com/image/17853645_304.jpg' width='1000'>"
      ]
    },
    {
      "cell_type": "markdown",
      "metadata": {
        "id": "Yc0BCd0TjMhq"
      },
      "source": [
        "Dear classmates,\n",
        "\n",
        "Welcome to my first Notebook for this class.\n",
        "\n",
        "The data set concerns the highest earning players in eSports.\n",
        "The data comes from [eSportsEarning](https://eSportsEarning.com). It is from 2020.\n",
        "\n",
        "You can access [the data set](https://raw.githubusercontent.com/khandid3/DM_ML/main/assignment0/data/highest_earning_players.csv) on my github [repo](https://github.com/khandid3/DM_ML/tree/main/assignment0) concerning this assignment (0).\n",
        "\n",
        "\n",
        "\n",
        "---\n",
        "\n",
        "\n",
        "\n",
        "Let read the data set"
      ]
    },
    {
      "cell_type": "code",
      "metadata": {
        "id": "mGdN0sEQkdBd"
      },
      "source": [
        "import pandas as pd"
      ],
      "execution_count": null,
      "outputs": []
    },
    {
      "cell_type": "code",
      "metadata": {
        "colab": {
          "base_uri": "https://localhost:8080/",
          "height": 206
        },
        "id": "HMbUanyAlL-u",
        "outputId": "cc8c84d6-cc30-4b23-d72e-d4677615c2ad"
      },
      "source": [
        "data = pd.read_csv('https://raw.githubusercontent.com/khandid3/DM_ML/main/assignment0/data/highest_earning_players.csv')\n",
        "data.head()"
      ],
      "execution_count": null,
      "outputs": [
        {
          "output_type": "execute_result",
          "data": {
            "text/html": [
              "<div>\n",
              "<style scoped>\n",
              "    .dataframe tbody tr th:only-of-type {\n",
              "        vertical-align: middle;\n",
              "    }\n",
              "\n",
              "    .dataframe tbody tr th {\n",
              "        vertical-align: top;\n",
              "    }\n",
              "\n",
              "    .dataframe thead th {\n",
              "        text-align: right;\n",
              "    }\n",
              "</style>\n",
              "<table border=\"1\" class=\"dataframe\">\n",
              "  <thead>\n",
              "    <tr style=\"text-align: right;\">\n",
              "      <th></th>\n",
              "      <th>PlayerId</th>\n",
              "      <th>NameFirst</th>\n",
              "      <th>NameLast</th>\n",
              "      <th>CurrentHandle</th>\n",
              "      <th>CountryCode</th>\n",
              "      <th>TotalUSDPrize</th>\n",
              "      <th>Game</th>\n",
              "      <th>Genre</th>\n",
              "    </tr>\n",
              "  </thead>\n",
              "  <tbody>\n",
              "    <tr>\n",
              "      <th>0</th>\n",
              "      <td>3883</td>\n",
              "      <td>Peter</td>\n",
              "      <td>Rasmussen</td>\n",
              "      <td>dupreeh</td>\n",
              "      <td>dk</td>\n",
              "      <td>1822989.41</td>\n",
              "      <td>Counter-Strike: Global Offensive</td>\n",
              "      <td>First-Person Shooter</td>\n",
              "    </tr>\n",
              "    <tr>\n",
              "      <th>1</th>\n",
              "      <td>3679</td>\n",
              "      <td>Andreas</td>\n",
              "      <td>Højsleth</td>\n",
              "      <td>Xyp9x</td>\n",
              "      <td>dk</td>\n",
              "      <td>1799288.57</td>\n",
              "      <td>Counter-Strike: Global Offensive</td>\n",
              "      <td>First-Person Shooter</td>\n",
              "    </tr>\n",
              "    <tr>\n",
              "      <th>2</th>\n",
              "      <td>3885</td>\n",
              "      <td>Nicolai</td>\n",
              "      <td>Reedtz</td>\n",
              "      <td>dev1ce</td>\n",
              "      <td>dk</td>\n",
              "      <td>1787489.88</td>\n",
              "      <td>Counter-Strike: Global Offensive</td>\n",
              "      <td>First-Person Shooter</td>\n",
              "    </tr>\n",
              "    <tr>\n",
              "      <th>3</th>\n",
              "      <td>3672</td>\n",
              "      <td>Lukas</td>\n",
              "      <td>Rossander</td>\n",
              "      <td>gla1ve</td>\n",
              "      <td>dk</td>\n",
              "      <td>1652350.75</td>\n",
              "      <td>Counter-Strike: Global Offensive</td>\n",
              "      <td>First-Person Shooter</td>\n",
              "    </tr>\n",
              "    <tr>\n",
              "      <th>4</th>\n",
              "      <td>17800</td>\n",
              "      <td>Emil</td>\n",
              "      <td>Reif</td>\n",
              "      <td>Magisk</td>\n",
              "      <td>dk</td>\n",
              "      <td>1416448.64</td>\n",
              "      <td>Counter-Strike: Global Offensive</td>\n",
              "      <td>First-Person Shooter</td>\n",
              "    </tr>\n",
              "  </tbody>\n",
              "</table>\n",
              "</div>"
            ],
            "text/plain": [
              "   PlayerId NameFirst  ...                              Game                 Genre\n",
              "0      3883     Peter  ...  Counter-Strike: Global Offensive  First-Person Shooter\n",
              "1      3679   Andreas  ...  Counter-Strike: Global Offensive  First-Person Shooter\n",
              "2      3885   Nicolai  ...  Counter-Strike: Global Offensive  First-Person Shooter\n",
              "3      3672     Lukas  ...  Counter-Strike: Global Offensive  First-Person Shooter\n",
              "4     17800      Emil  ...  Counter-Strike: Global Offensive  First-Person Shooter\n",
              "\n",
              "[5 rows x 8 columns]"
            ]
          },
          "metadata": {},
          "execution_count": 9
        }
      ]
    },
    {
      "cell_type": "markdown",
      "metadata": {
        "id": "EpHa6B-1sl-4"
      },
      "source": [
        "This data set gives us the highest earned players.\n",
        "We have information about the player, the total USD prize, the game and its genre.\n"
      ]
    },
    {
      "cell_type": "markdown",
      "metadata": {
        "id": "7BYL1lb0xUYZ"
      },
      "source": [
        "# Data shape"
      ]
    },
    {
      "cell_type": "markdown",
      "metadata": {
        "id": "PCEKtdJMxU4_"
      },
      "source": [
        "We can check how many columns and rows our data set contains."
      ]
    },
    {
      "cell_type": "code",
      "metadata": {
        "colab": {
          "base_uri": "https://localhost:8080/"
        },
        "id": "xiMI55EYpXB3",
        "outputId": "47217929-f47f-45ee-a14d-a67649e406b9"
      },
      "source": [
        "data.shape"
      ],
      "execution_count": null,
      "outputs": [
        {
          "output_type": "execute_result",
          "data": {
            "text/plain": [
              "(1000, 8)"
            ]
          },
          "metadata": {},
          "execution_count": 10
        }
      ]
    },
    {
      "cell_type": "markdown",
      "metadata": {
        "id": "d9pWb8Xcx7sc"
      },
      "source": [
        "We have 1000 observations (rows), ie. a cardinalitiy of 1000.\n",
        "\n",
        "We have 8 columns, ie. a dimensionality of 8.\n",
        "\n",
        "**Point about the cardinality**:\n",
        "\n",
        "It was asked to have several thousand on datapoint, here it has only 1 thousand, but I prefered to select this one rather that interests me than another one with more datapoint but less interest for me.\n",
        "\n"
      ]
    },
    {
      "cell_type": "markdown",
      "metadata": {
        "id": "qAH1TyR6xnRg"
      },
      "source": [
        "# Questions one may ask"
      ]
    },
    {
      "cell_type": "markdown",
      "metadata": {
        "id": "hbEXh4Qc11Uu"
      },
      "source": [
        "**Interesting questions:**\n",
        "\n",
        "* Who are the TOP 10 players?\n",
        "* Which countries have the highest total earned money?\n",
        "* Which game was the most frequent?\n",
        "* In Top 100 players, what genre is the more represented?\n",
        "\n",
        "These questions are all related to the fact of forming groups (ie. top 10, etc) with my data, so it would be more about clustering."
      ]
    },
    {
      "cell_type": "markdown",
      "metadata": {
        "id": "XxXq_rvpx4Gs"
      },
      "source": [
        "# And then ?"
      ]
    },
    {
      "cell_type": "markdown",
      "metadata": {
        "id": "WLKSqwZJu09z"
      },
      "source": [
        "* We can check the type of each column."
      ]
    },
    {
      "cell_type": "code",
      "metadata": {
        "colab": {
          "base_uri": "https://localhost:8080/"
        },
        "id": "QlvAQHBPs-Ob",
        "outputId": "7f3304ec-e5d3-4dc6-cfdd-4754dac2ae2e"
      },
      "source": [
        "data.dtypes"
      ],
      "execution_count": null,
      "outputs": [
        {
          "output_type": "execute_result",
          "data": {
            "text/plain": [
              "PlayerId           int64\n",
              "NameFirst         object\n",
              "NameLast          object\n",
              "CurrentHandle     object\n",
              "CountryCode       object\n",
              "TotalUSDPrize    float64\n",
              "Game              object\n",
              "Genre             object\n",
              "dtype: object"
            ]
          },
          "metadata": {},
          "execution_count": 14
        }
      ]
    },
    {
      "cell_type": "markdown",
      "metadata": {
        "id": "xkvnuyScvFOP"
      },
      "source": [
        "* We can delete in TotalUSDPrize columnn what is coming after the comma, because when we speak about millions of dollars or hundred of thousand of dollars we can approximate.\n",
        "\n",
        "* We can find if there is redundancy or outliers.\n",
        "\n",
        "* And of course we can sort the data in order to answer the questions."
      ]
    }
  ]
}